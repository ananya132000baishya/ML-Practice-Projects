{
  "nbformat": 4,
  "nbformat_minor": 0,
  "metadata": {
    "colab": {
      "name": " zs_aceathon_sourcecode.ipynb",
      "provenance": [],
      "collapsed_sections": []
    },
    "kernelspec": {
      "display_name": "Python 3",
      "language": "python",
      "name": "python3"
    },
    "language_info": {
      "codemirror_mode": {
        "name": "ipython",
        "version": 3
      },
      "file_extension": ".py",
      "mimetype": "text/x-python",
      "name": "python",
      "nbconvert_exporter": "python",
      "pygments_lexer": "ipython3",
      "version": "3.7.1"
    }
  },
  "cells": [
    {
      "cell_type": "markdown",
      "metadata": {
        "id": "zwaLb-bQqeN9"
      },
      "source": [
        "# Problem Statement: To analyze the data and predict the status of the animals when they leave the welfare center"
      ]
    },
    {
      "cell_type": "markdown",
      "metadata": {
        "id": "Uyw_T8-7qeOB"
      },
      "source": [
        "The Animal Welfare Center (AWC) is one of the oldest animal shelters in the United States that provide care and shelter to over 15,000 animals each year. To boost its effort to help and care for animals in need, the organization makes available its accumulated data and statistics as part of its Open Data Initiative. The data contains information about the intake and discharge of animals entering the Animal Welfare Center from the beginning of October 2013 to the present day.\n",
        "\n",
        "\n",
        "The AWC wants to make use of this data to help uncover useful insights that have the potential to save these animals’ lives. To make better decisions in the future regarding animal safety, AWC wants to analyze this data and predict the status of the animals when they leave the welfare center."
      ]
    },
    {
      "cell_type": "markdown",
      "metadata": {
        "id": "8fFsRvrtqeOP"
      },
      "source": [
        "**Problem Type**- Multiclass classification\n",
        "\n",
        "# **Steps taken-**\n",
        "\n",
        "1) Required libraries\n",
        "\n",
        "2) Loading datsets\n",
        "\n",
        "3) Checking for Missing values and Imputation\n",
        "\n",
        "4) Exploratory Data Analysis and Data Cleaning\n",
        "\n",
        "5) Analysis, identification of patterns\n",
        "\n",
        "6) Feature Engineering\n",
        "\n",
        "7) Encoding the categorical data (one hot encoding and label encoding)\n",
        "\n",
        "8) Modelling, tuning and prediction(Multiple iterations and subject to changes)\n",
        "\n",
        "9) Submission of results"
      ]
    },
    {
      "cell_type": "code",
      "metadata": {
        "id": "8cWNw_E2S3b7"
      },
      "source": [
        ""
      ],
      "execution_count": null,
      "outputs": []
    },
    {
      "cell_type": "markdown",
      "metadata": {
        "id": "VilMhm9cqeOP"
      },
      "source": [
        "**EVALUATION METRIC: f1-score**"
      ]
    },
    {
      "cell_type": "markdown",
      "metadata": {
        "id": "7eGB_Z7KqeOQ"
      },
      "source": [
        "# **DATA PREPROCESSING**"
      ]
    },
    {
      "cell_type": "markdown",
      "metadata": {
        "id": "DVwvbyydqeOQ"
      },
      "source": [
        "# 1. Required libraries\n",
        "\n",
        "I have used general libraries like pandas, malplotlib  for assembling, cleaning the data and most importantly libraries containing all the models"
      ]
    },
    {
      "cell_type": "code",
      "metadata": {
        "collapsed": true,
        "id": "dZruMJGDqeOR"
      },
      "source": [
        "#LOADING REQUIRED LIBRARIES\n",
        "#Data Visualization libraries\n",
        "import pandas as pd\n",
        "import seaborn as sns\n",
        "import numpy as np\n",
        "\n",
        "#Machine learning classification model libraries\n",
        "from xgboost import XGBClassifier\n",
        "from sklearn.linear_model import LogisticRegression\n",
        "from sklearn.ensemble import RandomForestClassifier\n",
        "from sklearn.ensemble import VotingClassifier\n",
        "from matplotlib import pyplot\n",
        "%matplotlib inline\n",
        "\n",
        "\n",
        "#Accuracy Check\n",
        "from sklearn.model_selection import cross_val_score\n",
        "\n",
        "#Encoders\n",
        "from sklearn.preprocessing import LabelEncoder, OneHotEncoder\n",
        "\n",
        "#Scalers\n",
        "from sklearn.preprocessing import StandardScaler\n",
        "\n",
        "#Metrices import\n",
        "from sklearn.metrics import confusion_matrix\n",
        "from sklearn.metrics import classification_report\n",
        "\n",
        "#Importing train, test split library\n",
        "from sklearn.model_selection import train_test_split\n",
        "\n",
        "# Libraries to test model on different thresholds\n",
        "from sklearn.metrics import accuracy_score\n",
        "from sklearn.metrics import f1_score\n",
        "\n",
        "#Metrices import\n",
        "from sklearn.metrics import confusion_matrix\n",
        "from sklearn.feature_selection import SelectFromModel\n",
        "from numpy import loadtxt\n",
        "from numpy import sort\n",
        "\n",
        "#Import warnings\n",
        "import warnings\n",
        "warnings.filterwarnings(\"ignore\")\n",
        "\n",
        "#Importing custom packages\n",
        "from sklearn.base import TransformerMixin\n",
        "\n",
        "#For proper display of all columns\n",
        "from IPython.display import display\n",
        "pd.options.display.max_columns = None"
      ],
      "execution_count": null,
      "outputs": []
    },
    {
      "cell_type": "markdown",
      "metadata": {
        "id": "ipibfFObqeOS"
      },
      "source": [
        "** Defining some customer functions for specific use**"
      ]
    },
    {
      "cell_type": "code",
      "metadata": {
        "collapsed": true,
        "id": "Yxv6_RX8qeOT"
      },
      "source": [
        "#Imputing the remaining missing variables\n",
        "class DataFrameImputer(TransformerMixin):\n",
        "\n",
        "    def __init__(self):\n",
        "        \"\"\"Impute missing values.\n",
        "\n",
        "        Columns of dtype object are imputed with the most frequent value \n",
        "        in column.\n",
        "\n",
        "        Columns of other types are imputed with mean of column.\n",
        "\n",
        "        \"\"\"\n",
        "    def fit(self, A, b=None):\n",
        "\n",
        "        self.fill = pd.Series([A[c].value_counts().index[0]\n",
        "            if A[c].dtype == np.dtype('O') else A[c].mean() for c in A],\n",
        "            index=A.columns)\n",
        "\n",
        "        return self\n",
        "\n",
        "    def transform(self, A, b=None):\n",
        "        return A.fillna(self.fill)"
      ],
      "execution_count": null,
      "outputs": []
    },
    {
      "cell_type": "markdown",
      "metadata": {
        "id": "dNqBY0iZqeOU"
      },
      "source": [
        " # 2. Loading datasets"
      ]
    },
    {
      "cell_type": "markdown",
      "metadata": {
        "id": "P96ORKDcqeOU"
      },
      "source": [
        "Lets have a quick look at the dataset:"
      ]
    },
    {
      "cell_type": "code",
      "metadata": {
        "collapsed": true,
        "id": "f4pF_lt7qeOU"
      },
      "source": [
        "ml_dataset_train= pd.read_csv('/content/train.csv')\n",
        "ml_dataset_test= pd.read_csv('/content/test.csv')"
      ],
      "execution_count": null,
      "outputs": []
    },
    {
      "cell_type": "code",
      "metadata": {
        "colab": {
          "base_uri": "https://localhost:8080/",
          "height": 439
        },
        "id": "EimKG20TqeOV",
        "outputId": "a522e60e-e908-4111-b988-a37b22c461d9"
      },
      "source": [
        "#Drawing a count plot of dependent variable to check the biasness of prediction in data present\n",
        "ax = ml_dataset_train['outcome_type'].value_counts().plot(kind='bar',figsize=(10,5),title=\"Frequency of each outcome type\")\n",
        "ax.set_xlabel(\"Outcome Type\")\n",
        "ax.set_ylabel(\"Frequency\")"
      ],
      "execution_count": null,
      "outputs": [
        {
          "output_type": "execute_result",
          "data": {
            "text/plain": [
              "Text(0, 0.5, 'Frequency')"
            ]
          },
          "metadata": {},
          "execution_count": 5
        },
        {
          "output_type": "display_data",
          "data": {
            "image/png": "[encoded data removed]",
            "text/plain": [
              "<Figure size 720x360 with 1 Axes>"
            ]
          },
          "metadata": {
            "needs_background": "light"
          }
        }
      ]
    },
    {
      "cell_type": "code",
      "metadata": {
        "colab": {
          "base_uri": "https://localhost:8080/"
        },
        "id": "uA8ezyZXqeOW",
        "outputId": "ba49a47a-a2a3-4b2c-c161-c680e189ace6"
      },
      "source": [
        "print(\"Percent Class Distribution\")\n",
        "print(ml_dataset_train['outcome_type'].value_counts(normalize= True)*100)"
      ],
      "execution_count": null,
      "outputs": [
        {
          "output_type": "stream",
          "name": "stdout",
          "text": [
            "Percent Class Distribution\n",
            "Return to Owner    25.047325\n",
            "Adoption           24.982422\n",
            "Transfer           20.017308\n",
            "Euthanasia          9.492130\n",
            "Died                5.576289\n",
            "Relocate            5.002975\n",
            "Missing             4.975932\n",
            "Rto-Adopt           4.602737\n",
            "Disposal            0.302883\n",
            "Name: outcome_type, dtype: float64\n"
          ]
        }
      ]
    },
    {
      "cell_type": "markdown",
      "metadata": {
        "id": "DX4MgImVqeOW"
      },
      "source": [
        "Data is highly biased. We need to select our train and test split carefully."
      ]
    },
    {
      "cell_type": "code",
      "metadata": {
        "collapsed": true,
        "id": "8KrBDvtgqeOX"
      },
      "source": [
        "#Loading the dataset\n",
        "X= pd.read_csv('/content/train.csv')"
      ],
      "execution_count": null,
      "outputs": []
    },
    {
      "cell_type": "markdown",
      "metadata": {
        "id": "bBhhycZIqeOX"
      },
      "source": [
        "# 3. Checking for Missing values and Imputation"
      ]
    },
    {
      "cell_type": "code",
      "metadata": {
        "colab": {
          "base_uri": "https://localhost:8080/",
          "height": 206
        },
        "id": "iPe-cTa9qeOY",
        "outputId": "7885f484-ce6b-43f7-eaad-313e7d30aced"
      },
      "source": [
        "#Missing data check\n",
        "total = X.isnull().sum().sort_values(ascending=False)\n",
        "percent = (X.isnull().sum()/X.isnull().count()).sort_values(ascending=False)\n",
        "missing_data = pd.concat([total, percent * 100], axis=1, keys=['Total', 'Percent(%)'])\n",
        "missing_data.head(5)"
      ],
      "execution_count": null,
      "outputs": [
        {
          "output_type": "execute_result",
          "data": {
            "text/html": [
              "\n",
              "  <div id=\"df-b16fcf60-2235-4f45-85bd-f64a1870472b\">\n",
              "    <div class=\"colab-df-container\">\n",
              "      <div>\n",
              "<style scoped>\n",
              "    .dataframe tbody tr th:only-of-type {\n",
              "        vertical-align: middle;\n",
              "    }\n",
              "\n",
              "    .dataframe tbody tr th {\n",
              "        vertical-align: top;\n",
              "    }\n",
              "\n",
              "    .dataframe thead th {\n",
              "        text-align: right;\n",
              "    }\n",
              "</style>\n",
              "<table border=\"1\" class=\"dataframe\">\n",
              "  <thead>\n",
              "    <tr style=\"text-align: right;\">\n",
              "      <th></th>\n",
              "      <th>Total</th>\n",
              "      <th>Percent(%)</th>\n",
              "    </tr>\n",
              "  </thead>\n",
              "  <tbody>\n",
              "    <tr>\n",
              "      <th>outcome_datetime</th>\n",
              "      <td>4419</td>\n",
              "      <td>20.514368</td>\n",
              "    </tr>\n",
              "    <tr>\n",
              "      <th>sex_upon_outcome</th>\n",
              "      <td>2</td>\n",
              "      <td>0.009285</td>\n",
              "    </tr>\n",
              "    <tr>\n",
              "      <th>outcome_type</th>\n",
              "      <td>1</td>\n",
              "      <td>0.004642</td>\n",
              "    </tr>\n",
              "    <tr>\n",
              "      <th>age_upon_outcome</th>\n",
              "      <td>1</td>\n",
              "      <td>0.004642</td>\n",
              "    </tr>\n",
              "    <tr>\n",
              "      <th>sex_upon_intake</th>\n",
              "      <td>1</td>\n",
              "      <td>0.004642</td>\n",
              "    </tr>\n",
              "  </tbody>\n",
              "</table>\n",
              "</div>\n",
              "      <button class=\"colab-df-convert\" onclick=\"convertToInteractive('df-b16fcf60-2235-4f45-85bd-f64a1870472b')\"\n",
              "              title=\"Convert this dataframe to an interactive table.\"\n",
              "              style=\"display:none;\">\n",
              "        \n",
              "  <svg xmlns=\"http://www.w3.org/2000/svg\" height=\"24px\"viewBox=\"0 0 24 24\"\n",
              "       width=\"24px\">\n",
              "    <path d=\"M0 0h24v24H0V0z\" fill=\"none\"/>\n",
              "    <path d=\"M18.56 5.44l.94 2.06.94-2.06 2.06-.94-2.06-.94-.94-2.06-.94 2.06-2.06.94zm-11 1L8.5 8.5l.94-2.06 2.06-.94-2.06-.94L8.5 2.5l-.94 2.06-2.06.94zm10 10l.94 2.06.94-2.06 2.06-.94-2.06-.94-.94-2.06-.94 2.06-2.06.94z\"/><path d=\"M17.41 7.96l-1.37-1.37c-.4-.4-.92-.59-1.43-.59-.52 0-1.04.2-1.43.59L10.3 9.45l-7.72 7.72c-.78.78-.78 2.05 0 2.83L4 21.41c.39.39.9.59 1.41.59.51 0 1.02-.2 1.41-.59l7.78-7.78 2.81-2.81c.8-.78.8-2.07 0-2.86zM5.41 20L4 18.59l7.72-7.72 1.47 1.35L5.41 20z\"/>\n",
              "  </svg>\n",
              "      </button>\n",
              "      \n",
              "  <style>\n",
              "    .colab-df-container {\n",
              "      display:flex;\n",
              "      flex-wrap:wrap;\n",
              "      gap: 12px;\n",
              "    }\n",
              "\n",
              "    .colab-df-convert {\n",
              "      background-color: #E8F0FE;\n",
              "      border: none;\n",
              "      border-radius: 50%;\n",
              "      cursor: pointer;\n",
              "      display: none;\n",
              "      fill: #1967D2;\n",
              "      height: 32px;\n",
              "      padding: 0 0 0 0;\n",
              "      width: 32px;\n",
              "    }\n",
              "\n",
              "    .colab-df-convert:hover {\n",
              "      background-color: #E2EBFA;\n",
              "      box-shadow: 0px 1px 2px rgba(60, 64, 67, 0.3), 0px 1px 3px 1px rgba(60, 64, 67, 0.15);\n",
              "      fill: #174EA6;\n",
              "    }\n",
              "\n",
              "    [theme=dark] .colab-df-convert {\n",
              "      background-color: #3B4455;\n",
              "      fill: #D2E3FC;\n",
              "    }\n",
              "\n",
              "    [theme=dark] .colab-df-convert:hover {\n",
              "      background-color: #434B5C;\n",
              "      box-shadow: 0px 1px 3px 1px rgba(0, 0, 0, 0.15);\n",
              "      filter: drop-shadow(0px 1px 2px rgba(0, 0, 0, 0.3));\n",
              "      fill: #FFFFFF;\n",
              "    }\n",
              "  </style>\n",
              "\n",
              "      <script>\n",
              "        const buttonEl =\n",
              "          document.querySelector('#df-b16fcf60-2235-4f45-85bd-f64a1870472b button.colab-df-convert');\n",
              "        buttonEl.style.display =\n",
              "          google.colab.kernel.accessAllowed ? 'block' : 'none';\n",
              "\n",
              "        async function convertToInteractive(key) {\n",
              "          const element = document.querySelector('#df-b16fcf60-2235-4f45-85bd-f64a1870472b');\n",
              "          const dataTable =\n",
              "            await google.colab.kernel.invokeFunction('convertToInteractive',\n",
              "                                                     [key], {});\n",
              "          if (!dataTable) return;\n",
              "\n",
              "          const docLinkHtml = 'Like what you see? Visit the ' +\n",
              "            '<a target=\"_blank\" href=https://colab.research.google.com/notebooks/data_table.ipynb>data table notebook</a>'\n",
              "            + ' to learn more about interactive tables.';\n",
              "          element.innerHTML = '';\n",
              "          dataTable['output_type'] = 'display_data';\n",
              "          await google.colab.output.renderOutput(dataTable, element);\n",
              "          const docLink = document.createElement('div');\n",
              "          docLink.innerHTML = docLinkHtml;\n",
              "          element.appendChild(docLink);\n",
              "        }\n",
              "      </script>\n",
              "    </div>\n",
              "  </div>\n",
              "  "
            ],
            "text/plain": [
              "                  Total  Percent(%)\n",
              "outcome_datetime   4419   20.514368\n",
              "sex_upon_outcome      2    0.009285\n",
              "outcome_type          1    0.004642\n",
              "age_upon_outcome      1    0.004642\n",
              "sex_upon_intake       1    0.004642"
            ]
          },
          "metadata": {},
          "execution_count": 8
        }
      ]
    },
    {
      "cell_type": "markdown",
      "metadata": {
        "id": "X-86Dt4GqeOY"
      },
      "source": [
        "Hence we will be dropping outcome_datetime as more than 15% that i selected as a threshold is missing.\n",
        "\n",
        "** \"outcome_datetime\" needs to be dropped remaining two missing values we can impute**"
      ]
    },
    {
      "cell_type": "code",
      "metadata": {
        "collapsed": true,
        "id": "G7C5OluQqeOZ"
      },
      "source": [
        "X = X.drop(['outcome_datetime'], axis  = 1)"
      ],
      "execution_count": null,
      "outputs": []
    },
    {
      "cell_type": "code",
      "metadata": {
        "collapsed": true,
        "id": "sy4gHz5pqeOZ"
      },
      "source": [
        "X = DataFrameImputer().fit_transform(pd.DataFrame(X))"
      ],
      "execution_count": null,
      "outputs": []
    },
    {
      "cell_type": "code",
      "metadata": {
        "colab": {
          "base_uri": "https://localhost:8080/"
        },
        "id": "pxENMxz7qeOZ",
        "outputId": "3a34b6f3-8a18-45cd-9ff5-419c642430af"
      },
      "source": [
        "print('Missing value in training set:', X.isnull().sum().max())"
      ],
      "execution_count": null,
      "outputs": [
        {
          "output_type": "stream",
          "name": "stdout",
          "text": [
            "Missing value in training set: 0\n"
          ]
        }
      ]
    },
    {
      "cell_type": "markdown",
      "metadata": {
        "id": "GxIhGflFqeOa"
      },
      "source": [
        "# 4. Exploratory Data Analysis and Data Cleaning"
      ]
    },
    {
      "cell_type": "markdown",
      "metadata": {
        "id": "KIwNaaRuqeOa"
      },
      "source": [
        "**Description of Numeric variable:**"
      ]
    },
    {
      "cell_type": "code",
      "metadata": {
        "colab": {
          "base_uri": "https://localhost:8080/",
          "height": 364
        },
        "id": "loqPLtBxqeOa",
        "outputId": "d7825015-64a6-45f7-ae83-80c15991a27c"
      },
      "source": [
        "display(X.describe())"
      ],
      "execution_count": null,
      "outputs": [
        {
          "output_type": "display_data",
          "data": {
            "text/html": [
              "\n",
              "  <div id=\"df-65de193e-7a6f-453a-8de9-f6f548cf94af\">\n",
              "    <div class=\"colab-df-container\">\n",
              "      <div>\n",
              "<style scoped>\n",
              "    .dataframe tbody tr th:only-of-type {\n",
              "        vertical-align: middle;\n",
              "    }\n",
              "\n",
              "    .dataframe tbody tr th {\n",
              "        vertical-align: top;\n",
              "    }\n",
              "\n",
              "    .dataframe thead th {\n",
              "        text-align: right;\n",
              "    }\n",
              "</style>\n",
              "<table border=\"1\" class=\"dataframe\">\n",
              "  <thead>\n",
              "    <tr style=\"text-align: right;\">\n",
              "      <th></th>\n",
              "      <th>dob_year</th>\n",
              "      <th>dob_month</th>\n",
              "      <th>count</th>\n",
              "      <th>age_upon_intake_(days)</th>\n",
              "      <th>age_upon_intake_(years)</th>\n",
              "      <th>intake_month</th>\n",
              "      <th>intake_year</th>\n",
              "      <th>intake_hour</th>\n",
              "      <th>intake_number</th>\n",
              "      <th>time_in_shelter_days</th>\n",
              "      <th>age_upon_outcome_(days)</th>\n",
              "      <th>age_upon_outcome_(years)</th>\n",
              "      <th>outcome_month</th>\n",
              "      <th>outcome_year</th>\n",
              "      <th>outcome_hour</th>\n",
              "      <th>outcome_number</th>\n",
              "    </tr>\n",
              "  </thead>\n",
              "  <tbody>\n",
              "    <tr>\n",
              "      <th>count</th>\n",
              "      <td>21541.000000</td>\n",
              "      <td>21541.000000</td>\n",
              "      <td>21541.0</td>\n",
              "      <td>21541.000000</td>\n",
              "      <td>21541.000000</td>\n",
              "      <td>21541.000000</td>\n",
              "      <td>21541.000000</td>\n",
              "      <td>21541.000000</td>\n",
              "      <td>21541.000000</td>\n",
              "      <td>21541.000000</td>\n",
              "      <td>21541.000000</td>\n",
              "      <td>21541.000000</td>\n",
              "      <td>21541.000000</td>\n",
              "      <td>21541.000000</td>\n",
              "      <td>21541.000000</td>\n",
              "      <td>21541.000000</td>\n",
              "    </tr>\n",
              "    <tr>\n",
              "      <th>mean</th>\n",
              "      <td>2011.234158</td>\n",
              "      <td>6.171348</td>\n",
              "      <td>1.0</td>\n",
              "      <td>991.105009</td>\n",
              "      <td>2.715356</td>\n",
              "      <td>6.478087</td>\n",
              "      <td>2014.083798</td>\n",
              "      <td>13.584819</td>\n",
              "      <td>1.150093</td>\n",
              "      <td>16.788162</td>\n",
              "      <td>1004.314253</td>\n",
              "      <td>2.751546</td>\n",
              "      <td>6.572238</td>\n",
              "      <td>2014.117549</td>\n",
              "      <td>14.593222</td>\n",
              "      <td>1.150093</td>\n",
              "    </tr>\n",
              "    <tr>\n",
              "      <th>std</th>\n",
              "      <td>3.118511</td>\n",
              "      <td>3.262349</td>\n",
              "      <td>0.0</td>\n",
              "      <td>1194.531647</td>\n",
              "      <td>3.272689</td>\n",
              "      <td>3.341591</td>\n",
              "      <td>0.907816</td>\n",
              "      <td>3.237088</td>\n",
              "      <td>0.489241</td>\n",
              "      <td>48.489048</td>\n",
              "      <td>1197.414179</td>\n",
              "      <td>3.280587</td>\n",
              "      <td>3.350983</td>\n",
              "      <td>0.909518</td>\n",
              "      <td>3.036132</td>\n",
              "      <td>0.489241</td>\n",
              "    </tr>\n",
              "    <tr>\n",
              "      <th>min</th>\n",
              "      <td>1992.000000</td>\n",
              "      <td>1.000000</td>\n",
              "      <td>1.0</td>\n",
              "      <td>0.000000</td>\n",
              "      <td>0.000000</td>\n",
              "      <td>1.000000</td>\n",
              "      <td>2013.000000</td>\n",
              "      <td>0.000000</td>\n",
              "      <td>1.000000</td>\n",
              "      <td>0.000694</td>\n",
              "      <td>0.000000</td>\n",
              "      <td>0.000000</td>\n",
              "      <td>1.000000</td>\n",
              "      <td>2013.000000</td>\n",
              "      <td>0.000000</td>\n",
              "      <td>1.000000</td>\n",
              "    </tr>\n",
              "    <tr>\n",
              "      <th>25%</th>\n",
              "      <td>2010.000000</td>\n",
              "      <td>4.000000</td>\n",
              "      <td>1.0</td>\n",
              "      <td>120.000000</td>\n",
              "      <td>0.328767</td>\n",
              "      <td>4.000000</td>\n",
              "      <td>2014.000000</td>\n",
              "      <td>11.000000</td>\n",
              "      <td>1.000000</td>\n",
              "      <td>1.022222</td>\n",
              "      <td>120.000000</td>\n",
              "      <td>0.328767</td>\n",
              "      <td>4.000000</td>\n",
              "      <td>2014.000000</td>\n",
              "      <td>13.000000</td>\n",
              "      <td>1.000000</td>\n",
              "    </tr>\n",
              "    <tr>\n",
              "      <th>50%</th>\n",
              "      <td>2012.000000</td>\n",
              "      <td>6.000000</td>\n",
              "      <td>1.0</td>\n",
              "      <td>365.000000</td>\n",
              "      <td>1.000000</td>\n",
              "      <td>6.000000</td>\n",
              "      <td>2014.000000</td>\n",
              "      <td>13.000000</td>\n",
              "      <td>1.000000</td>\n",
              "      <td>4.865278</td>\n",
              "      <td>365.000000</td>\n",
              "      <td>1.000000</td>\n",
              "      <td>7.000000</td>\n",
              "      <td>2014.000000</td>\n",
              "      <td>15.000000</td>\n",
              "      <td>1.000000</td>\n",
              "    </tr>\n",
              "    <tr>\n",
              "      <th>75%</th>\n",
              "      <td>2013.000000</td>\n",
              "      <td>9.000000</td>\n",
              "      <td>1.0</td>\n",
              "      <td>1460.000000</td>\n",
              "      <td>4.000000</td>\n",
              "      <td>10.000000</td>\n",
              "      <td>2014.000000</td>\n",
              "      <td>16.000000</td>\n",
              "      <td>1.000000</td>\n",
              "      <td>12.893750</td>\n",
              "      <td>1460.000000</td>\n",
              "      <td>4.000000</td>\n",
              "      <td>9.000000</td>\n",
              "      <td>2014.000000</td>\n",
              "      <td>17.000000</td>\n",
              "      <td>1.000000</td>\n",
              "    </tr>\n",
              "    <tr>\n",
              "      <th>max</th>\n",
              "      <td>2016.000000</td>\n",
              "      <td>12.000000</td>\n",
              "      <td>1.0</td>\n",
              "      <td>8030.000000</td>\n",
              "      <td>22.000000</td>\n",
              "      <td>12.000000</td>\n",
              "      <td>2018.000000</td>\n",
              "      <td>23.000000</td>\n",
              "      <td>8.000000</td>\n",
              "      <td>1606.194444</td>\n",
              "      <td>8030.000000</td>\n",
              "      <td>22.000000</td>\n",
              "      <td>12.000000</td>\n",
              "      <td>2018.000000</td>\n",
              "      <td>23.000000</td>\n",
              "      <td>8.000000</td>\n",
              "    </tr>\n",
              "  </tbody>\n",
              "</table>\n",
              "</div>\n",
              "      <button class=\"colab-df-convert\" onclick=\"convertToInteractive('df-65de193e-7a6f-453a-8de9-f6f548cf94af')\"\n",
              "              title=\"Convert this dataframe to an interactive table.\"\n",
              "              style=\"display:none;\">\n",
              "        \n",
              "  <svg xmlns=\"http://www.w3.org/2000/svg\" height=\"24px\"viewBox=\"0 0 24 24\"\n",
              "       width=\"24px\">\n",
              "    <path d=\"M0 0h24v24H0V0z\" fill=\"none\"/>\n",
              "    <path d=\"M18.56 5.44l.94 2.06.94-2.06 2.06-.94-2.06-.94-.94-2.06-.94 2.06-2.06.94zm-11 1L8.5 8.5l.94-2.06 2.06-.94-2.06-.94L8.5 2.5l-.94 2.06-2.06.94zm10 10l.94 2.06.94-2.06 2.06-.94-2.06-.94-.94-2.06-.94 2.06-2.06.94z\"/><path d=\"M17.41 7.96l-1.37-1.37c-.4-.4-.92-.59-1.43-.59-.52 0-1.04.2-1.43.59L10.3 9.45l-7.72 7.72c-.78.78-.78 2.05 0 2.83L4 21.41c.39.39.9.59 1.41.59.51 0 1.02-.2 1.41-.59l7.78-7.78 2.81-2.81c.8-.78.8-2.07 0-2.86zM5.41 20L4 18.59l7.72-7.72 1.47 1.35L5.41 20z\"/>\n",
              "  </svg>\n",
              "      </button>\n",
              "      \n",
              "  <style>\n",
              "    .colab-df-container {\n",
              "      display:flex;\n",
              "      flex-wrap:wrap;\n",
              "      gap: 12px;\n",
              "    }\n",
              "\n",
              "    .colab-df-convert {\n",
              "      background-color: #E8F0FE;\n",
              "      border: none;\n",
              "      border-radius: 50%;\n",
              "      cursor: pointer;\n",
              "      display: none;\n",
              "      fill: #1967D2;\n",
              "      height: 32px;\n",
              "      padding: 0 0 0 0;\n",
              "      width: 32px;\n",
              "    }\n",
              "\n",
              "    .colab-df-convert:hover {\n",
              "      background-color: #E2EBFA;\n",
              "      box-shadow: 0px 1px 2px rgba(60, 64, 67, 0.3), 0px 1px 3px 1px rgba(60, 64, 67, 0.15);\n",
              "      fill: #174EA6;\n",
              "    }\n",
              "\n",
              "    [theme=dark] .colab-df-convert {\n",
              "      background-color: #3B4455;\n",
              "      fill: #D2E3FC;\n",
              "    }\n",
              "\n",
              "    [theme=dark] .colab-df-convert:hover {\n",
              "      background-color: #434B5C;\n",
              "      box-shadow: 0px 1px 3px 1px rgba(0, 0, 0, 0.15);\n",
              "      filter: drop-shadow(0px 1px 2px rgba(0, 0, 0, 0.3));\n",
              "      fill: #FFFFFF;\n",
              "    }\n",
              "  </style>\n",
              "\n",
              "      <script>\n",
              "        const buttonEl =\n",
              "          document.querySelector('#df-65de193e-7a6f-453a-8de9-f6f548cf94af button.colab-df-convert');\n",
              "        buttonEl.style.display =\n",
              "          google.colab.kernel.accessAllowed ? 'block' : 'none';\n",
              "\n",
              "        async function convertToInteractive(key) {\n",
              "          const element = document.querySelector('#df-65de193e-7a6f-453a-8de9-f6f548cf94af');\n",
              "          const dataTable =\n",
              "            await google.colab.kernel.invokeFunction('convertToInteractive',\n",
              "                                                     [key], {});\n",
              "          if (!dataTable) return;\n",
              "\n",
              "          const docLinkHtml = 'Like what you see? Visit the ' +\n",
              "            '<a target=\"_blank\" href=https://colab.research.google.com/notebooks/data_table.ipynb>data table notebook</a>'\n",
              "            + ' to learn more about interactive tables.';\n",
              "          element.innerHTML = '';\n",
              "          dataTable['output_type'] = 'display_data';\n",
              "          await google.colab.output.renderOutput(dataTable, element);\n",
              "          const docLink = document.createElement('div');\n",
              "          docLink.innerHTML = docLinkHtml;\n",
              "          element.appendChild(docLink);\n",
              "        }\n",
              "      </script>\n",
              "    </div>\n",
              "  </div>\n",
              "  "
            ],
            "text/plain": [
              "           dob_year     dob_month    count  age_upon_intake_(days)  \\\n",
              "count  21541.000000  21541.000000  21541.0            21541.000000   \n",
              "mean    2011.234158      6.171348      1.0              991.105009   \n",
              "std        3.118511      3.262349      0.0             1194.531647   \n",
              "min     1992.000000      1.000000      1.0                0.000000   \n",
              "25%     2010.000000      4.000000      1.0              120.000000   \n",
              "50%     2012.000000      6.000000      1.0              365.000000   \n",
              "75%     2013.000000      9.000000      1.0             1460.000000   \n",
              "max     2016.000000     12.000000      1.0             8030.000000   \n",
              "\n",
              "       age_upon_intake_(years)  intake_month   intake_year   intake_hour  \\\n",
              "count             21541.000000  21541.000000  21541.000000  21541.000000   \n",
              "mean                  2.715356      6.478087   2014.083798     13.584819   \n",
              "std                   3.272689      3.341591      0.907816      3.237088   \n",
              "min                   0.000000      1.000000   2013.000000      0.000000   \n",
              "25%                   0.328767      4.000000   2014.000000     11.000000   \n",
              "50%                   1.000000      6.000000   2014.000000     13.000000   \n",
              "75%                   4.000000     10.000000   2014.000000     16.000000   \n",
              "max                  22.000000     12.000000   2018.000000     23.000000   \n",
              "\n",
              "       intake_number  time_in_shelter_days  age_upon_outcome_(days)  \\\n",
              "count   21541.000000          21541.000000             21541.000000   \n",
              "mean        1.150093             16.788162              1004.314253   \n",
              "std         0.489241             48.489048              1197.414179   \n",
              "min         1.000000              0.000694                 0.000000   \n",
              "25%         1.000000              1.022222               120.000000   \n",
              "50%         1.000000              4.865278               365.000000   \n",
              "75%         1.000000             12.893750              1460.000000   \n",
              "max         8.000000           1606.194444              8030.000000   \n",
              "\n",
              "       age_upon_outcome_(years)  outcome_month  outcome_year  outcome_hour  \\\n",
              "count              21541.000000   21541.000000  21541.000000  21541.000000   \n",
              "mean                   2.751546       6.572238   2014.117549     14.593222   \n",
              "std                    3.280587       3.350983      0.909518      3.036132   \n",
              "min                    0.000000       1.000000   2013.000000      0.000000   \n",
              "25%                    0.328767       4.000000   2014.000000     13.000000   \n",
              "50%                    1.000000       7.000000   2014.000000     15.000000   \n",
              "75%                    4.000000       9.000000   2014.000000     17.000000   \n",
              "max                   22.000000      12.000000   2018.000000     23.000000   \n",
              "\n",
              "       outcome_number  \n",
              "count    21541.000000  \n",
              "mean         1.150093  \n",
              "std          0.489241  \n",
              "min          1.000000  \n",
              "25%          1.000000  \n",
              "50%          1.000000  \n",
              "75%          1.000000  \n",
              "max          8.000000  "
            ]
          },
          "metadata": {}
        }
      ]
    },
    {
      "cell_type": "markdown",
      "metadata": {
        "id": "Xg25SpFCqeOb"
      },
      "source": [
        "Couple of quick observations:\n",
        "\n",
        "1. The variable **\"count\"** is having std 0 and min and max 1, implies it is a constant column having digit 1 hence we will be **dropping** this variable.\n",
        "\n",
        "2. Also the statistics of **\"intake_number\"** and **\"outcome_number\"** looks similar hence lets quickly check and take a call."
      ]
    },
    {
      "cell_type": "code",
      "metadata": {
        "colab": {
          "base_uri": "https://localhost:8080/",
          "height": 363
        },
        "id": "sd1jNs7NqeOb",
        "outputId": "8fd13404-be9b-4502-a412-31f1f00cc9a1"
      },
      "source": [
        "qck_check= pd.DataFrame(X.groupby(['intake_number', 'outcome_number']).size())\n",
        "display(qck_check)"
      ],
      "execution_count": null,
      "outputs": [
        {
          "output_type": "display_data",
          "data": {
            "text/html": [
              "\n",
              "  <div id=\"df-e04a1082-0af6-43c2-adcf-44b433b84a2f\">\n",
              "    <div class=\"colab-df-container\">\n",
              "      <div>\n",
              "<style scoped>\n",
              "    .dataframe tbody tr th:only-of-type {\n",
              "        vertical-align: middle;\n",
              "    }\n",
              "\n",
              "    .dataframe tbody tr th {\n",
              "        vertical-align: top;\n",
              "    }\n",
              "\n",
              "    .dataframe thead th {\n",
              "        text-align: right;\n",
              "    }\n",
              "</style>\n",
              "<table border=\"1\" class=\"dataframe\">\n",
              "  <thead>\n",
              "    <tr style=\"text-align: right;\">\n",
              "      <th></th>\n",
              "      <th></th>\n",
              "      <th>0</th>\n",
              "    </tr>\n",
              "    <tr>\n",
              "      <th>intake_number</th>\n",
              "      <th>outcome_number</th>\n",
              "      <th></th>\n",
              "    </tr>\n",
              "  </thead>\n",
              "  <tbody>\n",
              "    <tr>\n",
              "      <th>1.000000</th>\n",
              "      <th>1.000000</th>\n",
              "      <td>19128</td>\n",
              "    </tr>\n",
              "    <tr>\n",
              "      <th>1.150093</th>\n",
              "      <th>1.150093</th>\n",
              "      <td>1</td>\n",
              "    </tr>\n",
              "    <tr>\n",
              "      <th>2.000000</th>\n",
              "      <th>2.000000</th>\n",
              "      <td>1849</td>\n",
              "    </tr>\n",
              "    <tr>\n",
              "      <th>3.000000</th>\n",
              "      <th>3.000000</th>\n",
              "      <td>392</td>\n",
              "    </tr>\n",
              "    <tr>\n",
              "      <th>4.000000</th>\n",
              "      <th>4.000000</th>\n",
              "      <td>113</td>\n",
              "    </tr>\n",
              "    <tr>\n",
              "      <th>5.000000</th>\n",
              "      <th>5.000000</th>\n",
              "      <td>37</td>\n",
              "    </tr>\n",
              "    <tr>\n",
              "      <th>6.000000</th>\n",
              "      <th>6.000000</th>\n",
              "      <td>14</td>\n",
              "    </tr>\n",
              "    <tr>\n",
              "      <th>7.000000</th>\n",
              "      <th>7.000000</th>\n",
              "      <td>6</td>\n",
              "    </tr>\n",
              "    <tr>\n",
              "      <th>8.000000</th>\n",
              "      <th>8.000000</th>\n",
              "      <td>1</td>\n",
              "    </tr>\n",
              "  </tbody>\n",
              "</table>\n",
              "</div>\n",
              "      <button class=\"colab-df-convert\" onclick=\"convertToInteractive('df-e04a1082-0af6-43c2-adcf-44b433b84a2f')\"\n",
              "              title=\"Convert this dataframe to an interactive table.\"\n",
              "              style=\"display:none;\">\n",
              "        \n",
              "  <svg xmlns=\"http://www.w3.org/2000/svg\" height=\"24px\"viewBox=\"0 0 24 24\"\n",
              "       width=\"24px\">\n",
              "    <path d=\"M0 0h24v24H0V0z\" fill=\"none\"/>\n",
              "    <path d=\"M18.56 5.44l.94 2.06.94-2.06 2.06-.94-2.06-.94-.94-2.06-.94 2.06-2.06.94zm-11 1L8.5 8.5l.94-2.06 2.06-.94-2.06-.94L8.5 2.5l-.94 2.06-2.06.94zm10 10l.94 2.06.94-2.06 2.06-.94-2.06-.94-.94-2.06-.94 2.06-2.06.94z\"/><path d=\"M17.41 7.96l-1.37-1.37c-.4-.4-.92-.59-1.43-.59-.52 0-1.04.2-1.43.59L10.3 9.45l-7.72 7.72c-.78.78-.78 2.05 0 2.83L4 21.41c.39.39.9.59 1.41.59.51 0 1.02-.2 1.41-.59l7.78-7.78 2.81-2.81c.8-.78.8-2.07 0-2.86zM5.41 20L4 18.59l7.72-7.72 1.47 1.35L5.41 20z\"/>\n",
              "  </svg>\n",
              "      </button>\n",
              "      \n",
              "  <style>\n",
              "    .colab-df-container {\n",
              "      display:flex;\n",
              "      flex-wrap:wrap;\n",
              "      gap: 12px;\n",
              "    }\n",
              "\n",
              "    .colab-df-convert {\n",
              "      background-color: #E8F0FE;\n",
              "      border: none;\n",
              "      border-radius: 50%;\n",
              "      cursor: pointer;\n",
              "      display: none;\n",
              "      fill: #1967D2;\n",
              "      height: 32px;\n",
              "      padding: 0 0 0 0;\n",
              "      width: 32px;\n",
              "    }\n",
              "\n",
              "    .colab-df-convert:hover {\n",
              "      background-color: #E2EBFA;\n",
              "      box-shadow: 0px 1px 2px rgba(60, 64, 67, 0.3), 0px 1px 3px 1px rgba(60, 64, 67, 0.15);\n",
              "      fill: #174EA6;\n",
              "    }\n",
              "\n",
              "    [theme=dark] .colab-df-convert {\n",
              "      background-color: #3B4455;\n",
              "      fill: #D2E3FC;\n",
              "    }\n",
              "\n",
              "    [theme=dark] .colab-df-convert:hover {\n",
              "      background-color: #434B5C;\n",
              "      box-shadow: 0px 1px 3px 1px rgba(0, 0, 0, 0.15);\n",
              "      filter: drop-shadow(0px 1px 2px rgba(0, 0, 0, 0.3));\n",
              "      fill: #FFFFFF;\n",
              "    }\n",
              "  </style>\n",
              "\n",
              "      <script>\n",
              "        const buttonEl =\n",
              "          document.querySelector('#df-e04a1082-0af6-43c2-adcf-44b433b84a2f button.colab-df-convert');\n",
              "        buttonEl.style.display =\n",
              "          google.colab.kernel.accessAllowed ? 'block' : 'none';\n",
              "\n",
              "        async function convertToInteractive(key) {\n",
              "          const element = document.querySelector('#df-e04a1082-0af6-43c2-adcf-44b433b84a2f');\n",
              "          const dataTable =\n",
              "            await google.colab.kernel.invokeFunction('convertToInteractive',\n",
              "                                                     [key], {});\n",
              "          if (!dataTable) return;\n",
              "\n",
              "          const docLinkHtml = 'Like what you see? Visit the ' +\n",
              "            '<a target=\"_blank\" href=https://colab.research.google.com/notebooks/data_table.ipynb>data table notebook</a>'\n",
              "            + ' to learn more about interactive tables.';\n",
              "          element.innerHTML = '';\n",
              "          dataTable['output_type'] = 'display_data';\n",
              "          await google.colab.output.renderOutput(dataTable, element);\n",
              "          const docLink = document.createElement('div');\n",
              "          docLink.innerHTML = docLinkHtml;\n",
              "          element.appendChild(docLink);\n",
              "        }\n",
              "      </script>\n",
              "    </div>\n",
              "  </div>\n",
              "  "
            ],
            "text/plain": [
              "                                  0\n",
              "intake_number outcome_number       \n",
              "1.000000      1.000000        19128\n",
              "1.150093      1.150093            1\n",
              "2.000000      2.000000         1849\n",
              "3.000000      3.000000          392\n",
              "4.000000      4.000000          113\n",
              "5.000000      5.000000           37\n",
              "6.000000      6.000000           14\n",
              "7.000000      7.000000            6\n",
              "8.000000      8.000000            1"
            ]
          },
          "metadata": {}
        }
      ]
    },
    {
      "cell_type": "markdown",
      "metadata": {
        "id": "M9GcdH1oqeOb"
      },
      "source": [
        "This implies **\"intake_number\"** and **\"outcome_number\"** are **duplicate columns** hence we will **drop** anyone of the variable, **lets drop \"outcome_number\"** ."
      ]
    },
    {
      "cell_type": "markdown",
      "metadata": {
        "id": "0oIenZyAqeOb"
      },
      "source": [
        "Applying quick eda observations i.e. to drop outcome_number and count column:"
      ]
    },
    {
      "cell_type": "code",
      "metadata": {
        "colab": {
          "base_uri": "https://localhost:8080/"
        },
        "id": "kY6LLglEqeOc",
        "outputId": "4e335d46-2a02-4343-be4a-581c9615f2b2"
      },
      "source": [
        "X = X.drop(['count', 'outcome_number'], axis = 1)\n",
        "X.shape"
      ],
      "execution_count": null,
      "outputs": [
        {
          "output_type": "execute_result",
          "data": {
            "text/plain": [
              "(21541, 34)"
            ]
          },
          "metadata": {},
          "execution_count": 14
        }
      ]
    },
    {
      "cell_type": "markdown",
      "metadata": {
        "id": "AdgYmu2TqeOc"
      },
      "source": [
        "**Description of Categorical variable**:"
      ]
    },
    {
      "cell_type": "code",
      "metadata": {
        "colab": {
          "base_uri": "https://localhost:8080/",
          "height": 273
        },
        "id": "cq7nchqTqeOc",
        "outputId": "6dc98281-ecab-4e32-ea32-814751463a09"
      },
      "source": [
        "X.describe(include = ['O'])"
      ],
      "execution_count": null,
      "outputs": [
        {
          "output_type": "execute_result",
          "data": {
            "text/html": [
              "\n",
              "  <div id=\"df-5c3d77c7-8af8-4162-ab7b-646b2263ca8a\">\n",
              "    <div class=\"colab-df-container\">\n",
              "      <div>\n",
              "<style scoped>\n",
              "    .dataframe tbody tr th:only-of-type {\n",
              "        vertical-align: middle;\n",
              "    }\n",
              "\n",
              "    .dataframe tbody tr th {\n",
              "        vertical-align: top;\n",
              "    }\n",
              "\n",
              "    .dataframe thead th {\n",
              "        text-align: right;\n",
              "    }\n",
              "</style>\n",
              "<table border=\"1\" class=\"dataframe\">\n",
              "  <thead>\n",
              "    <tr style=\"text-align: right;\">\n",
              "      <th></th>\n",
              "      <th>animal_id_outcome</th>\n",
              "      <th>age_upon_intake</th>\n",
              "      <th>animal_type</th>\n",
              "      <th>breed</th>\n",
              "      <th>color</th>\n",
              "      <th>intake_condition</th>\n",
              "      <th>intake_type</th>\n",
              "      <th>sex_upon_intake</th>\n",
              "      <th>age_upon_intake_age_group</th>\n",
              "      <th>intake_datetime</th>\n",
              "      <th>intake_monthyear</th>\n",
              "      <th>intake_weekday</th>\n",
              "      <th>time_in_shelter</th>\n",
              "      <th>age_upon_outcome</th>\n",
              "      <th>date_of_birth</th>\n",
              "      <th>sex_upon_outcome</th>\n",
              "      <th>age_upon_outcome_age_group</th>\n",
              "      <th>outcome_monthyear</th>\n",
              "      <th>outcome_weekday</th>\n",
              "      <th>outcome_type</th>\n",
              "    </tr>\n",
              "  </thead>\n",
              "  <tbody>\n",
              "    <tr>\n",
              "      <th>count</th>\n",
              "      <td>21541</td>\n",
              "      <td>21541</td>\n",
              "      <td>21541</td>\n",
              "      <td>21541</td>\n",
              "      <td>21541</td>\n",
              "      <td>21541</td>\n",
              "      <td>21541</td>\n",
              "      <td>21541</td>\n",
              "      <td>21541</td>\n",
              "      <td>21541</td>\n",
              "      <td>21541</td>\n",
              "      <td>21541</td>\n",
              "      <td>21541</td>\n",
              "      <td>21541</td>\n",
              "      <td>21541</td>\n",
              "      <td>21541</td>\n",
              "      <td>21541</td>\n",
              "      <td>21541</td>\n",
              "      <td>21541</td>\n",
              "      <td>21541</td>\n",
              "    </tr>\n",
              "    <tr>\n",
              "      <th>unique</th>\n",
              "      <td>19122</td>\n",
              "      <td>45</td>\n",
              "      <td>4</td>\n",
              "      <td>1289</td>\n",
              "      <td>348</td>\n",
              "      <td>8</td>\n",
              "      <td>5</td>\n",
              "      <td>5</td>\n",
              "      <td>9</td>\n",
              "      <td>16064</td>\n",
              "      <td>54</td>\n",
              "      <td>7</td>\n",
              "      <td>12224</td>\n",
              "      <td>45</td>\n",
              "      <td>3830</td>\n",
              "      <td>5</td>\n",
              "      <td>9</td>\n",
              "      <td>55</td>\n",
              "      <td>7</td>\n",
              "      <td>9</td>\n",
              "    </tr>\n",
              "    <tr>\n",
              "      <th>top</th>\n",
              "      <td>A616444</td>\n",
              "      <td>1 year</td>\n",
              "      <td>Dog</td>\n",
              "      <td>Domestic Shorthair Mix</td>\n",
              "      <td>Black/White</td>\n",
              "      <td>Normal</td>\n",
              "      <td>Stray</td>\n",
              "      <td>Intact Male</td>\n",
              "      <td>(-0.025, 2.5]</td>\n",
              "      <td>2014-07-09 12:58:00</td>\n",
              "      <td>2014-05</td>\n",
              "      <td>Saturday</td>\n",
              "      <td>0 days 00:19:00.000000000</td>\n",
              "      <td>1 year</td>\n",
              "      <td>2014-04-21 00:00:00</td>\n",
              "      <td>Neutered Male</td>\n",
              "      <td>(-0.025, 2.5]</td>\n",
              "      <td>2014-07</td>\n",
              "      <td>Saturday</td>\n",
              "      <td>Adoption</td>\n",
              "    </tr>\n",
              "    <tr>\n",
              "      <th>freq</th>\n",
              "      <td>8</td>\n",
              "      <td>3311</td>\n",
              "      <td>13386</td>\n",
              "      <td>5335</td>\n",
              "      <td>2219</td>\n",
              "      <td>18734</td>\n",
              "      <td>14417</td>\n",
              "      <td>6098</td>\n",
              "      <td>13931</td>\n",
              "      <td>63</td>\n",
              "      <td>1957</td>\n",
              "      <td>3327</td>\n",
              "      <td>33</td>\n",
              "      <td>3345</td>\n",
              "      <td>79</td>\n",
              "      <td>8186</td>\n",
              "      <td>13867</td>\n",
              "      <td>2073</td>\n",
              "      <td>3484</td>\n",
              "      <td>5417</td>\n",
              "    </tr>\n",
              "  </tbody>\n",
              "</table>\n",
              "</div>\n",
              "      <button class=\"colab-df-convert\" onclick=\"convertToInteractive('df-5c3d77c7-8af8-4162-ab7b-646b2263ca8a')\"\n",
              "              title=\"Convert this dataframe to an interactive table.\"\n",
              "              style=\"display:none;\">\n",
              "        \n",
              "  <svg xmlns=\"http://www.w3.org/2000/svg\" height=\"24px\"viewBox=\"0 0 24 24\"\n",
              "       width=\"24px\">\n",
              "    <path d=\"M0 0h24v24H0V0z\" fill=\"none\"/>\n",
              "    <path d=\"M18.56 5.44l.94 2.06.94-2.06 2.06-.94-2.06-.94-.94-2.06-.94 2.06-2.06.94zm-11 1L8.5 8.5l.94-2.06 2.06-.94-2.06-.94L8.5 2.5l-.94 2.06-2.06.94zm10 10l.94 2.06.94-2.06 2.06-.94-2.06-.94-.94-2.06-.94 2.06-2.06.94z\"/><path d=\"M17.41 7.96l-1.37-1.37c-.4-.4-.92-.59-1.43-.59-.52 0-1.04.2-1.43.59L10.3 9.45l-7.72 7.72c-.78.78-.78 2.05 0 2.83L4 21.41c.39.39.9.59 1.41.59.51 0 1.02-.2 1.41-.59l7.78-7.78 2.81-2.81c.8-.78.8-2.07 0-2.86zM5.41 20L4 18.59l7.72-7.72 1.47 1.35L5.41 20z\"/>\n",
              "  </svg>\n",
              "      </button>\n",
              "      \n",
              "  <style>\n",
              "    .colab-df-container {\n",
              "      display:flex;\n",
              "      flex-wrap:wrap;\n",
              "      gap: 12px;\n",
              "    }\n",
              "\n",
              "    .colab-df-convert {\n",
              "      background-color: #E8F0FE;\n",
              "      border: none;\n",
              "      border-radius: 50%;\n",
              "      cursor: pointer;\n",
              "      display: none;\n",
              "      fill: #1967D2;\n",
              "      height: 32px;\n",
              "      padding: 0 0 0 0;\n",
              "      width: 32px;\n",
              "    }\n",
              "\n",
              "    .colab-df-convert:hover {\n",
              "      background-color: #E2EBFA;\n",
              "      box-shadow: 0px 1px 2px rgba(60, 64, 67, 0.3), 0px 1px 3px 1px rgba(60, 64, 67, 0.15);\n",
              "      fill: #174EA6;\n",
              "    }\n",
              "\n",
              "    [theme=dark] .colab-df-convert {\n",
              "      background-color: #3B4455;\n",
              "      fill: #D2E3FC;\n",
              "    }\n",
              "\n",
              "    [theme=dark] .colab-df-convert:hover {\n",
              "      background-color: #434B5C;\n",
              "      box-shadow: 0px 1px 3px 1px rgba(0, 0, 0, 0.15);\n",
              "      filter: drop-shadow(0px 1px 2px rgba(0, 0, 0, 0.3));\n",
              "      fill: #FFFFFF;\n",
              "    }\n",
              "  </style>\n",
              "\n",
              "      <script>\n",
              "        const buttonEl =\n",
              "          document.querySelector('#df-5c3d77c7-8af8-4162-ab7b-646b2263ca8a button.colab-df-convert');\n",
              "        buttonEl.style.display =\n",
              "          google.colab.kernel.accessAllowed ? 'block' : 'none';\n",
              "\n",
              "        async function convertToInteractive(key) {\n",
              "          const element = document.querySelector('#df-5c3d77c7-8af8-4162-ab7b-646b2263ca8a');\n",
              "          const dataTable =\n",
              "            await google.colab.kernel.invokeFunction('convertToInteractive',\n",
              "                                                     [key], {});\n",
              "          if (!dataTable) return;\n",
              "\n",
              "          const docLinkHtml = 'Like what you see? Visit the ' +\n",
              "            '<a target=\"_blank\" href=https://colab.research.google.com/notebooks/data_table.ipynb>data table notebook</a>'\n",
              "            + ' to learn more about interactive tables.';\n",
              "          element.innerHTML = '';\n",
              "          dataTable['output_type'] = 'display_data';\n",
              "          await google.colab.output.renderOutput(dataTable, element);\n",
              "          const docLink = document.createElement('div');\n",
              "          docLink.innerHTML = docLinkHtml;\n",
              "          element.appendChild(docLink);\n",
              "        }\n",
              "      </script>\n",
              "    </div>\n",
              "  </div>\n",
              "  "
            ],
            "text/plain": [
              "       animal_id_outcome age_upon_intake animal_type                   breed  \\\n",
              "count              21541           21541       21541                   21541   \n",
              "unique             19122              45           4                    1289   \n",
              "top              A616444          1 year         Dog  Domestic Shorthair Mix   \n",
              "freq                   8            3311       13386                    5335   \n",
              "\n",
              "              color intake_condition intake_type sex_upon_intake  \\\n",
              "count         21541            21541       21541           21541   \n",
              "unique          348                8           5               5   \n",
              "top     Black/White           Normal       Stray     Intact Male   \n",
              "freq           2219            18734       14417            6098   \n",
              "\n",
              "       age_upon_intake_age_group      intake_datetime intake_monthyear  \\\n",
              "count                      21541                21541            21541   \n",
              "unique                         9                16064               54   \n",
              "top                (-0.025, 2.5]  2014-07-09 12:58:00          2014-05   \n",
              "freq                       13931                   63             1957   \n",
              "\n",
              "       intake_weekday            time_in_shelter age_upon_outcome  \\\n",
              "count           21541                      21541            21541   \n",
              "unique              7                      12224               45   \n",
              "top          Saturday  0 days 00:19:00.000000000           1 year   \n",
              "freq             3327                         33             3345   \n",
              "\n",
              "              date_of_birth sex_upon_outcome age_upon_outcome_age_group  \\\n",
              "count                 21541            21541                      21541   \n",
              "unique                 3830                5                          9   \n",
              "top     2014-04-21 00:00:00    Neutered Male              (-0.025, 2.5]   \n",
              "freq                     79             8186                      13867   \n",
              "\n",
              "       outcome_monthyear outcome_weekday outcome_type  \n",
              "count              21541           21541        21541  \n",
              "unique                55               7            9  \n",
              "top              2014-07        Saturday     Adoption  \n",
              "freq                2073            3484         5417  "
            ]
          },
          "metadata": {},
          "execution_count": 15
        }
      ]
    },
    {
      "cell_type": "code",
      "metadata": {
        "colab": {
          "base_uri": "https://localhost:8080/",
          "height": 141
        },
        "id": "pi5MyduoqeOc",
        "scrolled": true,
        "outputId": "9fe2ddb1-f14e-4bd8-a5f8-14191b43049f"
      },
      "source": [
        "X[X['animal_id_outcome']=='A721033']"
      ],
      "execution_count": null,
      "outputs": [
        {
          "output_type": "execute_result",
          "data": {
            "text/html": [
              "\n",
              "  <div id=\"df-04ee4f7c-b2c2-4e14-935e-89f06df31b84\">\n",
              "    <div class=\"colab-df-container\">\n",
              "      <div>\n",
              "<style scoped>\n",
              "    .dataframe tbody tr th:only-of-type {\n",
              "        vertical-align: middle;\n",
              "    }\n",
              "\n",
              "    .dataframe tbody tr th {\n",
              "        vertical-align: top;\n",
              "    }\n",
              "\n",
              "    .dataframe thead th {\n",
              "        text-align: right;\n",
              "    }\n",
              "</style>\n",
              "<table border=\"1\" class=\"dataframe\">\n",
              "  <thead>\n",
              "    <tr style=\"text-align: right;\">\n",
              "      <th></th>\n",
              "      <th>animal_id_outcome</th>\n",
              "      <th>dob_year</th>\n",
              "      <th>dob_month</th>\n",
              "      <th>age_upon_intake</th>\n",
              "      <th>animal_type</th>\n",
              "      <th>breed</th>\n",
              "      <th>color</th>\n",
              "      <th>intake_condition</th>\n",
              "      <th>intake_type</th>\n",
              "      <th>sex_upon_intake</th>\n",
              "      <th>age_upon_intake_(days)</th>\n",
              "      <th>age_upon_intake_(years)</th>\n",
              "      <th>age_upon_intake_age_group</th>\n",
              "      <th>intake_datetime</th>\n",
              "      <th>intake_month</th>\n",
              "      <th>intake_year</th>\n",
              "      <th>intake_monthyear</th>\n",
              "      <th>intake_weekday</th>\n",
              "      <th>intake_hour</th>\n",
              "      <th>intake_number</th>\n",
              "      <th>time_in_shelter</th>\n",
              "      <th>time_in_shelter_days</th>\n",
              "      <th>age_upon_outcome</th>\n",
              "      <th>date_of_birth</th>\n",
              "      <th>sex_upon_outcome</th>\n",
              "      <th>age_upon_outcome_(days)</th>\n",
              "      <th>age_upon_outcome_(years)</th>\n",
              "      <th>age_upon_outcome_age_group</th>\n",
              "      <th>outcome_month</th>\n",
              "      <th>outcome_year</th>\n",
              "      <th>outcome_monthyear</th>\n",
              "      <th>outcome_weekday</th>\n",
              "      <th>outcome_hour</th>\n",
              "      <th>outcome_type</th>\n",
              "    </tr>\n",
              "  </thead>\n",
              "  <tbody>\n",
              "  </tbody>\n",
              "</table>\n",
              "</div>\n",
              "      <button class=\"colab-df-convert\" onclick=\"convertToInteractive('df-04ee4f7c-b2c2-4e14-935e-89f06df31b84')\"\n",
              "              title=\"Convert this dataframe to an interactive table.\"\n",
              "              style=\"display:none;\">\n",
              "        \n",
              "  <svg xmlns=\"http://www.w3.org/2000/svg\" height=\"24px\"viewBox=\"0 0 24 24\"\n",
              "       width=\"24px\">\n",
              "    <path d=\"M0 0h24v24H0V0z\" fill=\"none\"/>\n",
              "    <path d=\"M18.56 5.44l.94 2.06.94-2.06 2.06-.94-2.06-.94-.94-2.06-.94 2.06-2.06.94zm-11 1L8.5 8.5l.94-2.06 2.06-.94-2.06-.94L8.5 2.5l-.94 2.06-2.06.94zm10 10l.94 2.06.94-2.06 2.06-.94-2.06-.94-.94-2.06-.94 2.06-2.06.94z\"/><path d=\"M17.41 7.96l-1.37-1.37c-.4-.4-.92-.59-1.43-.59-.52 0-1.04.2-1.43.59L10.3 9.45l-7.72 7.72c-.78.78-.78 2.05 0 2.83L4 21.41c.39.39.9.59 1.41.59.51 0 1.02-.2 1.41-.59l7.78-7.78 2.81-2.81c.8-.78.8-2.07 0-2.86zM5.41 20L4 18.59l7.72-7.72 1.47 1.35L5.41 20z\"/>\n",
              "  </svg>\n",
              "      </button>\n",
              "      \n",
              "  <style>\n",
              "    .colab-df-container {\n",
              "      display:flex;\n",
              "      flex-wrap:wrap;\n",
              "      gap: 12px;\n",
              "    }\n",
              "\n",
              "    .colab-df-convert {\n",
              "      background-color: #E8F0FE;\n",
              "      border: none;\n",
              "      border-radius: 50%;\n",
              "      cursor: pointer;\n",
              "      display: none;\n",
              "      fill: #1967D2;\n",
              "      height: 32px;\n",
              "      padding: 0 0 0 0;\n",
              "      width: 32px;\n",
              "    }\n",
              "\n",
              "    .colab-df-convert:hover {\n",
              "      background-color: #E2EBFA;\n",
              "      box-shadow: 0px 1px 2px rgba(60, 64, 67, 0.3), 0px 1px 3px 1px rgba(60, 64, 67, 0.15);\n",
              "      fill: #174EA6;\n",
              "    }\n",
              "\n",
              "    [theme=dark] .colab-df-convert {\n",
              "      background-color: #3B4455;\n",
              "      fill: #D2E3FC;\n",
              "    }\n",
              "\n",
              "    [theme=dark] .colab-df-convert:hover {\n",
              "      background-color: #434B5C;\n",
              "      box-shadow: 0px 1px 3px 1px rgba(0, 0, 0, 0.15);\n",
              "      filter: drop-shadow(0px 1px 2px rgba(0, 0, 0, 0.3));\n",
              "      fill: #FFFFFF;\n",
              "    }\n",
              "  </style>\n",
              "\n",
              "      <script>\n",
              "        const buttonEl =\n",
              "          document.querySelector('#df-04ee4f7c-b2c2-4e14-935e-89f06df31b84 button.colab-df-convert');\n",
              "        buttonEl.style.display =\n",
              "          google.colab.kernel.accessAllowed ? 'block' : 'none';\n",
              "\n",
              "        async function convertToInteractive(key) {\n",
              "          const element = document.querySelector('#df-04ee4f7c-b2c2-4e14-935e-89f06df31b84');\n",
              "          const dataTable =\n",
              "            await google.colab.kernel.invokeFunction('convertToInteractive',\n",
              "                                                     [key], {});\n",
              "          if (!dataTable) return;\n",
              "\n",
              "          const docLinkHtml = 'Like what you see? Visit the ' +\n",
              "            '<a target=\"_blank\" href=https://colab.research.google.com/notebooks/data_table.ipynb>data table notebook</a>'\n",
              "            + ' to learn more about interactive tables.';\n",
              "          element.innerHTML = '';\n",
              "          dataTable['output_type'] = 'display_data';\n",
              "          await google.colab.output.renderOutput(dataTable, element);\n",
              "          const docLink = document.createElement('div');\n",
              "          docLink.innerHTML = docLinkHtml;\n",
              "          element.appendChild(docLink);\n",
              "        }\n",
              "      </script>\n",
              "    </div>\n",
              "  </div>\n",
              "  "
            ],
            "text/plain": [
              "Empty DataFrame\n",
              "Columns: [animal_id_outcome, dob_year, dob_month, age_upon_intake, animal_type, breed, color, intake_condition, intake_type, sex_upon_intake, age_upon_intake_(days), age_upon_intake_(years), age_upon_intake_age_group, intake_datetime, intake_month, intake_year, intake_monthyear, intake_weekday, intake_hour, intake_number, time_in_shelter, time_in_shelter_days, age_upon_outcome, date_of_birth, sex_upon_outcome, age_upon_outcome_(days), age_upon_outcome_(years), age_upon_outcome_age_group, outcome_month, outcome_year, outcome_monthyear, outcome_weekday, outcome_hour, outcome_type]\n",
              "Index: []"
            ]
          },
          "metadata": {},
          "execution_count": 16
        },
        {
          "output_type": "stream",
          "name": "stdout",
          "text": [
            "Warning: Total number of columns (34) exceeds max_columns (20) limiting to first (20) columns.\n"
          ]
        }
      ]
    },
    {
      "cell_type": "markdown",
      "metadata": {
        "id": "0QVAU0Y0qeOf"
      },
      "source": [
        "Looking at the above dataset it looks like **\"animal_id_outcome\"** is not unique. Maybe same animals were repeated brought to the shelter for some or the other reasons. Anyways we will be dropping it as it makes very little or no help in our model predictions."
      ]
    },
    {
      "cell_type": "code",
      "metadata": {
        "collapsed": true,
        "id": "w902wo99qeOf"
      },
      "source": [
        "X = X.drop(['animal_id_outcome'], axis = 1)"
      ],
      "execution_count": null,
      "outputs": []
    },
    {
      "cell_type": "markdown",
      "metadata": {
        "id": "TZ5KsSt4qeOf"
      },
      "source": [
        "# 5. Analysis, identification of patterns"
      ]
    },
    {
      "cell_type": "markdown",
      "metadata": {
        "id": "CrXmvttdqeOg"
      },
      "source": [
        "Next step would be to analyse, identify and explore the data to take actions based upon the understanding."
      ]
    },
    {
      "cell_type": "markdown",
      "metadata": {
        "id": "0qZPo2-JqeOg"
      },
      "source": [
        "**A. Few quick points to be noted:**\n",
        "1. age_upon_intake_(days), age_upon_intake_(years)/age_group are extracted from age_upon_intake and there is no point using all of them. Hence we will keep age_upon_intake_(days) as it is more specific. Hence **dropping age_upon_intake**, **age_upon_intake_(years), age_upon_intake_age_group** similary **dropping age_upon_outcome, age_upon_outcome_(years), age_upon_outcome_age_group\n",
        "\n",
        "2. dob_year, dob_month is extracted from date_of_birth hence will be using dob_year to be more specific and ** dropping date_of_birth ** and **dob_month**  as they are useless for our case.\n",
        "3. According to my research once the animal or pet is surrendender by owner the animal/pet cannot be or vary rarely returned back to owner again with some conditions hence **intake_type** is an **important predictor**.\n",
        "4. animal_type and breed type is specific to the category of animal hence are correlated. We need to take a call whether to use both or use one of them according to the varibale importance curve\n",
        "5. time_in_shelter_(days) is derived from time_in_shelter hence will be **dropping time_in_shelter** and keeping **time_in_shelter_(days)**\n"
      ]
    },
    {
      "cell_type": "code",
      "metadata": {
        "collapsed": true,
        "id": "maOAi7JTqeOg"
      },
      "source": [
        "X = X.drop(['age_upon_intake', 'age_upon_intake_(years)', 'age_upon_intake_age_group', 'age_upon_outcome', 'age_upon_outcome_(years)', 'age_upon_outcome_age_group', 'date_of_birth','dob_month', 'time_in_shelter'], axis = 1)"
      ],
      "execution_count": null,
      "outputs": []
    },
    {
      "cell_type": "markdown",
      "metadata": {
        "id": "cl8ch314qeOh"
      },
      "source": [
        "**B. Checking categorical variables correlation with outcome_type **"
      ]
    },
    {
      "cell_type": "code",
      "metadata": {
        "colab": {
          "base_uri": "https://localhost:8080/"
        },
        "id": "BSAMx4BkqeOh",
        "scrolled": true,
        "outputId": "db7d3f84-fc13-40bb-efa9-2d9a6da0f93d"
      },
      "source": [
        "#Checking animal_type with outcome_type\n",
        "X.groupby([\"animal_type\", 'outcome_type']).size()"
      ],
      "execution_count": null,
      "outputs": [
        {
          "output_type": "execute_result",
          "data": {
            "text/plain": [
              "animal_type  outcome_type   \n",
              "Bird         Adoption              7\n",
              "             Died                  6\n",
              "             Euthanasia            8\n",
              "             Missing               1\n",
              "             Relocate              3\n",
              "             Rto-Adopt             3\n",
              "             Transfer             22\n",
              "Cat          Adoption           1899\n",
              "             Died                504\n",
              "             Disposal              1\n",
              "             Euthanasia          410\n",
              "             Missing             452\n",
              "             Relocate            455\n",
              "             Return to Owner     456\n",
              "             Rto-Adopt           403\n",
              "             Transfer           2400\n",
              "Dog          Adoption           3501\n",
              "             Died                670\n",
              "             Euthanasia          765\n",
              "             Missing             644\n",
              "             Relocate            645\n",
              "             Return to Owner    4619\n",
              "             Rto-Adopt           601\n",
              "             Transfer           1941\n",
              "Other        Adoption             10\n",
              "             Died                 31\n",
              "             Disposal            116\n",
              "             Euthanasia          825\n",
              "             Missing              16\n",
              "             Relocate             14\n",
              "             Return to Owner       5\n",
              "             Rto-Adopt             7\n",
              "             Transfer            101\n",
              "dtype: int64"
            ]
          },
          "metadata": {},
          "execution_count": 19
        }
      ]
    },
    {
      "cell_type": "code",
      "metadata": {
        "colab": {
          "base_uri": "https://localhost:8080/",
          "height": 297
        },
        "id": "sQLibXR3qeOi",
        "outputId": "bca0336e-33c0-4613-b9ff-bcaa8c7da9a9"
      },
      "source": [
        "sns.countplot(x=\"animal_type\", hue=\"outcome_type\", data= X)"
      ],
      "execution_count": null,
      "outputs": [
        {
          "output_type": "execute_result",
          "data": {
            "text/plain": [
              "<matplotlib.axes._subplots.AxesSubplot at 0x7ff29ce93550>"
            ]
          },
          "metadata": {},
          "execution_count": 20
        },
        {
          "output_type": "display_data",
          "data": {
            "image/png": "[encoded data removed]",
            "text/plain": [
              "<Figure size 432x288 with 1 Axes>"
            ]
          },
          "metadata": {
            "needs_background": "light"
          }
        }
      ]
    },
    {
      "cell_type": "code",
      "metadata": {
        "collapsed": true,
        "id": "WyGFe1cvqeOi"
      },
      "source": [
        "X_Bird = X[X['animal_type']=='Bird']"
      ],
      "execution_count": null,
      "outputs": []
    },
    {
      "cell_type": "code",
      "metadata": {
        "colab": {
          "base_uri": "https://localhost:8080/",
          "height": 297
        },
        "id": "NVpc0UWuqeOi",
        "outputId": "fbff5b17-ebd0-4e8b-fbeb-4f1bd1776462"
      },
      "source": [
        "sns.countplot(x= 'animal_type', hue=\"outcome_type\", data= X_Bird)"
      ],
      "execution_count": null,
      "outputs": [
        {
          "output_type": "execute_result",
          "data": {
            "text/plain": [
              "<matplotlib.axes._subplots.AxesSubplot at 0x7ff29cd0ded0>"
            ]
          },
          "metadata": {},
          "execution_count": 23
        },
        {
          "output_type": "display_data",
          "data": {
            "image/png": "[encoded data removed]",
            "text/plain": [
              "<Figure size 432x288 with 1 Axes>"
            ]
          },
          "metadata": {
            "needs_background": "light"
          }
        }
      ]
    },
    {
      "cell_type": "code",
      "metadata": {
        "colab": {
          "base_uri": "https://localhost:8080/",
          "height": 297
        },
        "id": "AFLl6KJ_qeOj",
        "outputId": "fc474d5f-a949-4ead-aaf4-e8c4e4501f56"
      },
      "source": [
        "X_Other= X[X['animal_type']=='Other']\n",
        "sns.countplot(x= 'animal_type', hue=\"outcome_type\", data= X_Other)"
      ],
      "execution_count": null,
      "outputs": [
        {
          "output_type": "execute_result",
          "data": {
            "text/plain": [
              "<matplotlib.axes._subplots.AxesSubplot at 0x7ff29cbe5950>"
            ]
          },
          "metadata": {},
          "execution_count": 24
        },
        {
          "output_type": "display_data",
          "data": {
            "image/png": "[encoded data removed]",
            "text/plain": [
              "<Figure size 432x288 with 1 Axes>"
            ]
          },
          "metadata": {
            "needs_background": "light"
          }
        }
      ]
    },
    {
      "cell_type": "code",
      "metadata": {
        "colab": {
          "base_uri": "https://localhost:8080/"
        },
        "id": "3SJzPEXdqeOj",
        "outputId": "9c8da286-ef0e-43a5-b8fa-0048f8758c84"
      },
      "source": [
        "#Checking animal_type with outcome_type\n",
        "X.groupby([\"breed\", 'outcome_type']).size().head(20)"
      ],
      "execution_count": null,
      "outputs": [
        {
          "output_type": "execute_result",
          "data": {
            "text/plain": [
              "breed                        outcome_type   \n",
              "Abyssinian Mix               Adoption           2\n",
              "                             Died               1\n",
              "Affenpinscher Mix            Adoption           2\n",
              "                             Missing            1\n",
              "                             Return to Owner    1\n",
              "Afghan Hound Mix             Return to Owner    1\n",
              "Airedale Terrier             Transfer           1\n",
              "Airedale Terrier Mix         Return to Owner    2\n",
              "Akita                        Adoption           1\n",
              "                             Euthanasia         1\n",
              "Akita Mix                    Adoption           2\n",
              "                             Died               1\n",
              "                             Missing            1\n",
              "                             Relocate           1\n",
              "                             Return to Owner    6\n",
              "                             Transfer           1\n",
              "Akita/Australian Cattle Dog  Adoption           1\n",
              "                             Relocate           1\n",
              "Akita/Border Collie          Adoption           1\n",
              "Akita/German Shepherd        Adoption           1\n",
              "dtype: int64"
            ]
          },
          "metadata": {},
          "execution_count": 25
        }
      ]
    },
    {
      "cell_type": "markdown",
      "metadata": {
        "id": "LWH8KkxCqeOj"
      },
      "source": [
        "Hence we get this insights that dogs are mostly adopted and returned back to owner, cats are either mostly been adopted or transfered, on the other hand bird are either adopted or transfered and are rarely \"returned back to owner\"(which has high occurence in the dataset). Last other animals are mostly euthonised or transfered.\n",
        "\n",
        "**NOTE** We will be holding color variable as it is as there more than 400 unique colors and will be checking later by variable importance plot."
      ]
    },
    {
      "cell_type": "code",
      "metadata": {
        "colab": {
          "base_uri": "https://localhost:8080/"
        },
        "id": "XBGeCFIBqeOk",
        "outputId": "5a6da5e2-ae4f-4fcf-8c08-f3264b41c391"
      },
      "source": [
        "#Checking intake-condition \n",
        "X.groupby(['intake_type','outcome_type']).size()"
      ],
      "execution_count": null,
      "outputs": [
        {
          "output_type": "execute_result",
          "data": {
            "text/plain": [
              "intake_type         outcome_type   \n",
              "Euthanasia Request  Adoption              8\n",
              "                    Died                  3\n",
              "                    Euthanasia          113\n",
              "                    Missing               1\n",
              "                    Relocate              1\n",
              "                    Return to Owner       2\n",
              "                    Transfer              6\n",
              "Owner Surrender     Adoption           1643\n",
              "                    Died                309\n",
              "                    Euthanasia          314\n",
              "                    Missing             297\n",
              "                    Relocate            278\n",
              "                    Return to Owner     301\n",
              "                    Rto-Adopt           255\n",
              "                    Transfer            949\n",
              "Public Assist       Adoption            127\n",
              "                    Died                 31\n",
              "                    Disposal              1\n",
              "                    Euthanasia          105\n",
              "                    Missing              33\n",
              "                    Relocate             40\n",
              "                    Return to Owner    1166\n",
              "                    Rto-Adopt            32\n",
              "                    Transfer            169\n",
              "Stray               Adoption           3637\n",
              "                    Died                849\n",
              "                    Disposal              2\n",
              "                    Euthanasia          690\n",
              "                    Missing             780\n",
              "                    Relocate            791\n",
              "                    Return to Owner    3610\n",
              "                    Rto-Adopt           727\n",
              "                    Transfer           3331\n",
              "Wildlife            Adoption              2\n",
              "                    Died                 19\n",
              "                    Disposal            114\n",
              "                    Euthanasia          786\n",
              "                    Missing               2\n",
              "                    Relocate              7\n",
              "                    Return to Owner       1\n",
              "                    Transfer              9\n",
              "dtype: int64"
            ]
          },
          "metadata": {},
          "execution_count": 26
        }
      ]
    },
    {
      "cell_type": "markdown",
      "metadata": {
        "id": "VOlbQVM2qeOk"
      },
      "source": [
        "Hence this along with intake_condition can be useful for model to help predict minority of the dependent variable such as died, disposal, missing and relocate hence our hypothesis of these variable to be important for model is proving true."
      ]
    },
    {
      "cell_type": "code",
      "metadata": {
        "colab": {
          "base_uri": "https://localhost:8080/"
        },
        "id": "ABTkEhw5qeOk",
        "outputId": "b399686f-16c5-46b2-8573-5c195f5fb3e1"
      },
      "source": [
        "X.groupby(['sex_upon_intake','sex_upon_outcome', 'outcome_type']).size()"
      ],
      "execution_count": null,
      "outputs": [
        {
          "output_type": "execute_result",
          "data": {
            "text/plain": [
              "sex_upon_intake  sex_upon_outcome  outcome_type   \n",
              "Intact Female    Intact Female     Adoption             95\n",
              "                                   Died                163\n",
              "                                   Euthanasia          285\n",
              "                                   Missing             146\n",
              "                                   Relocate            137\n",
              "                                   Return to Owner     231\n",
              "                                   Rto-Adopt           131\n",
              "                                   Transfer           1237\n",
              "                 Spayed Female     Adoption           1671\n",
              "                                   Died                219\n",
              "                                   Euthanasia           22\n",
              "                                   Missing             248\n",
              "                                   Relocate            228\n",
              "                                   Return to Owner     296\n",
              "                                   Rto-Adopt           211\n",
              "                                   Transfer            314\n",
              "Intact Male      Intact Male       Adoption             76\n",
              "                                   Died                169\n",
              "                                   Disposal              3\n",
              "                                   Euthanasia          356\n",
              "                                   Missing             126\n",
              "                                   Relocate            135\n",
              "                                   Return to Owner     363\n",
              "                                   Rto-Adopt            96\n",
              "                                   Transfer           1097\n",
              "                 Neutered Male     Adoption           1736\n",
              "                                   Died                241\n",
              "                                   Euthanasia           40\n",
              "                                   Missing             249\n",
              "                                   Relocate            254\n",
              "                                   Return to Owner     480\n",
              "                                   Rto-Adopt           259\n",
              "                                   Transfer            418\n",
              "Neutered Male    Neutered Male     Adoption            905\n",
              "                                   Died                176\n",
              "                                   Euthanasia          289\n",
              "                                   Missing             157\n",
              "                                   Relocate            188\n",
              "                                   Return to Owner    2075\n",
              "                                   Rto-Adopt           149\n",
              "                                   Transfer            570\n",
              "Spayed Female    Spayed Female     Adoption            927\n",
              "                                   Died                179\n",
              "                                   Disposal              1\n",
              "                                   Euthanasia          185\n",
              "                                   Missing             159\n",
              "                                   Relocate            138\n",
              "                                   Return to Owner    1634\n",
              "                                   Rto-Adopt           146\n",
              "                                   Transfer            526\n",
              "Unknown          Unknown           Adoption              7\n",
              "                                   Died                 64\n",
              "                                   Disposal            113\n",
              "                                   Euthanasia          831\n",
              "                                   Missing              28\n",
              "                                   Relocate             37\n",
              "                                   Return to Owner       1\n",
              "                                   Rto-Adopt            22\n",
              "                                   Transfer            302\n",
              "dtype: int64"
            ]
          },
          "metadata": {},
          "execution_count": 27
        }
      ]
    },
    {
      "cell_type": "markdown",
      "metadata": {
        "id": "cLmk20mjqeOk"
      },
      "source": [
        "Hence we will be keeping on i.e for now as we can clearly see Intact male/female who were first intact and later neutered/spayed have more chances of adoption about 20 folds. hence this can prove to be an important variable."
      ]
    },
    {
      "cell_type": "markdown",
      "metadata": {
        "id": "m0IgWg6AqeOk"
      },
      "source": [
        "One more observation is that we will be dropping intake_datetime as we already have intake month, year"
      ]
    },
    {
      "cell_type": "code",
      "metadata": {
        "collapsed": true,
        "id": "di4bfAVGqeOl"
      },
      "source": [
        "X['intake_day'] = pd.DatetimeIndex(X['intake_datetime']).day"
      ],
      "execution_count": null,
      "outputs": []
    },
    {
      "cell_type": "markdown",
      "metadata": {
        "id": "POOHfPAHqeOl"
      },
      "source": [
        "**Note: The above is a new feature that is generated**"
      ]
    },
    {
      "cell_type": "code",
      "metadata": {
        "collapsed": true,
        "id": "P3-jbS4qqeOl"
      },
      "source": [
        "X = X.drop(['intake_datetime'], axis = 1)"
      ],
      "execution_count": null,
      "outputs": []
    },
    {
      "cell_type": "markdown",
      "metadata": {
        "id": "1Rlr985iqeOl"
      },
      "source": [
        "**Feature modification of intake/outcome year month:**"
      ]
    },
    {
      "cell_type": "code",
      "metadata": {
        "colab": {
          "base_uri": "https://localhost:8080/",
          "height": 713
        },
        "id": "Vsle_774qeOm",
        "outputId": "187f91d4-2b11-4b43-f201-e31c14d9d9c4"
      },
      "source": [
        "X['intake_monthyear'] = X['intake_year'] * 100 + X['intake_month']\n",
        "X['outcome_monthyear'] = X['outcome_year']* 100 + X['outcome_month']\n",
        "X"
      ],
      "execution_count": null,
      "outputs": [
        {
          "output_type": "execute_result",
          "data": {
            "text/html": [
              "\n",
              "  <div id=\"df-aeadc887-fc00-4dac-9246-08b4dddd134f\">\n",
              "    <div class=\"colab-df-container\">\n",
              "      <div>\n",
              "<style scoped>\n",
              "    .dataframe tbody tr th:only-of-type {\n",
              "        vertical-align: middle;\n",
              "    }\n",
              "\n",
              "    .dataframe tbody tr th {\n",
              "        vertical-align: top;\n",
              "    }\n",
              "\n",
              "    .dataframe thead th {\n",
              "        text-align: right;\n",
              "    }\n",
              "</style>\n",
              "<table border=\"1\" class=\"dataframe\">\n",
              "  <thead>\n",
              "    <tr style=\"text-align: right;\">\n",
              "      <th></th>\n",
              "      <th>dob_year</th>\n",
              "      <th>animal_type</th>\n",
              "      <th>breed</th>\n",
              "      <th>color</th>\n",
              "      <th>intake_condition</th>\n",
              "      <th>intake_type</th>\n",
              "      <th>sex_upon_intake</th>\n",
              "      <th>age_upon_intake_(days)</th>\n",
              "      <th>intake_month</th>\n",
              "      <th>intake_year</th>\n",
              "      <th>intake_monthyear</th>\n",
              "      <th>intake_weekday</th>\n",
              "      <th>intake_hour</th>\n",
              "      <th>intake_number</th>\n",
              "      <th>time_in_shelter_days</th>\n",
              "      <th>sex_upon_outcome</th>\n",
              "      <th>age_upon_outcome_(days)</th>\n",
              "      <th>outcome_month</th>\n",
              "      <th>outcome_year</th>\n",
              "      <th>outcome_monthyear</th>\n",
              "      <th>outcome_weekday</th>\n",
              "      <th>outcome_hour</th>\n",
              "      <th>outcome_type</th>\n",
              "      <th>intake_day</th>\n",
              "    </tr>\n",
              "  </thead>\n",
              "  <tbody>\n",
              "    <tr>\n",
              "      <th>0</th>\n",
              "      <td>2007</td>\n",
              "      <td>Dog</td>\n",
              "      <td>Spinone Italiano Mix</td>\n",
              "      <td>Yellow/White</td>\n",
              "      <td>Normal</td>\n",
              "      <td>Stray</td>\n",
              "      <td>Neutered Male</td>\n",
              "      <td>3650</td>\n",
              "      <td>12.000000</td>\n",
              "      <td>2017.000000</td>\n",
              "      <td>201712.000000</td>\n",
              "      <td>Thursday</td>\n",
              "      <td>14.000000</td>\n",
              "      <td>1.000000</td>\n",
              "      <td>0.588194</td>\n",
              "      <td>Neutered Male</td>\n",
              "      <td>3650.000000</td>\n",
              "      <td>12.000000</td>\n",
              "      <td>2017.000000</td>\n",
              "      <td>201712.000000</td>\n",
              "      <td>Thursday</td>\n",
              "      <td>0.000000</td>\n",
              "      <td>Return to Owner</td>\n",
              "      <td>7</td>\n",
              "    </tr>\n",
              "    <tr>\n",
              "      <th>1</th>\n",
              "      <td>2007</td>\n",
              "      <td>Dog</td>\n",
              "      <td>Spinone Italiano Mix</td>\n",
              "      <td>Yellow/White</td>\n",
              "      <td>Normal</td>\n",
              "      <td>Public Assist</td>\n",
              "      <td>Neutered Male</td>\n",
              "      <td>2555</td>\n",
              "      <td>12.000000</td>\n",
              "      <td>2014.000000</td>\n",
              "      <td>201412.000000</td>\n",
              "      <td>Friday</td>\n",
              "      <td>10.000000</td>\n",
              "      <td>2.000000</td>\n",
              "      <td>1.259722</td>\n",
              "      <td>Neutered Male</td>\n",
              "      <td>2555.000000</td>\n",
              "      <td>12.000000</td>\n",
              "      <td>2014.000000</td>\n",
              "      <td>201412.000000</td>\n",
              "      <td>Saturday</td>\n",
              "      <td>16.000000</td>\n",
              "      <td>Return to Owner</td>\n",
              "      <td>19</td>\n",
              "    </tr>\n",
              "    <tr>\n",
              "      <th>2</th>\n",
              "      <td>2007</td>\n",
              "      <td>Dog</td>\n",
              "      <td>Spinone Italiano Mix</td>\n",
              "      <td>Yellow/White</td>\n",
              "      <td>Normal</td>\n",
              "      <td>Public Assist</td>\n",
              "      <td>Neutered Male</td>\n",
              "      <td>2190</td>\n",
              "      <td>3.000000</td>\n",
              "      <td>2014.000000</td>\n",
              "      <td>201403.000000</td>\n",
              "      <td>Friday</td>\n",
              "      <td>14.000000</td>\n",
              "      <td>3.000000</td>\n",
              "      <td>1.113889</td>\n",
              "      <td>Neutered Male</td>\n",
              "      <td>2190.000000</td>\n",
              "      <td>3.000000</td>\n",
              "      <td>2014.000000</td>\n",
              "      <td>201403.000000</td>\n",
              "      <td>Saturday</td>\n",
              "      <td>17.000000</td>\n",
              "      <td>Return to Owner</td>\n",
              "      <td>7</td>\n",
              "    </tr>\n",
              "    <tr>\n",
              "      <th>3</th>\n",
              "      <td>2004</td>\n",
              "      <td>Dog</td>\n",
              "      <td>Dachshund</td>\n",
              "      <td>Tricolor</td>\n",
              "      <td>Normal</td>\n",
              "      <td>Owner Surrender</td>\n",
              "      <td>Neutered Male</td>\n",
              "      <td>3650</td>\n",
              "      <td>4.000000</td>\n",
              "      <td>2014.000000</td>\n",
              "      <td>201404.000000</td>\n",
              "      <td>Wednesday</td>\n",
              "      <td>15.000000</td>\n",
              "      <td>1.000000</td>\n",
              "      <td>4.970139</td>\n",
              "      <td>Neutered Male</td>\n",
              "      <td>3650.000000</td>\n",
              "      <td>4.000000</td>\n",
              "      <td>2014.000000</td>\n",
              "      <td>201404.000000</td>\n",
              "      <td>Monday</td>\n",
              "      <td>15.000000</td>\n",
              "      <td>Missing</td>\n",
              "      <td>2</td>\n",
              "    </tr>\n",
              "    <tr>\n",
              "      <th>4</th>\n",
              "      <td>1997</td>\n",
              "      <td>Dog</td>\n",
              "      <td>Shetland Sheepdog</td>\n",
              "      <td>Brown/White</td>\n",
              "      <td>Injured</td>\n",
              "      <td>Public Assist</td>\n",
              "      <td>Neutered Male</td>\n",
              "      <td>5840</td>\n",
              "      <td>11.000000</td>\n",
              "      <td>2013.000000</td>\n",
              "      <td>201311.000000</td>\n",
              "      <td>Saturday</td>\n",
              "      <td>9.000000</td>\n",
              "      <td>1.000000</td>\n",
              "      <td>0.119444</td>\n",
              "      <td>Neutered Male</td>\n",
              "      <td>5840.000000</td>\n",
              "      <td>11.000000</td>\n",
              "      <td>2013.000000</td>\n",
              "      <td>201311.000000</td>\n",
              "      <td>Saturday</td>\n",
              "      <td>11.000000</td>\n",
              "      <td>Return to Owner</td>\n",
              "      <td>16</td>\n",
              "    </tr>\n",
              "    <tr>\n",
              "      <th>...</th>\n",
              "      <td>...</td>\n",
              "      <td>...</td>\n",
              "      <td>...</td>\n",
              "      <td>...</td>\n",
              "      <td>...</td>\n",
              "      <td>...</td>\n",
              "      <td>...</td>\n",
              "      <td>...</td>\n",
              "      <td>...</td>\n",
              "      <td>...</td>\n",
              "      <td>...</td>\n",
              "      <td>...</td>\n",
              "      <td>...</td>\n",
              "      <td>...</td>\n",
              "      <td>...</td>\n",
              "      <td>...</td>\n",
              "      <td>...</td>\n",
              "      <td>...</td>\n",
              "      <td>...</td>\n",
              "      <td>...</td>\n",
              "      <td>...</td>\n",
              "      <td>...</td>\n",
              "      <td>...</td>\n",
              "      <td>...</td>\n",
              "    </tr>\n",
              "    <tr>\n",
              "      <th>21536</th>\n",
              "      <td>2009</td>\n",
              "      <td>Dog</td>\n",
              "      <td>Toy Poodle Mix</td>\n",
              "      <td>Apricot</td>\n",
              "      <td>Normal</td>\n",
              "      <td>Public Assist</td>\n",
              "      <td>Neutered Male</td>\n",
              "      <td>1825</td>\n",
              "      <td>9.000000</td>\n",
              "      <td>2014.000000</td>\n",
              "      <td>201409.000000</td>\n",
              "      <td>Saturday</td>\n",
              "      <td>11.000000</td>\n",
              "      <td>1.000000</td>\n",
              "      <td>9.070833</td>\n",
              "      <td>Neutered Male</td>\n",
              "      <td>1825.000000</td>\n",
              "      <td>9.000000</td>\n",
              "      <td>2014.000000</td>\n",
              "      <td>201409.000000</td>\n",
              "      <td>Monday</td>\n",
              "      <td>13.000000</td>\n",
              "      <td>Return to Owner</td>\n",
              "      <td>13</td>\n",
              "    </tr>\n",
              "    <tr>\n",
              "      <th>21537</th>\n",
              "      <td>2012</td>\n",
              "      <td>Dog</td>\n",
              "      <td>Boxer Mix</td>\n",
              "      <td>Fawn/White</td>\n",
              "      <td>Normal</td>\n",
              "      <td>Owner Surrender</td>\n",
              "      <td>Intact Male</td>\n",
              "      <td>730</td>\n",
              "      <td>9.000000</td>\n",
              "      <td>2014.000000</td>\n",
              "      <td>201409.000000</td>\n",
              "      <td>Thursday</td>\n",
              "      <td>14.000000</td>\n",
              "      <td>1.000000</td>\n",
              "      <td>1.142361</td>\n",
              "      <td>Neutered Male</td>\n",
              "      <td>730.000000</td>\n",
              "      <td>9.000000</td>\n",
              "      <td>2014.000000</td>\n",
              "      <td>201409.000000</td>\n",
              "      <td>Friday</td>\n",
              "      <td>17.000000</td>\n",
              "      <td>Died</td>\n",
              "      <td>25</td>\n",
              "    </tr>\n",
              "    <tr>\n",
              "      <th>21538</th>\n",
              "      <td>2014</td>\n",
              "      <td>Dog</td>\n",
              "      <td>Labrador Retriever Mix</td>\n",
              "      <td>Brown</td>\n",
              "      <td>Normal</td>\n",
              "      <td>Stray</td>\n",
              "      <td>Spayed Female</td>\n",
              "      <td>730</td>\n",
              "      <td>5.000000</td>\n",
              "      <td>2017.000000</td>\n",
              "      <td>201705.000000</td>\n",
              "      <td>Thursday</td>\n",
              "      <td>11.000000</td>\n",
              "      <td>1.000000</td>\n",
              "      <td>0.143750</td>\n",
              "      <td>Spayed Female</td>\n",
              "      <td>730.000000</td>\n",
              "      <td>5.000000</td>\n",
              "      <td>2017.000000</td>\n",
              "      <td>201705.000000</td>\n",
              "      <td>Thursday</td>\n",
              "      <td>14.000000</td>\n",
              "      <td>Return to Owner</td>\n",
              "      <td>4</td>\n",
              "    </tr>\n",
              "    <tr>\n",
              "      <th>21539</th>\n",
              "      <td>2014</td>\n",
              "      <td>Dog</td>\n",
              "      <td>Labrador Retriever Mix</td>\n",
              "      <td>Brown</td>\n",
              "      <td>Normal</td>\n",
              "      <td>Stray</td>\n",
              "      <td>Intact Female</td>\n",
              "      <td>60</td>\n",
              "      <td>9.000000</td>\n",
              "      <td>2014.000000</td>\n",
              "      <td>201409.000000</td>\n",
              "      <td>Saturday</td>\n",
              "      <td>11.000000</td>\n",
              "      <td>2.000000</td>\n",
              "      <td>4.279861</td>\n",
              "      <td>Spayed Female</td>\n",
              "      <td>60.000000</td>\n",
              "      <td>9.000000</td>\n",
              "      <td>2014.000000</td>\n",
              "      <td>201409.000000</td>\n",
              "      <td>Wednesday</td>\n",
              "      <td>18.000000</td>\n",
              "      <td>Missing</td>\n",
              "      <td>13</td>\n",
              "    </tr>\n",
              "    <tr>\n",
              "      <th>21540</th>\n",
              "      <td>2012</td>\n",
              "      <td>Dog</td>\n",
              "      <td>American Staffordshire Terrier Mix</td>\n",
              "      <td>Tan/White</td>\n",
              "      <td>Normal</td>\n",
              "      <td>Owner Surrender</td>\n",
              "      <td>Neutered Male</td>\n",
              "      <td>730</td>\n",
              "      <td>6.478087</td>\n",
              "      <td>2014.083798</td>\n",
              "      <td>201414.857846</td>\n",
              "      <td>Saturday</td>\n",
              "      <td>13.584819</td>\n",
              "      <td>1.150093</td>\n",
              "      <td>16.788162</td>\n",
              "      <td>Neutered Male</td>\n",
              "      <td>1004.314253</td>\n",
              "      <td>6.572238</td>\n",
              "      <td>2014.117549</td>\n",
              "      <td>201418.327112</td>\n",
              "      <td>Saturday</td>\n",
              "      <td>14.593222</td>\n",
              "      <td>Adoption</td>\n",
              "      <td>1</td>\n",
              "    </tr>\n",
              "  </tbody>\n",
              "</table>\n",
              "<p>21541 rows × 24 columns</p>\n",
              "</div>\n",
              "      <button class=\"colab-df-convert\" onclick=\"convertToInteractive('df-aeadc887-fc00-4dac-9246-08b4dddd134f')\"\n",
              "              title=\"Convert this dataframe to an interactive table.\"\n",
              "              style=\"display:none;\">\n",
              "        \n",
              "  <svg xmlns=\"http://www.w3.org/2000/svg\" height=\"24px\"viewBox=\"0 0 24 24\"\n",
              "       width=\"24px\">\n",
              "    <path d=\"M0 0h24v24H0V0z\" fill=\"none\"/>\n",
              "    <path d=\"M18.56 5.44l.94 2.06.94-2.06 2.06-.94-2.06-.94-.94-2.06-.94 2.06-2.06.94zm-11 1L8.5 8.5l.94-2.06 2.06-.94-2.06-.94L8.5 2.5l-.94 2.06-2.06.94zm10 10l.94 2.06.94-2.06 2.06-.94-2.06-.94-.94-2.06-.94 2.06-2.06.94z\"/><path d=\"M17.41 7.96l-1.37-1.37c-.4-.4-.92-.59-1.43-.59-.52 0-1.04.2-1.43.59L10.3 9.45l-7.72 7.72c-.78.78-.78 2.05 0 2.83L4 21.41c.39.39.9.59 1.41.59.51 0 1.02-.2 1.41-.59l7.78-7.78 2.81-2.81c.8-.78.8-2.07 0-2.86zM5.41 20L4 18.59l7.72-7.72 1.47 1.35L5.41 20z\"/>\n",
              "  </svg>\n",
              "      </button>\n",
              "      \n",
              "  <style>\n",
              "    .colab-df-container {\n",
              "      display:flex;\n",
              "      flex-wrap:wrap;\n",
              "      gap: 12px;\n",
              "    }\n",
              "\n",
              "    .colab-df-convert {\n",
              "      background-color: #E8F0FE;\n",
              "      border: none;\n",
              "      border-radius: 50%;\n",
              "      cursor: pointer;\n",
              "      display: none;\n",
              "      fill: #1967D2;\n",
              "      height: 32px;\n",
              "      padding: 0 0 0 0;\n",
              "      width: 32px;\n",
              "    }\n",
              "\n",
              "    .colab-df-convert:hover {\n",
              "      background-color: #E2EBFA;\n",
              "      box-shadow: 0px 1px 2px rgba(60, 64, 67, 0.3), 0px 1px 3px 1px rgba(60, 64, 67, 0.15);\n",
              "      fill: #174EA6;\n",
              "    }\n",
              "\n",
              "    [theme=dark] .colab-df-convert {\n",
              "      background-color: #3B4455;\n",
              "      fill: #D2E3FC;\n",
              "    }\n",
              "\n",
              "    [theme=dark] .colab-df-convert:hover {\n",
              "      background-color: #434B5C;\n",
              "      box-shadow: 0px 1px 3px 1px rgba(0, 0, 0, 0.15);\n",
              "      filter: drop-shadow(0px 1px 2px rgba(0, 0, 0, 0.3));\n",
              "      fill: #FFFFFF;\n",
              "    }\n",
              "  </style>\n",
              "\n",
              "      <script>\n",
              "        const buttonEl =\n",
              "          document.querySelector('#df-aeadc887-fc00-4dac-9246-08b4dddd134f button.colab-df-convert');\n",
              "        buttonEl.style.display =\n",
              "          google.colab.kernel.accessAllowed ? 'block' : 'none';\n",
              "\n",
              "        async function convertToInteractive(key) {\n",
              "          const element = document.querySelector('#df-aeadc887-fc00-4dac-9246-08b4dddd134f');\n",
              "          const dataTable =\n",
              "            await google.colab.kernel.invokeFunction('convertToInteractive',\n",
              "                                                     [key], {});\n",
              "          if (!dataTable) return;\n",
              "\n",
              "          const docLinkHtml = 'Like what you see? Visit the ' +\n",
              "            '<a target=\"_blank\" href=https://colab.research.google.com/notebooks/data_table.ipynb>data table notebook</a>'\n",
              "            + ' to learn more about interactive tables.';\n",
              "          element.innerHTML = '';\n",
              "          dataTable['output_type'] = 'display_data';\n",
              "          await google.colab.output.renderOutput(dataTable, element);\n",
              "          const docLink = document.createElement('div');\n",
              "          docLink.innerHTML = docLinkHtml;\n",
              "          element.appendChild(docLink);\n",
              "        }\n",
              "      </script>\n",
              "    </div>\n",
              "  </div>\n",
              "  "
            ],
            "text/plain": [
              "       dob_year animal_type                               breed         color  \\\n",
              "0          2007         Dog                Spinone Italiano Mix  Yellow/White   \n",
              "1          2007         Dog                Spinone Italiano Mix  Yellow/White   \n",
              "2          2007         Dog                Spinone Italiano Mix  Yellow/White   \n",
              "3          2004         Dog                           Dachshund      Tricolor   \n",
              "4          1997         Dog                   Shetland Sheepdog   Brown/White   \n",
              "...         ...         ...                                 ...           ...   \n",
              "21536      2009         Dog                      Toy Poodle Mix       Apricot   \n",
              "21537      2012         Dog                           Boxer Mix    Fawn/White   \n",
              "21538      2014         Dog              Labrador Retriever Mix         Brown   \n",
              "21539      2014         Dog              Labrador Retriever Mix         Brown   \n",
              "21540      2012         Dog  American Staffordshire Terrier Mix     Tan/White   \n",
              "\n",
              "      intake_condition      intake_type sex_upon_intake  \\\n",
              "0               Normal            Stray   Neutered Male   \n",
              "1               Normal    Public Assist   Neutered Male   \n",
              "2               Normal    Public Assist   Neutered Male   \n",
              "3               Normal  Owner Surrender   Neutered Male   \n",
              "4              Injured    Public Assist   Neutered Male   \n",
              "...                ...              ...             ...   \n",
              "21536           Normal    Public Assist   Neutered Male   \n",
              "21537           Normal  Owner Surrender     Intact Male   \n",
              "21538           Normal            Stray   Spayed Female   \n",
              "21539           Normal            Stray   Intact Female   \n",
              "21540           Normal  Owner Surrender   Neutered Male   \n",
              "\n",
              "       age_upon_intake_(days)  intake_month  intake_year  intake_monthyear  \\\n",
              "0                        3650     12.000000  2017.000000     201712.000000   \n",
              "1                        2555     12.000000  2014.000000     201412.000000   \n",
              "2                        2190      3.000000  2014.000000     201403.000000   \n",
              "3                        3650      4.000000  2014.000000     201404.000000   \n",
              "4                        5840     11.000000  2013.000000     201311.000000   \n",
              "...                       ...           ...          ...               ...   \n",
              "21536                    1825      9.000000  2014.000000     201409.000000   \n",
              "21537                     730      9.000000  2014.000000     201409.000000   \n",
              "21538                     730      5.000000  2017.000000     201705.000000   \n",
              "21539                      60      9.000000  2014.000000     201409.000000   \n",
              "21540                     730      6.478087  2014.083798     201414.857846   \n",
              "\n",
              "      intake_weekday  intake_hour  intake_number  time_in_shelter_days  \\\n",
              "0           Thursday    14.000000       1.000000              0.588194   \n",
              "1             Friday    10.000000       2.000000              1.259722   \n",
              "2             Friday    14.000000       3.000000              1.113889   \n",
              "3          Wednesday    15.000000       1.000000              4.970139   \n",
              "4           Saturday     9.000000       1.000000              0.119444   \n",
              "...              ...          ...            ...                   ...   \n",
              "21536       Saturday    11.000000       1.000000              9.070833   \n",
              "21537       Thursday    14.000000       1.000000              1.142361   \n",
              "21538       Thursday    11.000000       1.000000              0.143750   \n",
              "21539       Saturday    11.000000       2.000000              4.279861   \n",
              "21540       Saturday    13.584819       1.150093             16.788162   \n",
              "\n",
              "      sex_upon_outcome  age_upon_outcome_(days)  outcome_month  outcome_year  \\\n",
              "0        Neutered Male              3650.000000      12.000000   2017.000000   \n",
              "1        Neutered Male              2555.000000      12.000000   2014.000000   \n",
              "2        Neutered Male              2190.000000       3.000000   2014.000000   \n",
              "3        Neutered Male              3650.000000       4.000000   2014.000000   \n",
              "4        Neutered Male              5840.000000      11.000000   2013.000000   \n",
              "...                ...                      ...            ...           ...   \n",
              "21536    Neutered Male              1825.000000       9.000000   2014.000000   \n",
              "21537    Neutered Male               730.000000       9.000000   2014.000000   \n",
              "21538    Spayed Female               730.000000       5.000000   2017.000000   \n",
              "21539    Spayed Female                60.000000       9.000000   2014.000000   \n",
              "21540    Neutered Male              1004.314253       6.572238   2014.117549   \n",
              "\n",
              "       outcome_monthyear outcome_weekday  outcome_hour     outcome_type  \\\n",
              "0          201712.000000        Thursday      0.000000  Return to Owner   \n",
              "1          201412.000000        Saturday     16.000000  Return to Owner   \n",
              "2          201403.000000        Saturday     17.000000  Return to Owner   \n",
              "3          201404.000000          Monday     15.000000          Missing   \n",
              "4          201311.000000        Saturday     11.000000  Return to Owner   \n",
              "...                  ...             ...           ...              ...   \n",
              "21536      201409.000000          Monday     13.000000  Return to Owner   \n",
              "21537      201409.000000          Friday     17.000000             Died   \n",
              "21538      201705.000000        Thursday     14.000000  Return to Owner   \n",
              "21539      201409.000000       Wednesday     18.000000          Missing   \n",
              "21540      201418.327112        Saturday     14.593222         Adoption   \n",
              "\n",
              "       intake_day  \n",
              "0               7  \n",
              "1              19  \n",
              "2               7  \n",
              "3               2  \n",
              "4              16  \n",
              "...           ...  \n",
              "21536          13  \n",
              "21537          25  \n",
              "21538           4  \n",
              "21539          13  \n",
              "21540           1  \n",
              "\n",
              "[21541 rows x 24 columns]"
            ]
          },
          "metadata": {},
          "execution_count": 30
        }
      ]
    },
    {
      "cell_type": "markdown",
      "metadata": {
        "id": "7FAFSrp_qeOm"
      },
      "source": [
        "My hypothesis regarding outcomeWeekdays should be that there will more adoptions on sundays and saturdays as people have holiday and they can visit the facility for official adoption. I dont think that intakeWeekdays will have much significance to our prediction, we will check and discard it later if required."
      ]
    },
    {
      "cell_type": "code",
      "metadata": {
        "colab": {
          "base_uri": "https://localhost:8080/",
          "height": 297
        },
        "id": "_ODRBigyqeOm",
        "outputId": "c5895589-b183-4f5b-dfd1-9328b2bd6234"
      },
      "source": [
        "sns.countplot(x= 'outcome_weekday', hue=\"outcome_type\", data= X)"
      ],
      "execution_count": null,
      "outputs": [
        {
          "output_type": "execute_result",
          "data": {
            "text/plain": [
              "<matplotlib.axes._subplots.AxesSubplot at 0x7ff29cc31ad0>"
            ]
          },
          "metadata": {},
          "execution_count": 31
        },
        {
          "output_type": "display_data",
          "data": {
            "image/png": "[encoded data removed]",
            "text/plain": [
              "<Figure size 432x288 with 1 Axes>"
            ]
          },
          "metadata": {
            "needs_background": "light"
          }
        }
      ]
    },
    {
      "cell_type": "markdown",
      "metadata": {
        "id": "oeWaitftqeOn"
      },
      "source": [
        "The results are as expected there are relatively more adoptions on saturday and sundays. Hence we will keep these variables for now and test it in our variable importance plot."
      ]
    },
    {
      "cell_type": "code",
      "metadata": {
        "colab": {
          "base_uri": "https://localhost:8080/",
          "height": 351
        },
        "id": "wxvxMGb1qeOn",
        "outputId": "b04a46b3-6bf1-49bb-95b2-4f7204e48fd6"
      },
      "source": [
        "pyplot.figure(figsize=(15,5))\n",
        "sns.boxplot(X['outcome_type'], X['intake_number'])"
      ],
      "execution_count": null,
      "outputs": [
        {
          "output_type": "execute_result",
          "data": {
            "text/plain": [
              "<matplotlib.axes._subplots.AxesSubplot at 0x7ff29d084210>"
            ]
          },
          "metadata": {},
          "execution_count": 32
        },
        {
          "output_type": "display_data",
          "data": {
            "image/png": "[encoded data removed]",
            "text/plain": [
              "<Figure size 1080x360 with 1 Axes>"
            ]
          },
          "metadata": {
            "needs_background": "light"
          }
        }
      ]
    },
    {
      "cell_type": "markdown",
      "metadata": {
        "id": "IGeujVZMqeOn"
      },
      "source": [
        "Higher number of intake_number has more chances of returning to owner, adoption and missing. Hence an important variable"
      ]
    },
    {
      "cell_type": "markdown",
      "metadata": {
        "id": "16JTve8XqeOn"
      },
      "source": [
        "Lets have a quick check on variable importance and model performance so that we can tweak it accordingly."
      ]
    },
    {
      "cell_type": "markdown",
      "metadata": {
        "id": "PoqRSDOlqeOn"
      },
      "source": [
        "** Converting the data into training and validation set **"
      ]
    },
    {
      "cell_type": "code",
      "metadata": {
        "colab": {
          "base_uri": "https://localhost:8080/",
          "height": 713
        },
        "id": "DWqs4myGqeOo",
        "outputId": "da45a3cf-49dc-465e-910a-d033f8f8c52e"
      },
      "source": [
        "X"
      ],
      "execution_count": null,
      "outputs": [
        {
          "output_type": "execute_result",
          "data": {
            "text/html": [
              "\n",
              "  <div id=\"df-483ce5b5-bb2c-4240-a51d-50240aaf35bf\">\n",
              "    <div class=\"colab-df-container\">\n",
              "      <div>\n",
              "<style scoped>\n",
              "    .dataframe tbody tr th:only-of-type {\n",
              "        vertical-align: middle;\n",
              "    }\n",
              "\n",
              "    .dataframe tbody tr th {\n",
              "        vertical-align: top;\n",
              "    }\n",
              "\n",
              "    .dataframe thead th {\n",
              "        text-align: right;\n",
              "    }\n",
              "</style>\n",
              "<table border=\"1\" class=\"dataframe\">\n",
              "  <thead>\n",
              "    <tr style=\"text-align: right;\">\n",
              "      <th></th>\n",
              "      <th>dob_year</th>\n",
              "      <th>animal_type</th>\n",
              "      <th>breed</th>\n",
              "      <th>color</th>\n",
              "      <th>intake_condition</th>\n",
              "      <th>intake_type</th>\n",
              "      <th>sex_upon_intake</th>\n",
              "      <th>age_upon_intake_(days)</th>\n",
              "      <th>intake_month</th>\n",
              "      <th>intake_year</th>\n",
              "      <th>intake_monthyear</th>\n",
              "      <th>intake_weekday</th>\n",
              "      <th>intake_hour</th>\n",
              "      <th>intake_number</th>\n",
              "      <th>time_in_shelter_days</th>\n",
              "      <th>sex_upon_outcome</th>\n",
              "      <th>age_upon_outcome_(days)</th>\n",
              "      <th>outcome_month</th>\n",
              "      <th>outcome_year</th>\n",
              "      <th>outcome_monthyear</th>\n",
              "      <th>outcome_weekday</th>\n",
              "      <th>outcome_hour</th>\n",
              "      <th>outcome_type</th>\n",
              "      <th>intake_day</th>\n",
              "    </tr>\n",
              "  </thead>\n",
              "  <tbody>\n",
              "    <tr>\n",
              "      <th>0</th>\n",
              "      <td>2007</td>\n",
              "      <td>Dog</td>\n",
              "      <td>Spinone Italiano Mix</td>\n",
              "      <td>Yellow/White</td>\n",
              "      <td>Normal</td>\n",
              "      <td>Stray</td>\n",
              "      <td>Neutered Male</td>\n",
              "      <td>3650</td>\n",
              "      <td>12.000000</td>\n",
              "      <td>2017.000000</td>\n",
              "      <td>201712.000000</td>\n",
              "      <td>Thursday</td>\n",
              "      <td>14.000000</td>\n",
              "      <td>1.000000</td>\n",
              "      <td>0.588194</td>\n",
              "      <td>Neutered Male</td>\n",
              "      <td>3650.000000</td>\n",
              "      <td>12.000000</td>\n",
              "      <td>2017.000000</td>\n",
              "      <td>201712.000000</td>\n",
              "      <td>Thursday</td>\n",
              "      <td>0.000000</td>\n",
              "      <td>Return to Owner</td>\n",
              "      <td>7</td>\n",
              "    </tr>\n",
              "    <tr>\n",
              "      <th>1</th>\n",
              "      <td>2007</td>\n",
              "      <td>Dog</td>\n",
              "      <td>Spinone Italiano Mix</td>\n",
              "      <td>Yellow/White</td>\n",
              "      <td>Normal</td>\n",
              "      <td>Public Assist</td>\n",
              "      <td>Neutered Male</td>\n",
              "      <td>2555</td>\n",
              "      <td>12.000000</td>\n",
              "      <td>2014.000000</td>\n",
              "      <td>201412.000000</td>\n",
              "      <td>Friday</td>\n",
              "      <td>10.000000</td>\n",
              "      <td>2.000000</td>\n",
              "      <td>1.259722</td>\n",
              "      <td>Neutered Male</td>\n",
              "      <td>2555.000000</td>\n",
              "      <td>12.000000</td>\n",
              "      <td>2014.000000</td>\n",
              "      <td>201412.000000</td>\n",
              "      <td>Saturday</td>\n",
              "      <td>16.000000</td>\n",
              "      <td>Return to Owner</td>\n",
              "      <td>19</td>\n",
              "    </tr>\n",
              "    <tr>\n",
              "      <th>2</th>\n",
              "      <td>2007</td>\n",
              "      <td>Dog</td>\n",
              "      <td>Spinone Italiano Mix</td>\n",
              "      <td>Yellow/White</td>\n",
              "      <td>Normal</td>\n",
              "      <td>Public Assist</td>\n",
              "      <td>Neutered Male</td>\n",
              "      <td>2190</td>\n",
              "      <td>3.000000</td>\n",
              "      <td>2014.000000</td>\n",
              "      <td>201403.000000</td>\n",
              "      <td>Friday</td>\n",
              "      <td>14.000000</td>\n",
              "      <td>3.000000</td>\n",
              "      <td>1.113889</td>\n",
              "      <td>Neutered Male</td>\n",
              "      <td>2190.000000</td>\n",
              "      <td>3.000000</td>\n",
              "      <td>2014.000000</td>\n",
              "      <td>201403.000000</td>\n",
              "      <td>Saturday</td>\n",
              "      <td>17.000000</td>\n",
              "      <td>Return to Owner</td>\n",
              "      <td>7</td>\n",
              "    </tr>\n",
              "    <tr>\n",
              "      <th>3</th>\n",
              "      <td>2004</td>\n",
              "      <td>Dog</td>\n",
              "      <td>Dachshund</td>\n",
              "      <td>Tricolor</td>\n",
              "      <td>Normal</td>\n",
              "      <td>Owner Surrender</td>\n",
              "      <td>Neutered Male</td>\n",
              "      <td>3650</td>\n",
              "      <td>4.000000</td>\n",
              "      <td>2014.000000</td>\n",
              "      <td>201404.000000</td>\n",
              "      <td>Wednesday</td>\n",
              "      <td>15.000000</td>\n",
              "      <td>1.000000</td>\n",
              "      <td>4.970139</td>\n",
              "      <td>Neutered Male</td>\n",
              "      <td>3650.000000</td>\n",
              "      <td>4.000000</td>\n",
              "      <td>2014.000000</td>\n",
              "      <td>201404.000000</td>\n",
              "      <td>Monday</td>\n",
              "      <td>15.000000</td>\n",
              "      <td>Missing</td>\n",
              "      <td>2</td>\n",
              "    </tr>\n",
              "    <tr>\n",
              "      <th>4</th>\n",
              "      <td>1997</td>\n",
              "      <td>Dog</td>\n",
              "      <td>Shetland Sheepdog</td>\n",
              "      <td>Brown/White</td>\n",
              "      <td>Injured</td>\n",
              "      <td>Public Assist</td>\n",
              "      <td>Neutered Male</td>\n",
              "      <td>5840</td>\n",
              "      <td>11.000000</td>\n",
              "      <td>2013.000000</td>\n",
              "      <td>201311.000000</td>\n",
              "      <td>Saturday</td>\n",
              "      <td>9.000000</td>\n",
              "      <td>1.000000</td>\n",
              "      <td>0.119444</td>\n",
              "      <td>Neutered Male</td>\n",
              "      <td>5840.000000</td>\n",
              "      <td>11.000000</td>\n",
              "      <td>2013.000000</td>\n",
              "      <td>201311.000000</td>\n",
              "      <td>Saturday</td>\n",
              "      <td>11.000000</td>\n",
              "      <td>Return to Owner</td>\n",
              "      <td>16</td>\n",
              "    </tr>\n",
              "    <tr>\n",
              "      <th>...</th>\n",
              "      <td>...</td>\n",
              "      <td>...</td>\n",
              "      <td>...</td>\n",
              "      <td>...</td>\n",
              "      <td>...</td>\n",
              "      <td>...</td>\n",
              "      <td>...</td>\n",
              "      <td>...</td>\n",
              "      <td>...</td>\n",
              "      <td>...</td>\n",
              "      <td>...</td>\n",
              "      <td>...</td>\n",
              "      <td>...</td>\n",
              "      <td>...</td>\n",
              "      <td>...</td>\n",
              "      <td>...</td>\n",
              "      <td>...</td>\n",
              "      <td>...</td>\n",
              "      <td>...</td>\n",
              "      <td>...</td>\n",
              "      <td>...</td>\n",
              "      <td>...</td>\n",
              "      <td>...</td>\n",
              "      <td>...</td>\n",
              "    </tr>\n",
              "    <tr>\n",
              "      <th>21536</th>\n",
              "      <td>2009</td>\n",
              "      <td>Dog</td>\n",
              "      <td>Toy Poodle Mix</td>\n",
              "      <td>Apricot</td>\n",
              "      <td>Normal</td>\n",
              "      <td>Public Assist</td>\n",
              "      <td>Neutered Male</td>\n",
              "      <td>1825</td>\n",
              "      <td>9.000000</td>\n",
              "      <td>2014.000000</td>\n",
              "      <td>201409.000000</td>\n",
              "      <td>Saturday</td>\n",
              "      <td>11.000000</td>\n",
              "      <td>1.000000</td>\n",
              "      <td>9.070833</td>\n",
              "      <td>Neutered Male</td>\n",
              "      <td>1825.000000</td>\n",
              "      <td>9.000000</td>\n",
              "      <td>2014.000000</td>\n",
              "      <td>201409.000000</td>\n",
              "      <td>Monday</td>\n",
              "      <td>13.000000</td>\n",
              "      <td>Return to Owner</td>\n",
              "      <td>13</td>\n",
              "    </tr>\n",
              "    <tr>\n",
              "      <th>21537</th>\n",
              "      <td>2012</td>\n",
              "      <td>Dog</td>\n",
              "      <td>Boxer Mix</td>\n",
              "      <td>Fawn/White</td>\n",
              "      <td>Normal</td>\n",
              "      <td>Owner Surrender</td>\n",
              "      <td>Intact Male</td>\n",
              "      <td>730</td>\n",
              "      <td>9.000000</td>\n",
              "      <td>2014.000000</td>\n",
              "      <td>201409.000000</td>\n",
              "      <td>Thursday</td>\n",
              "      <td>14.000000</td>\n",
              "      <td>1.000000</td>\n",
              "      <td>1.142361</td>\n",
              "      <td>Neutered Male</td>\n",
              "      <td>730.000000</td>\n",
              "      <td>9.000000</td>\n",
              "      <td>2014.000000</td>\n",
              "      <td>201409.000000</td>\n",
              "      <td>Friday</td>\n",
              "      <td>17.000000</td>\n",
              "      <td>Died</td>\n",
              "      <td>25</td>\n",
              "    </tr>\n",
              "    <tr>\n",
              "      <th>21538</th>\n",
              "      <td>2014</td>\n",
              "      <td>Dog</td>\n",
              "      <td>Labrador Retriever Mix</td>\n",
              "      <td>Brown</td>\n",
              "      <td>Normal</td>\n",
              "      <td>Stray</td>\n",
              "      <td>Spayed Female</td>\n",
              "      <td>730</td>\n",
              "      <td>5.000000</td>\n",
              "      <td>2017.000000</td>\n",
              "      <td>201705.000000</td>\n",
              "      <td>Thursday</td>\n",
              "      <td>11.000000</td>\n",
              "      <td>1.000000</td>\n",
              "      <td>0.143750</td>\n",
              "      <td>Spayed Female</td>\n",
              "      <td>730.000000</td>\n",
              "      <td>5.000000</td>\n",
              "      <td>2017.000000</td>\n",
              "      <td>201705.000000</td>\n",
              "      <td>Thursday</td>\n",
              "      <td>14.000000</td>\n",
              "      <td>Return to Owner</td>\n",
              "      <td>4</td>\n",
              "    </tr>\n",
              "    <tr>\n",
              "      <th>21539</th>\n",
              "      <td>2014</td>\n",
              "      <td>Dog</td>\n",
              "      <td>Labrador Retriever Mix</td>\n",
              "      <td>Brown</td>\n",
              "      <td>Normal</td>\n",
              "      <td>Stray</td>\n",
              "      <td>Intact Female</td>\n",
              "      <td>60</td>\n",
              "      <td>9.000000</td>\n",
              "      <td>2014.000000</td>\n",
              "      <td>201409.000000</td>\n",
              "      <td>Saturday</td>\n",
              "      <td>11.000000</td>\n",
              "      <td>2.000000</td>\n",
              "      <td>4.279861</td>\n",
              "      <td>Spayed Female</td>\n",
              "      <td>60.000000</td>\n",
              "      <td>9.000000</td>\n",
              "      <td>2014.000000</td>\n",
              "      <td>201409.000000</td>\n",
              "      <td>Wednesday</td>\n",
              "      <td>18.000000</td>\n",
              "      <td>Missing</td>\n",
              "      <td>13</td>\n",
              "    </tr>\n",
              "    <tr>\n",
              "      <th>21540</th>\n",
              "      <td>2012</td>\n",
              "      <td>Dog</td>\n",
              "      <td>American Staffordshire Terrier Mix</td>\n",
              "      <td>Tan/White</td>\n",
              "      <td>Normal</td>\n",
              "      <td>Owner Surrender</td>\n",
              "      <td>Neutered Male</td>\n",
              "      <td>730</td>\n",
              "      <td>6.478087</td>\n",
              "      <td>2014.083798</td>\n",
              "      <td>201414.857846</td>\n",
              "      <td>Saturday</td>\n",
              "      <td>13.584819</td>\n",
              "      <td>1.150093</td>\n",
              "      <td>16.788162</td>\n",
              "      <td>Neutered Male</td>\n",
              "      <td>1004.314253</td>\n",
              "      <td>6.572238</td>\n",
              "      <td>2014.117549</td>\n",
              "      <td>201418.327112</td>\n",
              "      <td>Saturday</td>\n",
              "      <td>14.593222</td>\n",
              "      <td>Adoption</td>\n",
              "      <td>1</td>\n",
              "    </tr>\n",
              "  </tbody>\n",
              "</table>\n",
              "<p>21541 rows × 24 columns</p>\n",
              "</div>\n",
              "      <button class=\"colab-df-convert\" onclick=\"convertToInteractive('df-483ce5b5-bb2c-4240-a51d-50240aaf35bf')\"\n",
              "              title=\"Convert this dataframe to an interactive table.\"\n",
              "              style=\"display:none;\">\n",
              "        \n",
              "  <svg xmlns=\"http://www.w3.org/2000/svg\" height=\"24px\"viewBox=\"0 0 24 24\"\n",
              "       width=\"24px\">\n",
              "    <path d=\"M0 0h24v24H0V0z\" fill=\"none\"/>\n",
              "    <path d=\"M18.56 5.44l.94 2.06.94-2.06 2.06-.94-2.06-.94-.94-2.06-.94 2.06-2.06.94zm-11 1L8.5 8.5l.94-2.06 2.06-.94-2.06-.94L8.5 2.5l-.94 2.06-2.06.94zm10 10l.94 2.06.94-2.06 2.06-.94-2.06-.94-.94-2.06-.94 2.06-2.06.94z\"/><path d=\"M17.41 7.96l-1.37-1.37c-.4-.4-.92-.59-1.43-.59-.52 0-1.04.2-1.43.59L10.3 9.45l-7.72 7.72c-.78.78-.78 2.05 0 2.83L4 21.41c.39.39.9.59 1.41.59.51 0 1.02-.2 1.41-.59l7.78-7.78 2.81-2.81c.8-.78.8-2.07 0-2.86zM5.41 20L4 18.59l7.72-7.72 1.47 1.35L5.41 20z\"/>\n",
              "  </svg>\n",
              "      </button>\n",
              "      \n",
              "  <style>\n",
              "    .colab-df-container {\n",
              "      display:flex;\n",
              "      flex-wrap:wrap;\n",
              "      gap: 12px;\n",
              "    }\n",
              "\n",
              "    .colab-df-convert {\n",
              "      background-color: #E8F0FE;\n",
              "      border: none;\n",
              "      border-radius: 50%;\n",
              "      cursor: pointer;\n",
              "      display: none;\n",
              "      fill: #1967D2;\n",
              "      height: 32px;\n",
              "      padding: 0 0 0 0;\n",
              "      width: 32px;\n",
              "    }\n",
              "\n",
              "    .colab-df-convert:hover {\n",
              "      background-color: #E2EBFA;\n",
              "      box-shadow: 0px 1px 2px rgba(60, 64, 67, 0.3), 0px 1px 3px 1px rgba(60, 64, 67, 0.15);\n",
              "      fill: #174EA6;\n",
              "    }\n",
              "\n",
              "    [theme=dark] .colab-df-convert {\n",
              "      background-color: #3B4455;\n",
              "      fill: #D2E3FC;\n",
              "    }\n",
              "\n",
              "    [theme=dark] .colab-df-convert:hover {\n",
              "      background-color: #434B5C;\n",
              "      box-shadow: 0px 1px 3px 1px rgba(0, 0, 0, 0.15);\n",
              "      filter: drop-shadow(0px 1px 2px rgba(0, 0, 0, 0.3));\n",
              "      fill: #FFFFFF;\n",
              "    }\n",
              "  </style>\n",
              "\n",
              "      <script>\n",
              "        const buttonEl =\n",
              "          document.querySelector('#df-483ce5b5-bb2c-4240-a51d-50240aaf35bf button.colab-df-convert');\n",
              "        buttonEl.style.display =\n",
              "          google.colab.kernel.accessAllowed ? 'block' : 'none';\n",
              "\n",
              "        async function convertToInteractive(key) {\n",
              "          const element = document.querySelector('#df-483ce5b5-bb2c-4240-a51d-50240aaf35bf');\n",
              "          const dataTable =\n",
              "            await google.colab.kernel.invokeFunction('convertToInteractive',\n",
              "                                                     [key], {});\n",
              "          if (!dataTable) return;\n",
              "\n",
              "          const docLinkHtml = 'Like what you see? Visit the ' +\n",
              "            '<a target=\"_blank\" href=https://colab.research.google.com/notebooks/data_table.ipynb>data table notebook</a>'\n",
              "            + ' to learn more about interactive tables.';\n",
              "          element.innerHTML = '';\n",
              "          dataTable['output_type'] = 'display_data';\n",
              "          await google.colab.output.renderOutput(dataTable, element);\n",
              "          const docLink = document.createElement('div');\n",
              "          docLink.innerHTML = docLinkHtml;\n",
              "          element.appendChild(docLink);\n",
              "        }\n",
              "      </script>\n",
              "    </div>\n",
              "  </div>\n",
              "  "
            ],
            "text/plain": [
              "       dob_year animal_type                               breed         color  \\\n",
              "0          2007         Dog                Spinone Italiano Mix  Yellow/White   \n",
              "1          2007         Dog                Spinone Italiano Mix  Yellow/White   \n",
              "2          2007         Dog                Spinone Italiano Mix  Yellow/White   \n",
              "3          2004         Dog                           Dachshund      Tricolor   \n",
              "4          1997         Dog                   Shetland Sheepdog   Brown/White   \n",
              "...         ...         ...                                 ...           ...   \n",
              "21536      2009         Dog                      Toy Poodle Mix       Apricot   \n",
              "21537      2012         Dog                           Boxer Mix    Fawn/White   \n",
              "21538      2014         Dog              Labrador Retriever Mix         Brown   \n",
              "21539      2014         Dog              Labrador Retriever Mix         Brown   \n",
              "21540      2012         Dog  American Staffordshire Terrier Mix     Tan/White   \n",
              "\n",
              "      intake_condition      intake_type sex_upon_intake  \\\n",
              "0               Normal            Stray   Neutered Male   \n",
              "1               Normal    Public Assist   Neutered Male   \n",
              "2               Normal    Public Assist   Neutered Male   \n",
              "3               Normal  Owner Surrender   Neutered Male   \n",
              "4              Injured    Public Assist   Neutered Male   \n",
              "...                ...              ...             ...   \n",
              "21536           Normal    Public Assist   Neutered Male   \n",
              "21537           Normal  Owner Surrender     Intact Male   \n",
              "21538           Normal            Stray   Spayed Female   \n",
              "21539           Normal            Stray   Intact Female   \n",
              "21540           Normal  Owner Surrender   Neutered Male   \n",
              "\n",
              "       age_upon_intake_(days)  intake_month  intake_year  intake_monthyear  \\\n",
              "0                        3650     12.000000  2017.000000     201712.000000   \n",
              "1                        2555     12.000000  2014.000000     201412.000000   \n",
              "2                        2190      3.000000  2014.000000     201403.000000   \n",
              "3                        3650      4.000000  2014.000000     201404.000000   \n",
              "4                        5840     11.000000  2013.000000     201311.000000   \n",
              "...                       ...           ...          ...               ...   \n",
              "21536                    1825      9.000000  2014.000000     201409.000000   \n",
              "21537                     730      9.000000  2014.000000     201409.000000   \n",
              "21538                     730      5.000000  2017.000000     201705.000000   \n",
              "21539                      60      9.000000  2014.000000     201409.000000   \n",
              "21540                     730      6.478087  2014.083798     201414.857846   \n",
              "\n",
              "      intake_weekday  intake_hour  intake_number  time_in_shelter_days  \\\n",
              "0           Thursday    14.000000       1.000000              0.588194   \n",
              "1             Friday    10.000000       2.000000              1.259722   \n",
              "2             Friday    14.000000       3.000000              1.113889   \n",
              "3          Wednesday    15.000000       1.000000              4.970139   \n",
              "4           Saturday     9.000000       1.000000              0.119444   \n",
              "...              ...          ...            ...                   ...   \n",
              "21536       Saturday    11.000000       1.000000              9.070833   \n",
              "21537       Thursday    14.000000       1.000000              1.142361   \n",
              "21538       Thursday    11.000000       1.000000              0.143750   \n",
              "21539       Saturday    11.000000       2.000000              4.279861   \n",
              "21540       Saturday    13.584819       1.150093             16.788162   \n",
              "\n",
              "      sex_upon_outcome  age_upon_outcome_(days)  outcome_month  outcome_year  \\\n",
              "0        Neutered Male              3650.000000      12.000000   2017.000000   \n",
              "1        Neutered Male              2555.000000      12.000000   2014.000000   \n",
              "2        Neutered Male              2190.000000       3.000000   2014.000000   \n",
              "3        Neutered Male              3650.000000       4.000000   2014.000000   \n",
              "4        Neutered Male              5840.000000      11.000000   2013.000000   \n",
              "...                ...                      ...            ...           ...   \n",
              "21536    Neutered Male              1825.000000       9.000000   2014.000000   \n",
              "21537    Neutered Male               730.000000       9.000000   2014.000000   \n",
              "21538    Spayed Female               730.000000       5.000000   2017.000000   \n",
              "21539    Spayed Female                60.000000       9.000000   2014.000000   \n",
              "21540    Neutered Male              1004.314253       6.572238   2014.117549   \n",
              "\n",
              "       outcome_monthyear outcome_weekday  outcome_hour     outcome_type  \\\n",
              "0          201712.000000        Thursday      0.000000  Return to Owner   \n",
              "1          201412.000000        Saturday     16.000000  Return to Owner   \n",
              "2          201403.000000        Saturday     17.000000  Return to Owner   \n",
              "3          201404.000000          Monday     15.000000          Missing   \n",
              "4          201311.000000        Saturday     11.000000  Return to Owner   \n",
              "...                  ...             ...           ...              ...   \n",
              "21536      201409.000000          Monday     13.000000  Return to Owner   \n",
              "21537      201409.000000          Friday     17.000000             Died   \n",
              "21538      201705.000000        Thursday     14.000000  Return to Owner   \n",
              "21539      201409.000000       Wednesday     18.000000          Missing   \n",
              "21540      201418.327112        Saturday     14.593222         Adoption   \n",
              "\n",
              "       intake_day  \n",
              "0               7  \n",
              "1              19  \n",
              "2               7  \n",
              "3               2  \n",
              "4              16  \n",
              "...           ...  \n",
              "21536          13  \n",
              "21537          25  \n",
              "21538           4  \n",
              "21539          13  \n",
              "21540           1  \n",
              "\n",
              "[21541 rows x 24 columns]"
            ]
          },
          "metadata": {},
          "execution_count": 33
        }
      ]
    },
    {
      "cell_type": "markdown",
      "metadata": {
        "id": "K6U3y_IBqeOo"
      },
      "source": [
        "# Feature encoding(initial iteration)"
      ]
    },
    {
      "cell_type": "code",
      "metadata": {
        "collapsed": true,
        "id": "aAANeMcHqeOo"
      },
      "source": [
        "X_check = X.copy()"
      ],
      "execution_count": null,
      "outputs": []
    },
    {
      "cell_type": "code",
      "metadata": {
        "collapsed": true,
        "id": "Ed_emiLsqeOp"
      },
      "source": [
        "def onehotdataframe(X_check):    \n",
        "    one_hot_animal_type=pd.get_dummies(X_check.animal_type)\n",
        "\n",
        "    one_hot_intake_condition = pd.get_dummies(X_check.intake_condition)\n",
        "    one_hot_intake_condition.columns = [str(col) + '_intake' for col in one_hot_intake_condition.columns]\n",
        "\n",
        "    one_hot_intake_type = pd.get_dummies(X_check.intake_type)\n",
        "    one_hot_intake_type.columns = [str(col) + '_intake' for col in one_hot_intake_type.columns]\n",
        "\n",
        "    one_hot_sex_upon_intake = pd.get_dummies(X_check.sex_upon_intake)\n",
        "    one_hot_sex_upon_intake.columns = [str(col) + '_intake' for col in one_hot_sex_upon_intake.columns]\n",
        "\n",
        "    one_hot_intake_weekday = pd.get_dummies(X_check.intake_weekday)\n",
        "    one_hot_intake_weekday.columns = [str(col) + '_intake' for col in one_hot_intake_weekday.columns]\n",
        "\n",
        "    one_hot_sex_upon_outcome = pd.get_dummies(X_check.sex_upon_outcome)\n",
        "    one_hot_sex_upon_outcome.columns = [str(col) + '_outcome' for col in one_hot_sex_upon_outcome.columns]\n",
        "\n",
        "    one_hot_outcome_weekday = pd.get_dummies(X_check.outcome_weekday)\n",
        "    one_hot_outcome_weekday.columns = [str(col) + '_outcome' for col in one_hot_outcome_weekday.columns]     \n",
        "\n",
        "    X_check = X_check.drop(['animal_type','intake_type', 'intake_condition', 'sex_upon_intake', 'intake_weekday', 'sex_upon_outcome', 'outcome_weekday'], axis = 1) \n",
        "\n",
        "    #Merging one hot encoded features with our dataset 'data' \n",
        "    X_check=pd.concat([X_check, one_hot_animal_type,one_hot_intake_condition,one_hot_intake_type,one_hot_sex_upon_intake,one_hot_intake_weekday,one_hot_sex_upon_outcome,one_hot_outcome_weekday],axis=1)  \n",
        "    \n",
        "    return(X_check)"
      ],
      "execution_count": null,
      "outputs": []
    },
    {
      "cell_type": "code",
      "metadata": {
        "collapsed": true,
        "id": "qvZomHeAqeOp"
      },
      "source": [
        "X_check = onehotdataframe(X_check)\n",
        "X_check['outcome_type'] = X_check['outcome_type'].map({'Adoption' : 8, 'Transfer': 7, 'Return to Owner' : 6, 'Euthanasia' : 5, 'Died' : 4, 'Missing' : 3, 'Relocate' : 2, 'Rto-Adopt' : 1, 'Disposal' : 0}) \n",
        "y_check = X_check['outcome_type']\n",
        "X_check= X_check.drop(['outcome_type'], axis = 1)"
      ],
      "execution_count": null,
      "outputs": []
    },
    {
      "cell_type": "markdown",
      "metadata": {
        "id": "GUNG5sX0qeOq"
      },
      "source": [
        "** Applying label encoding: **"
      ]
    },
    {
      "cell_type": "code",
      "metadata": {
        "collapsed": true,
        "id": "4pFSstSCqeOq"
      },
      "source": [
        "le1= LabelEncoder()\n",
        "le2= LabelEncoder()\n",
        "\n",
        "le1.fit(X_check['breed'])\n",
        "#print(le1.classes_)\n",
        "\n",
        "X_check['breed'] = le1.transform(X_check['breed'])\n",
        "\n",
        "le2.fit(X_check['color'])\n",
        "#print(le2.classes_)\n",
        "\n",
        "X_check['color'] = le2.transform(X_check['color'])"
      ],
      "execution_count": null,
      "outputs": []
    },
    {
      "cell_type": "code",
      "metadata": {
        "colab": {
          "base_uri": "https://localhost:8080/"
        },
        "id": "77HsHdVoqeOq",
        "outputId": "bce75ac6-e01b-44c9-b550-d7247bc4c31e"
      },
      "source": [
        "# Splitting the dataset into the Training set and Test set.\n",
        "X_train_check, X_val_check, y_train_check, y_val_check = train_test_split(X_check, y_check, test_size = 0.2, random_state = 20)\n",
        "#Split is 80%-20% for testing. Here X_test~Validation set.\n",
        "\n",
        "\n",
        "print(X_train_check.shape, X_val_check.shape, y_train_check.shape, y_val_check.shape)"
      ],
      "execution_count": null,
      "outputs": [
        {
          "output_type": "stream",
          "name": "stdout",
          "text": [
            "(17232, 57) (4309, 57) (17232,) (4309,)\n"
          ]
        }
      ]
    },
    {
      "cell_type": "code",
      "metadata": {
        "colab": {
          "base_uri": "https://localhost:8080/",
          "height": 363
        },
        "id": "Rv_CNgt1qeOq",
        "outputId": "02a6c214-f51a-4743-e447-52032af5ed09"
      },
      "source": [
        "#Drawing a count plot of dependent variable to check the biasness of prediction in data present\n",
        "bx = pd.DataFrame(y_train_check)['outcome_type'].value_counts().plot(kind='bar',figsize=(10,5),title=\"Frequency of each outcome type\")\n",
        "bx.set_xlabel(\"Outcome Type\")\n",
        "bx.set_ylabel(\"Frequency\")"
      ],
      "execution_count": null,
      "outputs": [
        {
          "output_type": "execute_result",
          "data": {
            "text/plain": [
              "Text(0, 0.5, 'Frequency')"
            ]
          },
          "metadata": {},
          "execution_count": 39
        },
        {
          "output_type": "display_data",
          "data": {
            "image/png": "[encoded data removed]",
            "text/plain": [
              "<Figure size 720x360 with 1 Axes>"
            ]
          },
          "metadata": {
            "needs_background": "light"
          }
        }
      ]
    },
    {
      "cell_type": "code",
      "metadata": {
        "colab": {
          "base_uri": "https://localhost:8080/"
        },
        "id": "A4Nhmc_JqeOr",
        "outputId": "2d2c66fe-3825-4aa0-bfb8-c68ba8401bb1"
      },
      "source": [
        "print(\"Class distribution count\")\n",
        "print(pd.DataFrame(y_train_check)['outcome_type'].value_counts())\n",
        "print(\"Class distribution percent(%)\")\n",
        "print(pd.DataFrame(y_val_check)['outcome_type'].value_counts(normalize = True)*100)"
      ],
      "execution_count": null,
      "outputs": [
        {
          "output_type": "stream",
          "name": "stdout",
          "text": [
            "Class distribution count\n",
            "8    4326\n",
            "6    4058\n",
            "7    3577\n",
            "5    1584\n",
            "4     972\n",
            "2     902\n",
            "3     900\n",
            "1     822\n",
            "0      91\n",
            "Name: outcome_type, dtype: int64\n",
            "Class distribution percent(%)\n",
            "8    25.319100\n",
            "6    23.717800\n",
            "7    20.584822\n",
            "5     9.839870\n",
            "4     5.546531\n",
            "2     4.989557\n",
            "3     4.943142\n",
            "1     4.455790\n",
            "0     0.603388\n",
            "Name: outcome_type, dtype: float64\n"
          ]
        }
      ]
    },
    {
      "cell_type": "markdown",
      "metadata": {
        "id": "ti_BhkjAqeOr"
      },
      "source": [
        "This implies we are good to go with this training data set as it is showing same stats as that of combined dataset."
      ]
    },
    {
      "cell_type": "markdown",
      "metadata": {
        "id": "6Hm7awpEqeOr"
      },
      "source": [
        "# Modelling(Initial iterations)"
      ]
    },
    {
      "cell_type": "markdown",
      "metadata": {
        "id": "qTOO5C0PqeOr"
      },
      "source": [
        "** Starting with lightgbm test**"
      ]
    },
    {
      "cell_type": "markdown",
      "metadata": {
        "id": "n2dRIVNxqeOs"
      },
      "source": [
        "** Test 1**"
      ]
    },
    {
      "cell_type": "code",
      "metadata": {
        "collapsed": true,
        "id": "IR0dv_YtqeOs"
      },
      "source": [
        "import lightgbm as lgb"
      ],
      "execution_count": null,
      "outputs": []
    },
    {
      "cell_type": "code",
      "metadata": {
        "collapsed": true,
        "id": "cGBikvTwqeOs"
      },
      "source": [
        "check_train_data=lgb.Dataset(X_train_check,label=y_train_check)"
      ],
      "execution_count": null,
      "outputs": []
    },
    {
      "cell_type": "code",
      "metadata": {
        "collapsed": true,
        "id": "kJmbt_1SqeOs"
      },
      "source": [
        "params = {'task': 'train',\n",
        "    'boosting_type': 'gbdt',\n",
        "    'objective': 'multiclass',\n",
        "    'num_class':9,\n",
        "    'metric': 'multi_logloss',\n",
        "    'learning_rate': 0.0023,\n",
        "    'max_depth': 7,\n",
        "    'num_leaves': 16,\n",
        "    'feature_fraction': 0.4,\n",
        "    'bagging_fraction': 0.6,\n",
        "    'bagging_freq': 17 }"
      ],
      "execution_count": null,
      "outputs": []
    },
    {
      "cell_type": "code",
      "metadata": {
        "id": "lHd-dpe9qeOs",
        "colab": {
          "base_uri": "https://localhost:8080/"
        },
        "outputId": "61b245a1-94ad-4832-ce59-35ddec3ef4c2"
      },
      "source": [
        "lgb_cv = lgb.cv(params, check_train_data, num_boost_round=10000, nfold=3, shuffle=True, stratified=True, verbose_eval=20, early_stopping_rounds=100)\n",
        "\n",
        "nround = lgb_cv['multi_logloss-mean'].index(np.min(lgb_cv['multi_logloss-mean']))\n",
        "print(nround)\n",
        "\n",
        "model = lgb.train(params, check_train_data, num_boost_round=nround)"
      ],
      "execution_count": null,
      "outputs": [
        {
          "output_type": "stream",
          "name": "stdout",
          "text": [
            "[20]\tcv_agg's multi_logloss: 1.84723 + 0.000358216\n",
            "[40]\tcv_agg's multi_logloss: 1.82194 + 0.000801167\n",
            "[60]\tcv_agg's multi_logloss: 1.79778 + 0.00112112\n",
            "[80]\tcv_agg's multi_logloss: 1.77584 + 0.0013809\n",
            "[100]\tcv_agg's multi_logloss: 1.75496 + 0.00161067\n",
            "[120]\tcv_agg's multi_logloss: 1.73527 + 0.00184334\n",
            "[140]\tcv_agg's multi_logloss: 1.71571 + 0.00216524\n",
            "[160]\tcv_agg's multi_logloss: 1.69892 + 0.00243238\n",
            "[180]\tcv_agg's multi_logloss: 1.68146 + 0.00265688\n",
            "[200]\tcv_agg's multi_logloss: 1.66555 + 0.0029562\n",
            "[220]\tcv_agg's multi_logloss: 1.65127 + 0.00320113\n",
            "[240]\tcv_agg's multi_logloss: 1.63716 + 0.0034171\n",
            "[260]\tcv_agg's multi_logloss: 1.62378 + 0.00363596\n",
            "[280]\tcv_agg's multi_logloss: 1.61165 + 0.00376256\n",
            "[300]\tcv_agg's multi_logloss: 1.59942 + 0.00402511\n",
            "[320]\tcv_agg's multi_logloss: 1.58687 + 0.00421649\n",
            "[340]\tcv_agg's multi_logloss: 1.57533 + 0.00429234\n",
            "[360]\tcv_agg's multi_logloss: 1.56387 + 0.00438966\n",
            "[380]\tcv_agg's multi_logloss: 1.55333 + 0.00456954\n",
            "[400]\tcv_agg's multi_logloss: 1.54282 + 0.00471858\n",
            "[420]\tcv_agg's multi_logloss: 1.53289 + 0.00487321\n",
            "[440]\tcv_agg's multi_logloss: 1.52291 + 0.0050516\n",
            "[460]\tcv_agg's multi_logloss: 1.51377 + 0.00513828\n",
            "[480]\tcv_agg's multi_logloss: 1.50445 + 0.00523304\n",
            "[500]\tcv_agg's multi_logloss: 1.49581 + 0.00535447\n",
            "[520]\tcv_agg's multi_logloss: 1.48722 + 0.00547303\n",
            "[540]\tcv_agg's multi_logloss: 1.47946 + 0.00556961\n",
            "[560]\tcv_agg's multi_logloss: 1.47206 + 0.0056634\n",
            "[580]\tcv_agg's multi_logloss: 1.46477 + 0.00575004\n",
            "[600]\tcv_agg's multi_logloss: 1.45807 + 0.00582759\n",
            "[620]\tcv_agg's multi_logloss: 1.45168 + 0.00589583\n",
            "[640]\tcv_agg's multi_logloss: 1.44503 + 0.00595239\n",
            "[660]\tcv_agg's multi_logloss: 1.43868 + 0.00599088\n",
            "[680]\tcv_agg's multi_logloss: 1.43282 + 0.00603745\n",
            "[700]\tcv_agg's multi_logloss: 1.42685 + 0.0061299\n",
            "[720]\tcv_agg's multi_logloss: 1.42148 + 0.00628431\n",
            "[740]\tcv_agg's multi_logloss: 1.41603 + 0.00636814\n",
            "[760]\tcv_agg's multi_logloss: 1.41074 + 0.00647551\n",
            "[780]\tcv_agg's multi_logloss: 1.4057 + 0.00650266\n",
            "[800]\tcv_agg's multi_logloss: 1.40036 + 0.00661269\n",
            "[820]\tcv_agg's multi_logloss: 1.39524 + 0.0066845\n",
            "[840]\tcv_agg's multi_logloss: 1.39058 + 0.00674147\n",
            "[860]\tcv_agg's multi_logloss: 1.38546 + 0.00684473\n",
            "[880]\tcv_agg's multi_logloss: 1.38114 + 0.00691022\n",
            "[900]\tcv_agg's multi_logloss: 1.37646 + 0.00703983\n",
            "[920]\tcv_agg's multi_logloss: 1.37221 + 0.00709675\n",
            "[940]\tcv_agg's multi_logloss: 1.36763 + 0.00721663\n",
            "[960]\tcv_agg's multi_logloss: 1.36373 + 0.00733517\n",
            "[980]\tcv_agg's multi_logloss: 1.35955 + 0.0074318\n",
            "[1000]\tcv_agg's multi_logloss: 1.35563 + 0.00751451\n",
            "[1020]\tcv_agg's multi_logloss: 1.35202 + 0.00761621\n",
            "[1040]\tcv_agg's multi_logloss: 1.34823 + 0.00771898\n",
            "[1060]\tcv_agg's multi_logloss: 1.34476 + 0.00773253\n",
            "[1080]\tcv_agg's multi_logloss: 1.34123 + 0.00774875\n",
            "[1100]\tcv_agg's multi_logloss: 1.33762 + 0.00778846\n",
            "[1120]\tcv_agg's multi_logloss: 1.33457 + 0.00788667\n",
            "[1140]\tcv_agg's multi_logloss: 1.33163 + 0.00794779\n",
            "[1160]\tcv_agg's multi_logloss: 1.32857 + 0.00802255\n",
            "[1180]\tcv_agg's multi_logloss: 1.32541 + 0.00811375\n",
            "[1200]\tcv_agg's multi_logloss: 1.32259 + 0.00819422\n",
            "[1220]\tcv_agg's multi_logloss: 1.31971 + 0.00829958\n",
            "[1240]\tcv_agg's multi_logloss: 1.31693 + 0.00835615\n",
            "[1260]\tcv_agg's multi_logloss: 1.31456 + 0.00840662\n",
            "[1280]\tcv_agg's multi_logloss: 1.31177 + 0.00848937\n",
            "[1300]\tcv_agg's multi_logloss: 1.3091 + 0.00853974\n",
            "[1320]\tcv_agg's multi_logloss: 1.3066 + 0.00862423\n",
            "[1340]\tcv_agg's multi_logloss: 1.30409 + 0.00865837\n",
            "[1360]\tcv_agg's multi_logloss: 1.30186 + 0.00873459\n",
            "[1380]\tcv_agg's multi_logloss: 1.29949 + 0.00879045\n",
            "[1400]\tcv_agg's multi_logloss: 1.29698 + 0.00884042\n",
            "[1420]\tcv_agg's multi_logloss: 1.29477 + 0.00891327\n",
            "[1440]\tcv_agg's multi_logloss: 1.29258 + 0.00898776\n",
            "[1460]\tcv_agg's multi_logloss: 1.29035 + 0.00905491\n",
            "[1480]\tcv_agg's multi_logloss: 1.28828 + 0.00909807\n",
            "[1500]\tcv_agg's multi_logloss: 1.2862 + 0.00918458\n",
            "[1520]\tcv_agg's multi_logloss: 1.28416 + 0.00927042\n",
            "[1540]\tcv_agg's multi_logloss: 1.28221 + 0.00929874\n",
            "[1560]\tcv_agg's multi_logloss: 1.28036 + 0.00935474\n",
            "[1580]\tcv_agg's multi_logloss: 1.27824 + 0.00940318\n",
            "[1600]\tcv_agg's multi_logloss: 1.27629 + 0.00949531\n",
            "[1620]\tcv_agg's multi_logloss: 1.27462 + 0.0095614\n",
            "[1640]\tcv_agg's multi_logloss: 1.27276 + 0.00961097\n",
            "[1660]\tcv_agg's multi_logloss: 1.27118 + 0.0096174\n",
            "[1680]\tcv_agg's multi_logloss: 1.26958 + 0.00964339\n",
            "[1700]\tcv_agg's multi_logloss: 1.26797 + 0.00968301\n",
            "[1720]\tcv_agg's multi_logloss: 1.26639 + 0.00971335\n",
            "[1740]\tcv_agg's multi_logloss: 1.26488 + 0.0097459\n",
            "[1760]\tcv_agg's multi_logloss: 1.26352 + 0.00979981\n",
            "[1780]\tcv_agg's multi_logloss: 1.26214 + 0.00987124\n",
            "[1800]\tcv_agg's multi_logloss: 1.26069 + 0.00993362\n",
            "[1820]\tcv_agg's multi_logloss: 1.25935 + 0.00998157\n",
            "[1840]\tcv_agg's multi_logloss: 1.25785 + 0.0100091\n",
            "[1860]\tcv_agg's multi_logloss: 1.25638 + 0.0100459\n",
            "[1880]\tcv_agg's multi_logloss: 1.25501 + 0.0101423\n",
            "[1900]\tcv_agg's multi_logloss: 1.25377 + 0.0102137\n",
            "[1920]\tcv_agg's multi_logloss: 1.25253 + 0.010257\n",
            "[1940]\tcv_agg's multi_logloss: 1.2512 + 0.0103383\n",
            "[1960]\tcv_agg's multi_logloss: 1.24998 + 0.0103617\n",
            "[1980]\tcv_agg's multi_logloss: 1.24885 + 0.0103865\n",
            "[2000]\tcv_agg's multi_logloss: 1.24761 + 0.0104492\n",
            "[2020]\tcv_agg's multi_logloss: 1.24648 + 0.0104737\n",
            "[2040]\tcv_agg's multi_logloss: 1.24527 + 0.0105177\n",
            "[2060]\tcv_agg's multi_logloss: 1.24424 + 0.0105664\n",
            "[2080]\tcv_agg's multi_logloss: 1.24322 + 0.0105862\n",
            "[2100]\tcv_agg's multi_logloss: 1.24217 + 0.0106585\n",
            "[2120]\tcv_agg's multi_logloss: 1.24115 + 0.0107398\n",
            "[2140]\tcv_agg's multi_logloss: 1.24 + 0.0107917\n",
            "[2160]\tcv_agg's multi_logloss: 1.23898 + 0.010791\n",
            "[2180]\tcv_agg's multi_logloss: 1.23806 + 0.0108416\n",
            "[2200]\tcv_agg's multi_logloss: 1.23721 + 0.0108866\n",
            "[2220]\tcv_agg's multi_logloss: 1.23627 + 0.0109612\n",
            "[2240]\tcv_agg's multi_logloss: 1.23535 + 0.010963\n",
            "[2260]\tcv_agg's multi_logloss: 1.23443 + 0.0110215\n",
            "[2280]\tcv_agg's multi_logloss: 1.23366 + 0.0110426\n",
            "[2300]\tcv_agg's multi_logloss: 1.23264 + 0.0111078\n",
            "[2320]\tcv_agg's multi_logloss: 1.23167 + 0.0111769\n",
            "[2340]\tcv_agg's multi_logloss: 1.23081 + 0.0112348\n",
            "[2360]\tcv_agg's multi_logloss: 1.23013 + 0.0112548\n",
            "[2380]\tcv_agg's multi_logloss: 1.22922 + 0.0113421\n",
            "[2400]\tcv_agg's multi_logloss: 1.22843 + 0.0113746\n",
            "[2420]\tcv_agg's multi_logloss: 1.22765 + 0.0114145\n",
            "[2440]\tcv_agg's multi_logloss: 1.22684 + 0.0114218\n",
            "[2460]\tcv_agg's multi_logloss: 1.22608 + 0.0114329\n",
            "[2480]\tcv_agg's multi_logloss: 1.22536 + 0.0114504\n",
            "[2500]\tcv_agg's multi_logloss: 1.22463 + 0.0114916\n",
            "[2520]\tcv_agg's multi_logloss: 1.224 + 0.011499\n",
            "[2540]\tcv_agg's multi_logloss: 1.22324 + 0.0115575\n",
            "[2560]\tcv_agg's multi_logloss: 1.22264 + 0.0116157\n",
            "[2580]\tcv_agg's multi_logloss: 1.2219 + 0.011674\n",
            "[2600]\tcv_agg's multi_logloss: 1.22131 + 0.0117392\n",
            "[2620]\tcv_agg's multi_logloss: 1.22077 + 0.0117517\n",
            "[2640]\tcv_agg's multi_logloss: 1.22011 + 0.0117669\n",
            "[2660]\tcv_agg's multi_logloss: 1.21944 + 0.0117999\n",
            "[2680]\tcv_agg's multi_logloss: 1.21888 + 0.0118087\n",
            "[2700]\tcv_agg's multi_logloss: 1.21832 + 0.011854\n",
            "[2720]\tcv_agg's multi_logloss: 1.21765 + 0.0118953\n",
            "[2740]\tcv_agg's multi_logloss: 1.21696 + 0.0119292\n",
            "[2760]\tcv_agg's multi_logloss: 1.21641 + 0.0119566\n",
            "[2780]\tcv_agg's multi_logloss: 1.21574 + 0.0120124\n",
            "[2800]\tcv_agg's multi_logloss: 1.21513 + 0.0120487\n",
            "[2820]\tcv_agg's multi_logloss: 1.21455 + 0.0121107\n",
            "[2840]\tcv_agg's multi_logloss: 1.21404 + 0.0121099\n",
            "[2860]\tcv_agg's multi_logloss: 1.21355 + 0.0121724\n",
            "[2880]\tcv_agg's multi_logloss: 1.21302 + 0.012187\n",
            "[2900]\tcv_agg's multi_logloss: 1.21246 + 0.0122072\n",
            "[2920]\tcv_agg's multi_logloss: 1.21194 + 0.0122309\n",
            "[2940]\tcv_agg's multi_logloss: 1.21141 + 0.0123108\n",
            "[2960]\tcv_agg's multi_logloss: 1.21093 + 0.012381\n",
            "[2980]\tcv_agg's multi_logloss: 1.21042 + 0.0124147\n",
            "[3000]\tcv_agg's multi_logloss: 1.20988 + 0.0124618\n",
            "[3020]\tcv_agg's multi_logloss: 1.20937 + 0.0125321\n",
            "[3040]\tcv_agg's multi_logloss: 1.20895 + 0.0125706\n",
            "[3060]\tcv_agg's multi_logloss: 1.2085 + 0.0126148\n",
            "[3080]\tcv_agg's multi_logloss: 1.20812 + 0.012639\n",
            "[3100]\tcv_agg's multi_logloss: 1.20768 + 0.0126843\n",
            "[3120]\tcv_agg's multi_logloss: 1.20726 + 0.01271\n",
            "[3140]\tcv_agg's multi_logloss: 1.20683 + 0.0127336\n",
            "[3160]\tcv_agg's multi_logloss: 1.20637 + 0.0128011\n",
            "[3180]\tcv_agg's multi_logloss: 1.20601 + 0.0128227\n",
            "[3200]\tcv_agg's multi_logloss: 1.2056 + 0.0128748\n",
            "[3220]\tcv_agg's multi_logloss: 1.20526 + 0.0129113\n",
            "[3240]\tcv_agg's multi_logloss: 1.20488 + 0.0129499\n",
            "[3260]\tcv_agg's multi_logloss: 1.20448 + 0.012975\n",
            "[3280]\tcv_agg's multi_logloss: 1.20419 + 0.0129652\n",
            "[3300]\tcv_agg's multi_logloss: 1.20382 + 0.012985\n",
            "[3320]\tcv_agg's multi_logloss: 1.20349 + 0.0130144\n",
            "[3340]\tcv_agg's multi_logloss: 1.20313 + 0.0130758\n",
            "[3360]\tcv_agg's multi_logloss: 1.20279 + 0.0130996\n",
            "[3380]\tcv_agg's multi_logloss: 1.20251 + 0.0131354\n",
            "[3400]\tcv_agg's multi_logloss: 1.20207 + 0.0131945\n",
            "[3420]\tcv_agg's multi_logloss: 1.20176 + 0.0131958\n",
            "[3440]\tcv_agg's multi_logloss: 1.20146 + 0.0132136\n",
            "[3460]\tcv_agg's multi_logloss: 1.20109 + 0.0132359\n",
            "[3480]\tcv_agg's multi_logloss: 1.20076 + 0.0132654\n",
            "[3500]\tcv_agg's multi_logloss: 1.20051 + 0.0133029\n",
            "[3520]\tcv_agg's multi_logloss: 1.20021 + 0.0133213\n",
            "[3540]\tcv_agg's multi_logloss: 1.19994 + 0.0133315\n",
            "[3560]\tcv_agg's multi_logloss: 1.19961 + 0.0133293\n",
            "[3580]\tcv_agg's multi_logloss: 1.19938 + 0.0133526\n",
            "[3600]\tcv_agg's multi_logloss: 1.19917 + 0.0133746\n",
            "[3620]\tcv_agg's multi_logloss: 1.19895 + 0.013421\n",
            "[3640]\tcv_agg's multi_logloss: 1.19867 + 0.0134282\n",
            "[3660]\tcv_agg's multi_logloss: 1.19843 + 0.0134228\n",
            "[3680]\tcv_agg's multi_logloss: 1.19814 + 0.0134512\n",
            "[3700]\tcv_agg's multi_logloss: 1.19786 + 0.0134624\n",
            "[3720]\tcv_agg's multi_logloss: 1.19759 + 0.0134708\n",
            "[3740]\tcv_agg's multi_logloss: 1.19736 + 0.0134721\n",
            "[3760]\tcv_agg's multi_logloss: 1.19711 + 0.0135017\n",
            "[3780]\tcv_agg's multi_logloss: 1.19686 + 0.0135336\n",
            "[3800]\tcv_agg's multi_logloss: 1.19664 + 0.013541\n",
            "[3820]\tcv_agg's multi_logloss: 1.19642 + 0.0135609\n",
            "[3840]\tcv_agg's multi_logloss: 1.1962 + 0.0135578\n",
            "[3860]\tcv_agg's multi_logloss: 1.19603 + 0.0135628\n",
            "[3880]\tcv_agg's multi_logloss: 1.19585 + 0.0135778\n",
            "[3900]\tcv_agg's multi_logloss: 1.1956 + 0.0136059\n",
            "[3920]\tcv_agg's multi_logloss: 1.19537 + 0.013647\n",
            "[3940]\tcv_agg's multi_logloss: 1.19522 + 0.0136612\n",
            "[3960]\tcv_agg's multi_logloss: 1.19501 + 0.0136868\n",
            "[3980]\tcv_agg's multi_logloss: 1.1948 + 0.013713\n",
            "[4000]\tcv_agg's multi_logloss: 1.19461 + 0.0137429\n",
            "[4020]\tcv_agg's multi_logloss: 1.19441 + 0.0137834\n",
            "[4040]\tcv_agg's multi_logloss: 1.19426 + 0.0138066\n",
            "[4060]\tcv_agg's multi_logloss: 1.19413 + 0.0138058\n",
            "[4080]\tcv_agg's multi_logloss: 1.19397 + 0.0138724\n",
            "[4100]\tcv_agg's multi_logloss: 1.19378 + 0.0138893\n",
            "[4120]\tcv_agg's multi_logloss: 1.19359 + 0.0138673\n",
            "[4140]\tcv_agg's multi_logloss: 1.19346 + 0.0138592\n",
            "[4160]\tcv_agg's multi_logloss: 1.19329 + 0.0138858\n",
            "[4180]\tcv_agg's multi_logloss: 1.19312 + 0.0139215\n",
            "[4200]\tcv_agg's multi_logloss: 1.19292 + 0.0139394\n",
            "[4220]\tcv_agg's multi_logloss: 1.19274 + 0.0139448\n",
            "[4240]\tcv_agg's multi_logloss: 1.19259 + 0.0139727\n",
            "[4260]\tcv_agg's multi_logloss: 1.19247 + 0.0140014\n",
            "[4280]\tcv_agg's multi_logloss: 1.19232 + 0.014044\n",
            "[4300]\tcv_agg's multi_logloss: 1.19218 + 0.0140586\n",
            "[4320]\tcv_agg's multi_logloss: 1.19207 + 0.0140798\n",
            "[4340]\tcv_agg's multi_logloss: 1.19194 + 0.0140809\n",
            "[4360]\tcv_agg's multi_logloss: 1.19176 + 0.0140852\n",
            "[4380]\tcv_agg's multi_logloss: 1.19165 + 0.0140901\n",
            "[4400]\tcv_agg's multi_logloss: 1.19149 + 0.0140967\n",
            "[4420]\tcv_agg's multi_logloss: 1.19133 + 0.0141557\n",
            "[4440]\tcv_agg's multi_logloss: 1.19119 + 0.0141682\n",
            "[4460]\tcv_agg's multi_logloss: 1.19104 + 0.0142145\n",
            "[4480]\tcv_agg's multi_logloss: 1.19094 + 0.0142214\n",
            "[4500]\tcv_agg's multi_logloss: 1.19079 + 0.014256\n",
            "[4520]\tcv_agg's multi_logloss: 1.19065 + 0.0142931\n",
            "[4540]\tcv_agg's multi_logloss: 1.1905 + 0.0143497\n",
            "[4560]\tcv_agg's multi_logloss: 1.19038 + 0.0143718\n",
            "[4580]\tcv_agg's multi_logloss: 1.19028 + 0.0143683\n",
            "[4600]\tcv_agg's multi_logloss: 1.19014 + 0.0143606\n",
            "[4620]\tcv_agg's multi_logloss: 1.19003 + 0.0143821\n",
            "[4640]\tcv_agg's multi_logloss: 1.18994 + 0.0143727\n",
            "[4660]\tcv_agg's multi_logloss: 1.1898 + 0.0144364\n",
            "[4680]\tcv_agg's multi_logloss: 1.18969 + 0.0144784\n",
            "[4700]\tcv_agg's multi_logloss: 1.18957 + 0.0145122\n",
            "[4720]\tcv_agg's multi_logloss: 1.18941 + 0.0145418\n",
            "[4740]\tcv_agg's multi_logloss: 1.18929 + 0.014566\n",
            "[4760]\tcv_agg's multi_logloss: 1.18919 + 0.0145665\n",
            "[4780]\tcv_agg's multi_logloss: 1.18911 + 0.0145665\n",
            "[4800]\tcv_agg's multi_logloss: 1.18902 + 0.0145268\n",
            "[4820]\tcv_agg's multi_logloss: 1.18895 + 0.0145033\n",
            "[4840]\tcv_agg's multi_logloss: 1.18889 + 0.0145313\n",
            "[4860]\tcv_agg's multi_logloss: 1.18878 + 0.0145914\n",
            "[4880]\tcv_agg's multi_logloss: 1.18866 + 0.0146023\n",
            "[4900]\tcv_agg's multi_logloss: 1.18855 + 0.0145938\n",
            "[4920]\tcv_agg's multi_logloss: 1.18846 + 0.0145902\n",
            "[4940]\tcv_agg's multi_logloss: 1.18835 + 0.0145903\n",
            "[4960]\tcv_agg's multi_logloss: 1.18824 + 0.014627\n",
            "[4980]\tcv_agg's multi_logloss: 1.18817 + 0.0146559\n",
            "[5000]\tcv_agg's multi_logloss: 1.1881 + 0.0146651\n",
            "[5020]\tcv_agg's multi_logloss: 1.18803 + 0.0147064\n",
            "[5040]\tcv_agg's multi_logloss: 1.188 + 0.0147014\n",
            "[5060]\tcv_agg's multi_logloss: 1.18792 + 0.0147196\n",
            "[5080]\tcv_agg's multi_logloss: 1.18787 + 0.014737\n",
            "[5100]\tcv_agg's multi_logloss: 1.18779 + 0.0147763\n",
            "[5120]\tcv_agg's multi_logloss: 1.1877 + 0.01479\n",
            "[5140]\tcv_agg's multi_logloss: 1.18765 + 0.0147795\n",
            "[5160]\tcv_agg's multi_logloss: 1.18757 + 0.0148101\n",
            "[5180]\tcv_agg's multi_logloss: 1.18747 + 0.01481\n",
            "[5200]\tcv_agg's multi_logloss: 1.18741 + 0.0148265\n",
            "[5220]\tcv_agg's multi_logloss: 1.18735 + 0.0148396\n",
            "[5240]\tcv_agg's multi_logloss: 1.18727 + 0.0148691\n",
            "[5260]\tcv_agg's multi_logloss: 1.1872 + 0.0148682\n",
            "[5280]\tcv_agg's multi_logloss: 1.18714 + 0.0148717\n",
            "[5300]\tcv_agg's multi_logloss: 1.1871 + 0.01487\n",
            "[5320]\tcv_agg's multi_logloss: 1.18705 + 0.0148581\n",
            "[5340]\tcv_agg's multi_logloss: 1.18697 + 0.0149139\n",
            "[5360]\tcv_agg's multi_logloss: 1.18691 + 0.014892\n",
            "[5380]\tcv_agg's multi_logloss: 1.18687 + 0.0149224\n",
            "[5400]\tcv_agg's multi_logloss: 1.18687 + 0.0149173\n",
            "[5420]\tcv_agg's multi_logloss: 1.18684 + 0.014978\n",
            "[5440]\tcv_agg's multi_logloss: 1.1868 + 0.0149884\n",
            "[5460]\tcv_agg's multi_logloss: 1.18675 + 0.0150024\n",
            "[5480]\tcv_agg's multi_logloss: 1.1867 + 0.0150227\n",
            "[5500]\tcv_agg's multi_logloss: 1.18665 + 0.0150812\n",
            "[5520]\tcv_agg's multi_logloss: 1.18662 + 0.0151298\n",
            "[5540]\tcv_agg's multi_logloss: 1.18658 + 0.0151275\n",
            "[5560]\tcv_agg's multi_logloss: 1.18654 + 0.015148\n",
            "[5580]\tcv_agg's multi_logloss: 1.1865 + 0.0151548\n",
            "[5600]\tcv_agg's multi_logloss: 1.18646 + 0.0151484\n",
            "[5620]\tcv_agg's multi_logloss: 1.18639 + 0.0151706\n",
            "[5640]\tcv_agg's multi_logloss: 1.18637 + 0.015217\n",
            "[5660]\tcv_agg's multi_logloss: 1.18631 + 0.0152247\n",
            "[5680]\tcv_agg's multi_logloss: 1.18628 + 0.0152716\n",
            "[5700]\tcv_agg's multi_logloss: 1.18624 + 0.015316\n",
            "[5720]\tcv_agg's multi_logloss: 1.18621 + 0.0153105\n",
            "[5740]\tcv_agg's multi_logloss: 1.18621 + 0.0153287\n",
            "[5760]\tcv_agg's multi_logloss: 1.18617 + 0.0153283\n",
            "[5780]\tcv_agg's multi_logloss: 1.18617 + 0.0153501\n",
            "[5800]\tcv_agg's multi_logloss: 1.18616 + 0.015382\n",
            "[5820]\tcv_agg's multi_logloss: 1.18614 + 0.0153848\n",
            "[5840]\tcv_agg's multi_logloss: 1.18612 + 0.0154181\n",
            "[5860]\tcv_agg's multi_logloss: 1.18606 + 0.0154576\n",
            "[5880]\tcv_agg's multi_logloss: 1.18607 + 0.0154614\n",
            "[5900]\tcv_agg's multi_logloss: 1.18606 + 0.0154713\n",
            "[5920]\tcv_agg's multi_logloss: 1.18607 + 0.0154697\n",
            "[5940]\tcv_agg's multi_logloss: 1.18606 + 0.0154718\n",
            "[5960]\tcv_agg's multi_logloss: 1.18604 + 0.0154942\n",
            "[5980]\tcv_agg's multi_logloss: 1.18604 + 0.0155325\n",
            "[6000]\tcv_agg's multi_logloss: 1.18602 + 0.0155677\n",
            "[6020]\tcv_agg's multi_logloss: 1.18599 + 0.0155669\n",
            "[6040]\tcv_agg's multi_logloss: 1.18599 + 0.0155702\n",
            "[6060]\tcv_agg's multi_logloss: 1.18597 + 0.0155798\n",
            "[6080]\tcv_agg's multi_logloss: 1.18596 + 0.0156138\n",
            "[6100]\tcv_agg's multi_logloss: 1.18595 + 0.0156303\n",
            "[6120]\tcv_agg's multi_logloss: 1.18594 + 0.0156585\n",
            "[6140]\tcv_agg's multi_logloss: 1.18595 + 0.0156693\n",
            "[6160]\tcv_agg's multi_logloss: 1.18595 + 0.0156983\n",
            "[6180]\tcv_agg's multi_logloss: 1.18595 + 0.0157127\n",
            "[6200]\tcv_agg's multi_logloss: 1.18592 + 0.015722\n",
            "[6220]\tcv_agg's multi_logloss: 1.18591 + 0.0157458\n",
            "[6240]\tcv_agg's multi_logloss: 1.18589 + 0.0157807\n",
            "[6260]\tcv_agg's multi_logloss: 1.18588 + 0.0157935\n",
            "[6280]\tcv_agg's multi_logloss: 1.18586 + 0.015841\n",
            "[6300]\tcv_agg's multi_logloss: 1.18582 + 0.0158919\n",
            "[6320]\tcv_agg's multi_logloss: 1.1858 + 0.0158669\n",
            "[6340]\tcv_agg's multi_logloss: 1.18582 + 0.0158853\n",
            "[6360]\tcv_agg's multi_logloss: 1.18581 + 0.0159119\n",
            "[6380]\tcv_agg's multi_logloss: 1.18582 + 0.0159126\n",
            "[6400]\tcv_agg's multi_logloss: 1.18585 + 0.0159064\n",
            "[6420]\tcv_agg's multi_logloss: 1.18588 + 0.0159454\n",
            "6322\n"
          ]
        }
      ]
    },
    {
      "cell_type": "code",
      "metadata": {
        "collapsed": true,
        "id": "d7FSYOmwqeOt"
      },
      "source": [
        "check_y_pred = model.predict(X_val_check)"
      ],
      "execution_count": null,
      "outputs": []
    },
    {
      "cell_type": "code",
      "metadata": {
        "collapsed": true,
        "id": "WX6xJ3bxqeOt"
      },
      "source": [
        "best_preds_check = np.asarray([np.argmax(line) for line in check_y_pred])\n"
      ],
      "execution_count": null,
      "outputs": []
    },
    {
      "cell_type": "code",
      "metadata": {
        "id": "k-TWI7HAqeOt",
        "colab": {
          "base_uri": "https://localhost:8080/"
        },
        "outputId": "8384b00f-db9c-4c32-c020-9fdb8350c45b"
      },
      "source": [
        "from sklearn.metrics import f1_score\n",
        "f1_score(best_preds_check, y_val_check , average = 'micro')"
      ],
      "execution_count": null,
      "outputs": [
        {
          "output_type": "execute_result",
          "data": {
            "text/plain": [
              "0.6414481318171269"
            ]
          },
          "metadata": {},
          "execution_count": 50
        }
      ]
    },
    {
      "cell_type": "markdown",
      "source": [
        "Light GBM model score is 64.14"
      ],
      "metadata": {
        "id": "7d29BcxPIMeq"
      }
    },
    {
      "cell_type": "markdown",
      "metadata": {
        "id": "4gPAgzCJqeOv"
      },
      "source": [
        "**Test 2**"
      ]
    },
    {
      "cell_type": "code",
      "metadata": {
        "id": "azpivc9FqeOv"
      },
      "source": [
        "model3 = XGBClassifier(learning_rate =0.1,n_estimators=250,max_depth=5 ,min_child_weight=1, gamma=0, subsample=0.8, colsample_bytree=0.8,objective= 'multi:softmax',nthread=4, scale_pos_weight=1, seed=1234)\n"
      ],
      "execution_count": null,
      "outputs": []
    },
    {
      "cell_type": "code",
      "metadata": {
        "id": "pTlqbUYhqeOv",
        "colab": {
          "base_uri": "https://localhost:8080/"
        },
        "outputId": "16a6a8fd-b632-452d-f5c4-84be22d8e42e"
      },
      "source": [
        "model3.fit(X_train_check, y_train_check, eval_metric = 'mlogloss')"
      ],
      "execution_count": null,
      "outputs": [
        {
          "output_type": "execute_result",
          "data": {
            "text/plain": [
              "XGBClassifier(colsample_bytree=0.8, max_depth=5, n_estimators=250, nthread=4,\n",
              "              objective='multi:softprob', seed=1234, subsample=0.8)"
            ]
          },
          "metadata": {},
          "execution_count": 52
        }
      ]
    },
    {
      "cell_type": "code",
      "metadata": {
        "id": "2Ded4_1yqeOv"
      },
      "source": [
        "check_y_pred3 = model3.predict(X_val_check)"
      ],
      "execution_count": null,
      "outputs": []
    },
    {
      "cell_type": "code",
      "metadata": {
        "id": "n417FGtyqeOv",
        "colab": {
          "base_uri": "https://localhost:8080/"
        },
        "outputId": "52eb298e-54ce-4f08-c745-115ff643cdb2"
      },
      "source": [
        "from sklearn.metrics import f1_score\n",
        "f1_score(check_y_pred3, y_val_check , average = 'micro')"
      ],
      "execution_count": null,
      "outputs": [
        {
          "output_type": "execute_result",
          "data": {
            "text/plain": [
              "0.6451612903225806"
            ]
          },
          "metadata": {},
          "execution_count": 54
        }
      ]
    },
    {
      "cell_type": "markdown",
      "source": [
        "XGBoost model score is 64.51"
      ],
      "metadata": {
        "id": "brs9EPODI6yj"
      }
    },
    {
      "cell_type": "markdown",
      "metadata": {
        "id": "vX7Dz1_-qeO0"
      },
      "source": [
        "We need to drop some of the weak predictor variable to tweak our model performance also we need to create some more variables for better performance of model. As per our hypothesis we will be eliminating outcome_year as it is a weak predictor."
      ]
    },
    {
      "cell_type": "markdown",
      "metadata": {
        "id": "I6SARczZqeO0"
      },
      "source": [
        "Note i performed the above check to quickly drop some useless predefined variables. I will be dropping the lower predicting dummy variables later. Hence dropping **outcome_year**"
      ]
    },
    {
      "cell_type": "code",
      "metadata": {
        "id": "Advz8Qy6qeO0"
      },
      "source": [
        "X = X.drop(['outcome_year'], axis  = 1)"
      ],
      "execution_count": null,
      "outputs": []
    },
    {
      "cell_type": "markdown",
      "metadata": {
        "id": "lwk-7PYUqeO0"
      },
      "source": [
        "# 6. Feature Engineering:"
      ]
    },
    {
      "cell_type": "markdown",
      "metadata": {
        "id": "Gk4KN4aUqeO1"
      },
      "source": [
        "Lets try to create some more informative features\n"
      ]
    },
    {
      "cell_type": "code",
      "metadata": {
        "collapsed": true,
        "id": "YvF8ZIL8qeO1"
      },
      "source": [
        "import re\n",
        "def breed_check(breed):\n",
        "    r1 = re.search(r'\\/', breed)\n",
        "    if r1:\n",
        "        check = str(r1.group())\n",
        "    else:\n",
        "        check = 'not_found'\n",
        "    r2 = re.search(r'Mix', breed)\n",
        "    if r2:\n",
        "        check2 = str(r2.group())\n",
        "    else:\n",
        "        check2 = 'not_found'\n",
        "    if check=='/':\n",
        "        breed_type = 'specific_mix' \n",
        "    elif check2 == 'Mix':\n",
        "        breed_type = 'unknown_mix'\n",
        "    else:\n",
        "        breed_type = 'pure'\n",
        "    return breed_type   "
      ],
      "execution_count": null,
      "outputs": []
    },
    {
      "cell_type": "code",
      "metadata": {
        "collapsed": true,
        "id": "s_07V3asqeO1"
      },
      "source": [
        "X['breed_bucket'] = X.breed.apply(breed_check)"
      ],
      "execution_count": null,
      "outputs": []
    },
    {
      "cell_type": "code",
      "metadata": {
        "colab": {
          "base_uri": "https://localhost:8080/",
          "height": 299
        },
        "id": "Pt0Nj49jqeO1",
        "outputId": "942deb86-0eed-4b1d-af0a-f9ebf935198b"
      },
      "source": [
        "sns.countplot(x= 'breed_bucket', hue=\"outcome_type\", data= X)"
      ],
      "execution_count": null,
      "outputs": [
        {
          "output_type": "execute_result",
          "data": {
            "text/plain": [
              "<matplotlib.axes._subplots.AxesSubplot at 0x7ff29cd630d0>"
            ]
          },
          "metadata": {},
          "execution_count": 58
        },
        {
          "output_type": "display_data",
          "data": {
            "image/png": "[encoded data removed]",
            "text/plain": [
              "<Figure size 432x288 with 1 Axes>"
            ]
          },
          "metadata": {
            "needs_background": "light"
          }
        }
      ]
    },
    {
      "cell_type": "markdown",
      "metadata": {
        "id": "mFvv6mZnqeO1"
      },
      "source": [
        "This gives us an idea that that unknown mix bread type are either more adopted or transfered, pure bread type animal is either "
      ]
    },
    {
      "cell_type": "code",
      "metadata": {
        "collapsed": true,
        "id": "oyAQJAahqeO2"
      },
      "source": [
        "#for the minority class\n",
        "def adopt_conditions(df):\n",
        "    if (df['outcome_type']=='Adoption'):      #made changes here removed !=Others\n",
        "        return df['breed']\n",
        "    \n",
        "adoptable_dict = pd.DataFrame(X.apply(adopt_conditions, axis = 1), columns = ['adoptable_breeds'])\n",
        "cleaned_adoptable_dict = adoptable_dict[adoptable_dict['adoptable_breeds'].notnull()]\n",
        "cleaned_adoptable_dict = pd.DataFrame(cleaned_adoptable_dict['adoptable_breeds'].unique(), columns = ['unique_adoptable_breeds'])\n",
        "adoptable_list = cleaned_adoptable_dict['unique_adoptable_breeds'].tolist()"
      ],
      "execution_count": null,
      "outputs": []
    },
    {
      "cell_type": "code",
      "metadata": {
        "colab": {
          "base_uri": "https://localhost:8080/",
          "height": 765
        },
        "id": "J2PTs2VbqeO2",
        "outputId": "182bdc0b-0e76-4b5f-9426-e3519e8a2651"
      },
      "source": [
        "X[X['outcome_type']=='Rto-Adopt']"
      ],
      "execution_count": null,
      "outputs": [
        {
          "output_type": "execute_result",
          "data": {
            "text/html": [
              "\n",
              "  <div id=\"df-4f80e51b-d872-4fc5-8e0a-db09619979c1\">\n",
              "    <div class=\"colab-df-container\">\n",
              "      <div>\n",
              "<style scoped>\n",
              "    .dataframe tbody tr th:only-of-type {\n",
              "        vertical-align: middle;\n",
              "    }\n",
              "\n",
              "    .dataframe tbody tr th {\n",
              "        vertical-align: top;\n",
              "    }\n",
              "\n",
              "    .dataframe thead th {\n",
              "        text-align: right;\n",
              "    }\n",
              "</style>\n",
              "<table border=\"1\" class=\"dataframe\">\n",
              "  <thead>\n",
              "    <tr style=\"text-align: right;\">\n",
              "      <th></th>\n",
              "      <th>dob_year</th>\n",
              "      <th>animal_type</th>\n",
              "      <th>breed</th>\n",
              "      <th>color</th>\n",
              "      <th>intake_condition</th>\n",
              "      <th>intake_type</th>\n",
              "      <th>sex_upon_intake</th>\n",
              "      <th>age_upon_intake_(days)</th>\n",
              "      <th>intake_month</th>\n",
              "      <th>intake_year</th>\n",
              "      <th>intake_monthyear</th>\n",
              "      <th>intake_weekday</th>\n",
              "      <th>intake_hour</th>\n",
              "      <th>intake_number</th>\n",
              "      <th>time_in_shelter_days</th>\n",
              "      <th>sex_upon_outcome</th>\n",
              "      <th>age_upon_outcome_(days)</th>\n",
              "      <th>outcome_month</th>\n",
              "      <th>outcome_monthyear</th>\n",
              "      <th>outcome_weekday</th>\n",
              "      <th>outcome_hour</th>\n",
              "      <th>outcome_type</th>\n",
              "      <th>intake_day</th>\n",
              "      <th>breed_bucket</th>\n",
              "    </tr>\n",
              "  </thead>\n",
              "  <tbody>\n",
              "    <tr>\n",
              "      <th>41</th>\n",
              "      <td>2000</td>\n",
              "      <td>Cat</td>\n",
              "      <td>Domestic Longhair Mix</td>\n",
              "      <td>Black/White</td>\n",
              "      <td>Normal</td>\n",
              "      <td>Stray</td>\n",
              "      <td>Neutered Male</td>\n",
              "      <td>5110</td>\n",
              "      <td>10.0</td>\n",
              "      <td>2014.0</td>\n",
              "      <td>201410.0</td>\n",
              "      <td>Thursday</td>\n",
              "      <td>18.0</td>\n",
              "      <td>1.0</td>\n",
              "      <td>3.814583</td>\n",
              "      <td>Neutered Male</td>\n",
              "      <td>5110.0</td>\n",
              "      <td>10.0</td>\n",
              "      <td>201410.0</td>\n",
              "      <td>Monday</td>\n",
              "      <td>13.0</td>\n",
              "      <td>Rto-Adopt</td>\n",
              "      <td>16</td>\n",
              "      <td>unknown_mix</td>\n",
              "    </tr>\n",
              "    <tr>\n",
              "      <th>65</th>\n",
              "      <td>2002</td>\n",
              "      <td>Cat</td>\n",
              "      <td>Domestic Shorthair</td>\n",
              "      <td>Blue Cream/Tortie</td>\n",
              "      <td>Injured</td>\n",
              "      <td>Stray</td>\n",
              "      <td>Spayed Female</td>\n",
              "      <td>5475</td>\n",
              "      <td>4.0</td>\n",
              "      <td>2017.0</td>\n",
              "      <td>201704.0</td>\n",
              "      <td>Thursday</td>\n",
              "      <td>17.0</td>\n",
              "      <td>1.0</td>\n",
              "      <td>5.815278</td>\n",
              "      <td>Spayed Female</td>\n",
              "      <td>5475.0</td>\n",
              "      <td>4.0</td>\n",
              "      <td>201704.0</td>\n",
              "      <td>Wednesday</td>\n",
              "      <td>12.0</td>\n",
              "      <td>Rto-Adopt</td>\n",
              "      <td>20</td>\n",
              "      <td>pure</td>\n",
              "    </tr>\n",
              "    <tr>\n",
              "      <th>159</th>\n",
              "      <td>2004</td>\n",
              "      <td>Cat</td>\n",
              "      <td>Domestic Shorthair Mix</td>\n",
              "      <td>Silver Tabby</td>\n",
              "      <td>Normal</td>\n",
              "      <td>Stray</td>\n",
              "      <td>Spayed Female</td>\n",
              "      <td>4745</td>\n",
              "      <td>4.0</td>\n",
              "      <td>2017.0</td>\n",
              "      <td>201704.0</td>\n",
              "      <td>Thursday</td>\n",
              "      <td>16.0</td>\n",
              "      <td>1.0</td>\n",
              "      <td>11.830556</td>\n",
              "      <td>Spayed Female</td>\n",
              "      <td>4745.0</td>\n",
              "      <td>4.0</td>\n",
              "      <td>201704.0</td>\n",
              "      <td>Tuesday</td>\n",
              "      <td>12.0</td>\n",
              "      <td>Rto-Adopt</td>\n",
              "      <td>13</td>\n",
              "      <td>unknown_mix</td>\n",
              "    </tr>\n",
              "    <tr>\n",
              "      <th>216</th>\n",
              "      <td>2004</td>\n",
              "      <td>Dog</td>\n",
              "      <td>Miniature Poodle/Cairn Terrier</td>\n",
              "      <td>White/Cream</td>\n",
              "      <td>Normal</td>\n",
              "      <td>Stray</td>\n",
              "      <td>Neutered Male</td>\n",
              "      <td>4745</td>\n",
              "      <td>6.0</td>\n",
              "      <td>2017.0</td>\n",
              "      <td>201706.0</td>\n",
              "      <td>Sunday</td>\n",
              "      <td>17.0</td>\n",
              "      <td>2.0</td>\n",
              "      <td>5.062500</td>\n",
              "      <td>Neutered Male</td>\n",
              "      <td>4745.0</td>\n",
              "      <td>6.0</td>\n",
              "      <td>201706.0</td>\n",
              "      <td>Friday</td>\n",
              "      <td>18.0</td>\n",
              "      <td>Rto-Adopt</td>\n",
              "      <td>4</td>\n",
              "      <td>specific_mix</td>\n",
              "    </tr>\n",
              "    <tr>\n",
              "      <th>253</th>\n",
              "      <td>2003</td>\n",
              "      <td>Cat</td>\n",
              "      <td>Domestic Shorthair Mix</td>\n",
              "      <td>Black</td>\n",
              "      <td>Normal</td>\n",
              "      <td>Owner Surrender</td>\n",
              "      <td>Spayed Female</td>\n",
              "      <td>4380</td>\n",
              "      <td>11.0</td>\n",
              "      <td>2015.0</td>\n",
              "      <td>201511.0</td>\n",
              "      <td>Thursday</td>\n",
              "      <td>13.0</td>\n",
              "      <td>1.0</td>\n",
              "      <td>205.920139</td>\n",
              "      <td>Spayed Female</td>\n",
              "      <td>4380.0</td>\n",
              "      <td>6.0</td>\n",
              "      <td>201606.0</td>\n",
              "      <td>Sunday</td>\n",
              "      <td>11.0</td>\n",
              "      <td>Rto-Adopt</td>\n",
              "      <td>19</td>\n",
              "      <td>unknown_mix</td>\n",
              "    </tr>\n",
              "    <tr>\n",
              "      <th>...</th>\n",
              "      <td>...</td>\n",
              "      <td>...</td>\n",
              "      <td>...</td>\n",
              "      <td>...</td>\n",
              "      <td>...</td>\n",
              "      <td>...</td>\n",
              "      <td>...</td>\n",
              "      <td>...</td>\n",
              "      <td>...</td>\n",
              "      <td>...</td>\n",
              "      <td>...</td>\n",
              "      <td>...</td>\n",
              "      <td>...</td>\n",
              "      <td>...</td>\n",
              "      <td>...</td>\n",
              "      <td>...</td>\n",
              "      <td>...</td>\n",
              "      <td>...</td>\n",
              "      <td>...</td>\n",
              "      <td>...</td>\n",
              "      <td>...</td>\n",
              "      <td>...</td>\n",
              "      <td>...</td>\n",
              "      <td>...</td>\n",
              "    </tr>\n",
              "    <tr>\n",
              "      <th>21449</th>\n",
              "      <td>2013</td>\n",
              "      <td>Dog</td>\n",
              "      <td>Flat Coat Retriever Mix</td>\n",
              "      <td>Black</td>\n",
              "      <td>Normal</td>\n",
              "      <td>Public Assist</td>\n",
              "      <td>Neutered Male</td>\n",
              "      <td>365</td>\n",
              "      <td>9.0</td>\n",
              "      <td>2014.0</td>\n",
              "      <td>201409.0</td>\n",
              "      <td>Saturday</td>\n",
              "      <td>11.0</td>\n",
              "      <td>1.0</td>\n",
              "      <td>18.322222</td>\n",
              "      <td>Neutered Male</td>\n",
              "      <td>365.0</td>\n",
              "      <td>10.0</td>\n",
              "      <td>201410.0</td>\n",
              "      <td>Wednesday</td>\n",
              "      <td>18.0</td>\n",
              "      <td>Rto-Adopt</td>\n",
              "      <td>13</td>\n",
              "      <td>unknown_mix</td>\n",
              "    </tr>\n",
              "    <tr>\n",
              "      <th>21463</th>\n",
              "      <td>2014</td>\n",
              "      <td>Cat</td>\n",
              "      <td>Domestic Shorthair</td>\n",
              "      <td>Tortie</td>\n",
              "      <td>Normal</td>\n",
              "      <td>Stray</td>\n",
              "      <td>Intact Female</td>\n",
              "      <td>30</td>\n",
              "      <td>9.0</td>\n",
              "      <td>2014.0</td>\n",
              "      <td>201409.0</td>\n",
              "      <td>Friday</td>\n",
              "      <td>11.0</td>\n",
              "      <td>1.0</td>\n",
              "      <td>14.006944</td>\n",
              "      <td>Spayed Female</td>\n",
              "      <td>60.0</td>\n",
              "      <td>9.0</td>\n",
              "      <td>201409.0</td>\n",
              "      <td>Friday</td>\n",
              "      <td>11.0</td>\n",
              "      <td>Rto-Adopt</td>\n",
              "      <td>12</td>\n",
              "      <td>pure</td>\n",
              "    </tr>\n",
              "    <tr>\n",
              "      <th>21471</th>\n",
              "      <td>2014</td>\n",
              "      <td>Cat</td>\n",
              "      <td>Domestic Shorthair Mix</td>\n",
              "      <td>Blue/White</td>\n",
              "      <td>Normal</td>\n",
              "      <td>Stray</td>\n",
              "      <td>Intact Male</td>\n",
              "      <td>7</td>\n",
              "      <td>9.0</td>\n",
              "      <td>2014.0</td>\n",
              "      <td>201409.0</td>\n",
              "      <td>Friday</td>\n",
              "      <td>11.0</td>\n",
              "      <td>1.0</td>\n",
              "      <td>0.177083</td>\n",
              "      <td>Intact Male</td>\n",
              "      <td>7.0</td>\n",
              "      <td>9.0</td>\n",
              "      <td>201409.0</td>\n",
              "      <td>Friday</td>\n",
              "      <td>15.0</td>\n",
              "      <td>Rto-Adopt</td>\n",
              "      <td>12</td>\n",
              "      <td>unknown_mix</td>\n",
              "    </tr>\n",
              "    <tr>\n",
              "      <th>21489</th>\n",
              "      <td>2014</td>\n",
              "      <td>Dog</td>\n",
              "      <td>Australian Cattle Dog/Pit Bull</td>\n",
              "      <td>Black/White</td>\n",
              "      <td>Normal</td>\n",
              "      <td>Stray</td>\n",
              "      <td>Intact Female</td>\n",
              "      <td>30</td>\n",
              "      <td>9.0</td>\n",
              "      <td>2014.0</td>\n",
              "      <td>201409.0</td>\n",
              "      <td>Friday</td>\n",
              "      <td>14.0</td>\n",
              "      <td>1.0</td>\n",
              "      <td>17.093056</td>\n",
              "      <td>Spayed Female</td>\n",
              "      <td>60.0</td>\n",
              "      <td>9.0</td>\n",
              "      <td>201409.0</td>\n",
              "      <td>Monday</td>\n",
              "      <td>16.0</td>\n",
              "      <td>Rto-Adopt</td>\n",
              "      <td>12</td>\n",
              "      <td>specific_mix</td>\n",
              "    </tr>\n",
              "    <tr>\n",
              "      <th>21498</th>\n",
              "      <td>2013</td>\n",
              "      <td>Dog</td>\n",
              "      <td>Pit Bull Mix</td>\n",
              "      <td>White/Brown</td>\n",
              "      <td>Normal</td>\n",
              "      <td>Owner Surrender</td>\n",
              "      <td>Neutered Male</td>\n",
              "      <td>1460</td>\n",
              "      <td>1.0</td>\n",
              "      <td>2018.0</td>\n",
              "      <td>201801.0</td>\n",
              "      <td>Saturday</td>\n",
              "      <td>11.0</td>\n",
              "      <td>2.0</td>\n",
              "      <td>1.031250</td>\n",
              "      <td>Neutered Male</td>\n",
              "      <td>1460.0</td>\n",
              "      <td>1.0</td>\n",
              "      <td>201801.0</td>\n",
              "      <td>Sunday</td>\n",
              "      <td>11.0</td>\n",
              "      <td>Rto-Adopt</td>\n",
              "      <td>13</td>\n",
              "      <td>unknown_mix</td>\n",
              "    </tr>\n",
              "  </tbody>\n",
              "</table>\n",
              "<p>1014 rows × 24 columns</p>\n",
              "</div>\n",
              "      <button class=\"colab-df-convert\" onclick=\"convertToInteractive('df-4f80e51b-d872-4fc5-8e0a-db09619979c1')\"\n",
              "              title=\"Convert this dataframe to an interactive table.\"\n",
              "              style=\"display:none;\">\n",
              "        \n",
              "  <svg xmlns=\"http://www.w3.org/2000/svg\" height=\"24px\"viewBox=\"0 0 24 24\"\n",
              "       width=\"24px\">\n",
              "    <path d=\"M0 0h24v24H0V0z\" fill=\"none\"/>\n",
              "    <path d=\"M18.56 5.44l.94 2.06.94-2.06 2.06-.94-2.06-.94-.94-2.06-.94 2.06-2.06.94zm-11 1L8.5 8.5l.94-2.06 2.06-.94-2.06-.94L8.5 2.5l-.94 2.06-2.06.94zm10 10l.94 2.06.94-2.06 2.06-.94-2.06-.94-.94-2.06-.94 2.06-2.06.94z\"/><path d=\"M17.41 7.96l-1.37-1.37c-.4-.4-.92-.59-1.43-.59-.52 0-1.04.2-1.43.59L10.3 9.45l-7.72 7.72c-.78.78-.78 2.05 0 2.83L4 21.41c.39.39.9.59 1.41.59.51 0 1.02-.2 1.41-.59l7.78-7.78 2.81-2.81c.8-.78.8-2.07 0-2.86zM5.41 20L4 18.59l7.72-7.72 1.47 1.35L5.41 20z\"/>\n",
              "  </svg>\n",
              "      </button>\n",
              "      \n",
              "  <style>\n",
              "    .colab-df-container {\n",
              "      display:flex;\n",
              "      flex-wrap:wrap;\n",
              "      gap: 12px;\n",
              "    }\n",
              "\n",
              "    .colab-df-convert {\n",
              "      background-color: #E8F0FE;\n",
              "      border: none;\n",
              "      border-radius: 50%;\n",
              "      cursor: pointer;\n",
              "      display: none;\n",
              "      fill: #1967D2;\n",
              "      height: 32px;\n",
              "      padding: 0 0 0 0;\n",
              "      width: 32px;\n",
              "    }\n",
              "\n",
              "    .colab-df-convert:hover {\n",
              "      background-color: #E2EBFA;\n",
              "      box-shadow: 0px 1px 2px rgba(60, 64, 67, 0.3), 0px 1px 3px 1px rgba(60, 64, 67, 0.15);\n",
              "      fill: #174EA6;\n",
              "    }\n",
              "\n",
              "    [theme=dark] .colab-df-convert {\n",
              "      background-color: #3B4455;\n",
              "      fill: #D2E3FC;\n",
              "    }\n",
              "\n",
              "    [theme=dark] .colab-df-convert:hover {\n",
              "      background-color: #434B5C;\n",
              "      box-shadow: 0px 1px 3px 1px rgba(0, 0, 0, 0.15);\n",
              "      filter: drop-shadow(0px 1px 2px rgba(0, 0, 0, 0.3));\n",
              "      fill: #FFFFFF;\n",
              "    }\n",
              "  </style>\n",
              "\n",
              "      <script>\n",
              "        const buttonEl =\n",
              "          document.querySelector('#df-4f80e51b-d872-4fc5-8e0a-db09619979c1 button.colab-df-convert');\n",
              "        buttonEl.style.display =\n",
              "          google.colab.kernel.accessAllowed ? 'block' : 'none';\n",
              "\n",
              "        async function convertToInteractive(key) {\n",
              "          const element = document.querySelector('#df-4f80e51b-d872-4fc5-8e0a-db09619979c1');\n",
              "          const dataTable =\n",
              "            await google.colab.kernel.invokeFunction('convertToInteractive',\n",
              "                                                     [key], {});\n",
              "          if (!dataTable) return;\n",
              "\n",
              "          const docLinkHtml = 'Like what you see? Visit the ' +\n",
              "            '<a target=\"_blank\" href=https://colab.research.google.com/notebooks/data_table.ipynb>data table notebook</a>'\n",
              "            + ' to learn more about interactive tables.';\n",
              "          element.innerHTML = '';\n",
              "          dataTable['output_type'] = 'display_data';\n",
              "          await google.colab.output.renderOutput(dataTable, element);\n",
              "          const docLink = document.createElement('div');\n",
              "          docLink.innerHTML = docLinkHtml;\n",
              "          element.appendChild(docLink);\n",
              "        }\n",
              "      </script>\n",
              "    </div>\n",
              "  </div>\n",
              "  "
            ],
            "text/plain": [
              "       dob_year animal_type                           breed  \\\n",
              "41         2000         Cat           Domestic Longhair Mix   \n",
              "65         2002         Cat              Domestic Shorthair   \n",
              "159        2004         Cat          Domestic Shorthair Mix   \n",
              "216        2004         Dog  Miniature Poodle/Cairn Terrier   \n",
              "253        2003         Cat          Domestic Shorthair Mix   \n",
              "...         ...         ...                             ...   \n",
              "21449      2013         Dog         Flat Coat Retriever Mix   \n",
              "21463      2014         Cat              Domestic Shorthair   \n",
              "21471      2014         Cat          Domestic Shorthair Mix   \n",
              "21489      2014         Dog  Australian Cattle Dog/Pit Bull   \n",
              "21498      2013         Dog                    Pit Bull Mix   \n",
              "\n",
              "                   color intake_condition      intake_type sex_upon_intake  \\\n",
              "41           Black/White           Normal            Stray   Neutered Male   \n",
              "65     Blue Cream/Tortie          Injured            Stray   Spayed Female   \n",
              "159         Silver Tabby           Normal            Stray   Spayed Female   \n",
              "216          White/Cream           Normal            Stray   Neutered Male   \n",
              "253                Black           Normal  Owner Surrender   Spayed Female   \n",
              "...                  ...              ...              ...             ...   \n",
              "21449              Black           Normal    Public Assist   Neutered Male   \n",
              "21463             Tortie           Normal            Stray   Intact Female   \n",
              "21471         Blue/White           Normal            Stray     Intact Male   \n",
              "21489        Black/White           Normal            Stray   Intact Female   \n",
              "21498        White/Brown           Normal  Owner Surrender   Neutered Male   \n",
              "\n",
              "       age_upon_intake_(days)  intake_month  intake_year  intake_monthyear  \\\n",
              "41                       5110          10.0       2014.0          201410.0   \n",
              "65                       5475           4.0       2017.0          201704.0   \n",
              "159                      4745           4.0       2017.0          201704.0   \n",
              "216                      4745           6.0       2017.0          201706.0   \n",
              "253                      4380          11.0       2015.0          201511.0   \n",
              "...                       ...           ...          ...               ...   \n",
              "21449                     365           9.0       2014.0          201409.0   \n",
              "21463                      30           9.0       2014.0          201409.0   \n",
              "21471                       7           9.0       2014.0          201409.0   \n",
              "21489                      30           9.0       2014.0          201409.0   \n",
              "21498                    1460           1.0       2018.0          201801.0   \n",
              "\n",
              "      intake_weekday  intake_hour  intake_number  time_in_shelter_days  \\\n",
              "41          Thursday         18.0            1.0              3.814583   \n",
              "65          Thursday         17.0            1.0              5.815278   \n",
              "159         Thursday         16.0            1.0             11.830556   \n",
              "216           Sunday         17.0            2.0              5.062500   \n",
              "253         Thursday         13.0            1.0            205.920139   \n",
              "...              ...          ...            ...                   ...   \n",
              "21449       Saturday         11.0            1.0             18.322222   \n",
              "21463         Friday         11.0            1.0             14.006944   \n",
              "21471         Friday         11.0            1.0              0.177083   \n",
              "21489         Friday         14.0            1.0             17.093056   \n",
              "21498       Saturday         11.0            2.0              1.031250   \n",
              "\n",
              "      sex_upon_outcome  age_upon_outcome_(days)  outcome_month  \\\n",
              "41       Neutered Male                   5110.0           10.0   \n",
              "65       Spayed Female                   5475.0            4.0   \n",
              "159      Spayed Female                   4745.0            4.0   \n",
              "216      Neutered Male                   4745.0            6.0   \n",
              "253      Spayed Female                   4380.0            6.0   \n",
              "...                ...                      ...            ...   \n",
              "21449    Neutered Male                    365.0           10.0   \n",
              "21463    Spayed Female                     60.0            9.0   \n",
              "21471      Intact Male                      7.0            9.0   \n",
              "21489    Spayed Female                     60.0            9.0   \n",
              "21498    Neutered Male                   1460.0            1.0   \n",
              "\n",
              "       outcome_monthyear outcome_weekday  outcome_hour outcome_type  \\\n",
              "41              201410.0          Monday          13.0    Rto-Adopt   \n",
              "65              201704.0       Wednesday          12.0    Rto-Adopt   \n",
              "159             201704.0         Tuesday          12.0    Rto-Adopt   \n",
              "216             201706.0          Friday          18.0    Rto-Adopt   \n",
              "253             201606.0          Sunday          11.0    Rto-Adopt   \n",
              "...                  ...             ...           ...          ...   \n",
              "21449           201410.0       Wednesday          18.0    Rto-Adopt   \n",
              "21463           201409.0          Friday          11.0    Rto-Adopt   \n",
              "21471           201409.0          Friday          15.0    Rto-Adopt   \n",
              "21489           201409.0          Monday          16.0    Rto-Adopt   \n",
              "21498           201801.0          Sunday          11.0    Rto-Adopt   \n",
              "\n",
              "       intake_day  breed_bucket  \n",
              "41             16   unknown_mix  \n",
              "65             20          pure  \n",
              "159            13   unknown_mix  \n",
              "216             4  specific_mix  \n",
              "253            19   unknown_mix  \n",
              "...           ...           ...  \n",
              "21449          13   unknown_mix  \n",
              "21463          12          pure  \n",
              "21471          12   unknown_mix  \n",
              "21489          12  specific_mix  \n",
              "21498          13   unknown_mix  \n",
              "\n",
              "[1014 rows x 24 columns]"
            ]
          },
          "metadata": {},
          "execution_count": 61
        }
      ]
    },
    {
      "cell_type": "code",
      "metadata": {
        "collapsed": true,
        "id": "XYkl6ZMdqeO2"
      },
      "source": [
        "#Trying to create some strengthing variable for the minority class\n",
        "def rto_adopt_conditions(df):\n",
        "    if (df['outcome_type']== 'Rto-Adopt'):      #made changes here removed !=Others\n",
        "        return df['breed']\n",
        "    \n",
        "rto_adoptable_dict = pd.DataFrame(X.apply(rto_adopt_conditions, axis = 1), columns = ['rto_adoptable_breeds'])\n",
        "rto_cleaned_adoptable_dict = rto_adoptable_dict[rto_adoptable_dict['rto_adoptable_breeds'].notnull()]\n",
        "rto_cleaned_adoptable_dict = pd.DataFrame(rto_cleaned_adoptable_dict['rto_adoptable_breeds'].unique(), columns = ['unique_rto_adoptable_breeds'])\n",
        "rto_adoptable_list = rto_cleaned_adoptable_dict['unique_rto_adoptable_breeds'].tolist()"
      ],
      "execution_count": null,
      "outputs": []
    },
    {
      "cell_type": "code",
      "metadata": {
        "collapsed": true,
        "id": "oWZTlyZMqeO2"
      },
      "source": [
        "def disposal_conditions(df):\n",
        "    if (df['outcome_type']=='Disposal'):\n",
        "        return df['breed']\n",
        "    \n",
        "disposal_dict = pd.DataFrame(X.apply(disposal_conditions, axis = 1), columns = ['disposal_breeds'])\n",
        "cleaned_disposal_dict = disposal_dict[disposal_dict['disposal_breeds'].notnull()]\n",
        "cleaned_disposal_dict = pd.DataFrame(cleaned_disposal_dict['disposal_breeds'].unique(), columns = ['unique_disposal_breeds'])\n",
        "disposal_list = cleaned_disposal_dict['unique_disposal_breeds'].tolist()"
      ],
      "execution_count": null,
      "outputs": []
    },
    {
      "cell_type": "code",
      "metadata": {
        "colab": {
          "base_uri": "https://localhost:8080/"
        },
        "id": "RHK0_6vOqeO3",
        "outputId": "8f19b03c-ffff-4707-e4ef-fc98a70cf986"
      },
      "source": [
        "disposal_list"
      ],
      "execution_count": null,
      "outputs": [
        {
          "output_type": "execute_result",
          "data": {
            "text/plain": [
              "['Bat Mix',\n",
              " 'Raccoon',\n",
              " 'Bat',\n",
              " 'Raccoon Mix',\n",
              " 'Fox',\n",
              " 'Skunk Mix',\n",
              " 'Squirrel',\n",
              " 'Opossum Mix',\n",
              " 'Domestic Shorthair Mix',\n",
              " 'Skunk']"
            ]
          },
          "metadata": {},
          "execution_count": 64
        }
      ]
    },
    {
      "cell_type": "code",
      "metadata": {
        "collapsed": true,
        "id": "5imSk7TeqeO3"
      },
      "source": [
        "def lookup_adotable_breeds(breed):\n",
        "    if breed in adoptable_list:\n",
        "        return 'adoptible_likely'          #made changes returns here\n",
        "    else:\n",
        "        return 'adoptible_unlikely'        #made changes returns here\n",
        "    \n",
        "def lookup_rto_adoptabale_breeds(breed):\n",
        "    if breed in rto_adoptable_list:\n",
        "        return 'rto_adoptible_likely'          #made changes returns here\n",
        "    else:\n",
        "        return 'rto_adoptible_unlikely'        #made changes returns here\n",
        "        \n",
        "def lookup_disposable_breeds(breed):\n",
        "    if breed in disposal_list:\n",
        "        return 'high_disposability'\n",
        "    else:\n",
        "        return 'low_disposability'"
      ],
      "execution_count": null,
      "outputs": []
    },
    {
      "cell_type": "code",
      "metadata": {
        "collapsed": true,
        "id": "N2n82VlBqeO3"
      },
      "source": [
        "X['adoptability'] = X.breed.apply(lookup_adotable_breeds)\n",
        "X['disposability'] = X.breed.apply(lookup_disposable_breeds)\n",
        "X['rto_adoptability']= X.breed.apply(lookup_rto_adoptabale_breeds)"
      ],
      "execution_count": null,
      "outputs": []
    },
    {
      "cell_type": "code",
      "metadata": {
        "collapsed": true,
        "id": "DSpVHghPqeO3"
      },
      "source": [
        "#We are excluding dogs because only 2 dogs are disposed.\n",
        "X.loc[X['animal_type']=='Dog', 'disposability'] = 'low_disposability'"
      ],
      "execution_count": null,
      "outputs": []
    },
    {
      "cell_type": "markdown",
      "metadata": {
        "id": "giDbfM-QqeO4"
      },
      "source": [
        "# Feature encoding(final iteration)"
      ]
    },
    {
      "cell_type": "code",
      "metadata": {
        "collapsed": true,
        "id": "AdRxQFw-qeO4"
      },
      "source": [
        "X_final = X.copy()"
      ],
      "execution_count": null,
      "outputs": []
    },
    {
      "cell_type": "code",
      "metadata": {
        "collapsed": true,
        "id": "y7vilbqZqeO4"
      },
      "source": [
        "#FINAL ONE HOT ENCODING\n",
        "def onehotdataframe_final(dfs):  \n",
        "    one_hot_animal_type= pd.get_dummies(dfs.animal_type)\n",
        "\n",
        "    one_hot_intake_condition = pd.get_dummies(dfs.intake_condition)\n",
        "    one_hot_intake_condition.columns = [str(col) + '_intake' for col in one_hot_intake_condition.columns]\n",
        "\n",
        "    one_hot_intake_type = pd.get_dummies(dfs.intake_type)\n",
        "    one_hot_intake_type.columns = [str(col) + '_intake' for col in one_hot_intake_type.columns]\n",
        "\n",
        "    one_hot_sex_upon_intake = pd.get_dummies(dfs.sex_upon_intake)\n",
        "    one_hot_sex_upon_intake.columns = [str(col) + '_intake' for col in one_hot_sex_upon_intake.columns]\n",
        "\n",
        "    one_hot_intake_weekday = pd.get_dummies(dfs.intake_weekday)\n",
        "    one_hot_intake_weekday.columns = [str(col) + '_intake' for col in one_hot_intake_weekday.columns]\n",
        "\n",
        "    one_hot_sex_upon_outcome = pd.get_dummies(dfs.sex_upon_outcome)\n",
        "    one_hot_sex_upon_outcome.columns = [str(col) + '_outcome' for col in one_hot_sex_upon_outcome.columns]\n",
        "\n",
        "    one_hot_outcome_weekday = pd.get_dummies(dfs.outcome_weekday)\n",
        "    one_hot_outcome_weekday.columns = [str(col) + '_outcome' for col in one_hot_outcome_weekday.columns]     \n",
        "    \n",
        "    one_hot_breed_bucket = pd.get_dummies(dfs.breed_bucket)\n",
        "    one_hot_breed_bucket.columns = [str(col) + '_breed_category' for col in one_hot_breed_bucket.columns]  \n",
        "    \n",
        "    dfs = dfs.drop(['animal_type','intake_type', 'intake_condition', 'sex_upon_intake', 'intake_weekday', 'sex_upon_outcome', 'outcome_weekday', 'breed_bucket'], axis = 1) \n",
        "\n",
        "    #Merging one hot encoded features with our dataset 'data' \n",
        "    df_encoded=pd.concat([dfs, one_hot_animal_type,one_hot_intake_condition,one_hot_intake_type,one_hot_sex_upon_intake,one_hot_intake_weekday,one_hot_sex_upon_outcome,one_hot_outcome_weekday, one_hot_breed_bucket],axis=1)  \n",
        "    \n",
        "    return(df_encoded)"
      ],
      "execution_count": null,
      "outputs": []
    },
    {
      "cell_type": "code",
      "metadata": {
        "collapsed": true,
        "id": "MuALFi9lqeO4"
      },
      "source": [
        "X_final = onehotdataframe_final(dfs = X_final)"
      ],
      "execution_count": null,
      "outputs": []
    },
    {
      "cell_type": "code",
      "metadata": {
        "colab": {
          "base_uri": "https://localhost:8080/",
          "height": 696
        },
        "id": "5ZqjvPxEqeO4",
        "outputId": "0d35e75e-d8e3-4a65-89ed-bdb7ea3b6445"
      },
      "source": [
        "X_final"
      ],
      "execution_count": null,
      "outputs": [
        {
          "output_type": "execute_result",
          "data": {
            "text/html": [
              "\n",
              "  <div id=\"df-0fee312e-b924-4ae5-a1ed-b2d5b14b412d\">\n",
              "    <div class=\"colab-df-container\">\n",
              "      <div>\n",
              "<style scoped>\n",
              "    .dataframe tbody tr th:only-of-type {\n",
              "        vertical-align: middle;\n",
              "    }\n",
              "\n",
              "    .dataframe tbody tr th {\n",
              "        vertical-align: top;\n",
              "    }\n",
              "\n",
              "    .dataframe thead th {\n",
              "        text-align: right;\n",
              "    }\n",
              "</style>\n",
              "<table border=\"1\" class=\"dataframe\">\n",
              "  <thead>\n",
              "    <tr style=\"text-align: right;\">\n",
              "      <th></th>\n",
              "      <th>dob_year</th>\n",
              "      <th>breed</th>\n",
              "      <th>color</th>\n",
              "      <th>age_upon_intake_(days)</th>\n",
              "      <th>intake_month</th>\n",
              "      <th>intake_year</th>\n",
              "      <th>intake_monthyear</th>\n",
              "      <th>intake_hour</th>\n",
              "      <th>intake_number</th>\n",
              "      <th>time_in_shelter_days</th>\n",
              "      <th>age_upon_outcome_(days)</th>\n",
              "      <th>outcome_month</th>\n",
              "      <th>outcome_monthyear</th>\n",
              "      <th>outcome_hour</th>\n",
              "      <th>outcome_type</th>\n",
              "      <th>intake_day</th>\n",
              "      <th>adoptability</th>\n",
              "      <th>disposability</th>\n",
              "      <th>rto_adoptability</th>\n",
              "      <th>Bird</th>\n",
              "      <th>Cat</th>\n",
              "      <th>Dog</th>\n",
              "      <th>Other</th>\n",
              "      <th>Aged_intake</th>\n",
              "      <th>Feral_intake</th>\n",
              "      <th>Injured_intake</th>\n",
              "      <th>Normal_intake</th>\n",
              "      <th>Nursing_intake</th>\n",
              "      <th>Other_intake</th>\n",
              "      <th>Pregnant_intake</th>\n",
              "      <th>Sick_intake</th>\n",
              "      <th>Euthanasia Request_intake</th>\n",
              "      <th>Owner Surrender_intake</th>\n",
              "      <th>Public Assist_intake</th>\n",
              "      <th>Stray_intake</th>\n",
              "      <th>Wildlife_intake</th>\n",
              "      <th>Intact Female_intake</th>\n",
              "      <th>Intact Male_intake</th>\n",
              "      <th>Neutered Male_intake</th>\n",
              "      <th>Spayed Female_intake</th>\n",
              "      <th>Unknown_intake</th>\n",
              "      <th>Friday_intake</th>\n",
              "      <th>Monday_intake</th>\n",
              "      <th>Saturday_intake</th>\n",
              "      <th>Sunday_intake</th>\n",
              "      <th>Thursday_intake</th>\n",
              "      <th>Tuesday_intake</th>\n",
              "      <th>Wednesday_intake</th>\n",
              "      <th>Intact Female_outcome</th>\n",
              "      <th>Intact Male_outcome</th>\n",
              "      <th>Neutered Male_outcome</th>\n",
              "      <th>Spayed Female_outcome</th>\n",
              "      <th>Unknown_outcome</th>\n",
              "      <th>Friday_outcome</th>\n",
              "      <th>Monday_outcome</th>\n",
              "      <th>Saturday_outcome</th>\n",
              "      <th>Sunday_outcome</th>\n",
              "      <th>Thursday_outcome</th>\n",
              "      <th>Tuesday_outcome</th>\n",
              "      <th>Wednesday_outcome</th>\n",
              "      <th>pure_breed_category</th>\n",
              "      <th>specific_mix_breed_category</th>\n",
              "      <th>unknown_mix_breed_category</th>\n",
              "    </tr>\n",
              "  </thead>\n",
              "  <tbody>\n",
              "    <tr>\n",
              "      <th>0</th>\n",
              "      <td>2007</td>\n",
              "      <td>Spinone Italiano Mix</td>\n",
              "      <td>Yellow/White</td>\n",
              "      <td>3650</td>\n",
              "      <td>12.000000</td>\n",
              "      <td>2017.000000</td>\n",
              "      <td>201712.000000</td>\n",
              "      <td>14.000000</td>\n",
              "      <td>1.000000</td>\n",
              "      <td>0.588194</td>\n",
              "      <td>3650.000000</td>\n",
              "      <td>12.000000</td>\n",
              "      <td>201712.000000</td>\n",
              "      <td>0.000000</td>\n",
              "      <td>Return to Owner</td>\n",
              "      <td>7</td>\n",
              "      <td>adoptible_unlikely</td>\n",
              "      <td>low_disposability</td>\n",
              "      <td>rto_adoptible_unlikely</td>\n",
              "      <td>0</td>\n",
              "      <td>0</td>\n",
              "      <td>1</td>\n",
              "      <td>0</td>\n",
              "      <td>0</td>\n",
              "      <td>0</td>\n",
              "      <td>0</td>\n",
              "      <td>1</td>\n",
              "      <td>0</td>\n",
              "      <td>0</td>\n",
              "      <td>0</td>\n",
              "      <td>0</td>\n",
              "      <td>0</td>\n",
              "      <td>0</td>\n",
              "      <td>0</td>\n",
              "      <td>1</td>\n",
              "      <td>0</td>\n",
              "      <td>0</td>\n",
              "      <td>0</td>\n",
              "      <td>1</td>\n",
              "      <td>0</td>\n",
              "      <td>0</td>\n",
              "      <td>0</td>\n",
              "      <td>0</td>\n",
              "      <td>0</td>\n",
              "      <td>0</td>\n",
              "      <td>1</td>\n",
              "      <td>0</td>\n",
              "      <td>0</td>\n",
              "      <td>0</td>\n",
              "      <td>0</td>\n",
              "      <td>1</td>\n",
              "      <td>0</td>\n",
              "      <td>0</td>\n",
              "      <td>0</td>\n",
              "      <td>0</td>\n",
              "      <td>0</td>\n",
              "      <td>0</td>\n",
              "      <td>1</td>\n",
              "      <td>0</td>\n",
              "      <td>0</td>\n",
              "      <td>0</td>\n",
              "      <td>0</td>\n",
              "      <td>1</td>\n",
              "    </tr>\n",
              "    <tr>\n",
              "      <th>1</th>\n",
              "      <td>2007</td>\n",
              "      <td>Spinone Italiano Mix</td>\n",
              "      <td>Yellow/White</td>\n",
              "      <td>2555</td>\n",
              "      <td>12.000000</td>\n",
              "      <td>2014.000000</td>\n",
              "      <td>201412.000000</td>\n",
              "      <td>10.000000</td>\n",
              "      <td>2.000000</td>\n",
              "      <td>1.259722</td>\n",
              "      <td>2555.000000</td>\n",
              "      <td>12.000000</td>\n",
              "      <td>201412.000000</td>\n",
              "      <td>16.000000</td>\n",
              "      <td>Return to Owner</td>\n",
              "      <td>19</td>\n",
              "      <td>adoptible_unlikely</td>\n",
              "      <td>low_disposability</td>\n",
              "      <td>rto_adoptible_unlikely</td>\n",
              "      <td>0</td>\n",
              "      <td>0</td>\n",
              "      <td>1</td>\n",
              "      <td>0</td>\n",
              "      <td>0</td>\n",
              "      <td>0</td>\n",
              "      <td>0</td>\n",
              "      <td>1</td>\n",
              "      <td>0</td>\n",
              "      <td>0</td>\n",
              "      <td>0</td>\n",
              "      <td>0</td>\n",
              "      <td>0</td>\n",
              "      <td>0</td>\n",
              "      <td>1</td>\n",
              "      <td>0</td>\n",
              "      <td>0</td>\n",
              "      <td>0</td>\n",
              "      <td>0</td>\n",
              "      <td>1</td>\n",
              "      <td>0</td>\n",
              "      <td>0</td>\n",
              "      <td>1</td>\n",
              "      <td>0</td>\n",
              "      <td>0</td>\n",
              "      <td>0</td>\n",
              "      <td>0</td>\n",
              "      <td>0</td>\n",
              "      <td>0</td>\n",
              "      <td>0</td>\n",
              "      <td>0</td>\n",
              "      <td>1</td>\n",
              "      <td>0</td>\n",
              "      <td>0</td>\n",
              "      <td>0</td>\n",
              "      <td>0</td>\n",
              "      <td>1</td>\n",
              "      <td>0</td>\n",
              "      <td>0</td>\n",
              "      <td>0</td>\n",
              "      <td>0</td>\n",
              "      <td>0</td>\n",
              "      <td>0</td>\n",
              "      <td>1</td>\n",
              "    </tr>\n",
              "    <tr>\n",
              "      <th>2</th>\n",
              "      <td>2007</td>\n",
              "      <td>Spinone Italiano Mix</td>\n",
              "      <td>Yellow/White</td>\n",
              "      <td>2190</td>\n",
              "      <td>3.000000</td>\n",
              "      <td>2014.000000</td>\n",
              "      <td>201403.000000</td>\n",
              "      <td>14.000000</td>\n",
              "      <td>3.000000</td>\n",
              "      <td>1.113889</td>\n",
              "      <td>2190.000000</td>\n",
              "      <td>3.000000</td>\n",
              "      <td>201403.000000</td>\n",
              "      <td>17.000000</td>\n",
              "      <td>Return to Owner</td>\n",
              "      <td>7</td>\n",
              "      <td>adoptible_unlikely</td>\n",
              "      <td>low_disposability</td>\n",
              "      <td>rto_adoptible_unlikely</td>\n",
              "      <td>0</td>\n",
              "      <td>0</td>\n",
              "      <td>1</td>\n",
              "      <td>0</td>\n",
              "      <td>0</td>\n",
              "      <td>0</td>\n",
              "      <td>0</td>\n",
              "      <td>1</td>\n",
              "      <td>0</td>\n",
              "      <td>0</td>\n",
              "      <td>0</td>\n",
              "      <td>0</td>\n",
              "      <td>0</td>\n",
              "      <td>0</td>\n",
              "      <td>1</td>\n",
              "      <td>0</td>\n",
              "      <td>0</td>\n",
              "      <td>0</td>\n",
              "      <td>0</td>\n",
              "      <td>1</td>\n",
              "      <td>0</td>\n",
              "      <td>0</td>\n",
              "      <td>1</td>\n",
              "      <td>0</td>\n",
              "      <td>0</td>\n",
              "      <td>0</td>\n",
              "      <td>0</td>\n",
              "      <td>0</td>\n",
              "      <td>0</td>\n",
              "      <td>0</td>\n",
              "      <td>0</td>\n",
              "      <td>1</td>\n",
              "      <td>0</td>\n",
              "      <td>0</td>\n",
              "      <td>0</td>\n",
              "      <td>0</td>\n",
              "      <td>1</td>\n",
              "      <td>0</td>\n",
              "      <td>0</td>\n",
              "      <td>0</td>\n",
              "      <td>0</td>\n",
              "      <td>0</td>\n",
              "      <td>0</td>\n",
              "      <td>1</td>\n",
              "    </tr>\n",
              "    <tr>\n",
              "      <th>3</th>\n",
              "      <td>2004</td>\n",
              "      <td>Dachshund</td>\n",
              "      <td>Tricolor</td>\n",
              "      <td>3650</td>\n",
              "      <td>4.000000</td>\n",
              "      <td>2014.000000</td>\n",
              "      <td>201404.000000</td>\n",
              "      <td>15.000000</td>\n",
              "      <td>1.000000</td>\n",
              "      <td>4.970139</td>\n",
              "      <td>3650.000000</td>\n",
              "      <td>4.000000</td>\n",
              "      <td>201404.000000</td>\n",
              "      <td>15.000000</td>\n",
              "      <td>Missing</td>\n",
              "      <td>2</td>\n",
              "      <td>adoptible_likely</td>\n",
              "      <td>low_disposability</td>\n",
              "      <td>rto_adoptible_likely</td>\n",
              "      <td>0</td>\n",
              "      <td>0</td>\n",
              "      <td>1</td>\n",
              "      <td>0</td>\n",
              "      <td>0</td>\n",
              "      <td>0</td>\n",
              "      <td>0</td>\n",
              "      <td>1</td>\n",
              "      <td>0</td>\n",
              "      <td>0</td>\n",
              "      <td>0</td>\n",
              "      <td>0</td>\n",
              "      <td>0</td>\n",
              "      <td>1</td>\n",
              "      <td>0</td>\n",
              "      <td>0</td>\n",
              "      <td>0</td>\n",
              "      <td>0</td>\n",
              "      <td>0</td>\n",
              "      <td>1</td>\n",
              "      <td>0</td>\n",
              "      <td>0</td>\n",
              "      <td>0</td>\n",
              "      <td>0</td>\n",
              "      <td>0</td>\n",
              "      <td>0</td>\n",
              "      <td>0</td>\n",
              "      <td>0</td>\n",
              "      <td>1</td>\n",
              "      <td>0</td>\n",
              "      <td>0</td>\n",
              "      <td>1</td>\n",
              "      <td>0</td>\n",
              "      <td>0</td>\n",
              "      <td>0</td>\n",
              "      <td>1</td>\n",
              "      <td>0</td>\n",
              "      <td>0</td>\n",
              "      <td>0</td>\n",
              "      <td>0</td>\n",
              "      <td>0</td>\n",
              "      <td>1</td>\n",
              "      <td>0</td>\n",
              "      <td>0</td>\n",
              "    </tr>\n",
              "    <tr>\n",
              "      <th>4</th>\n",
              "      <td>1997</td>\n",
              "      <td>Shetland Sheepdog</td>\n",
              "      <td>Brown/White</td>\n",
              "      <td>5840</td>\n",
              "      <td>11.000000</td>\n",
              "      <td>2013.000000</td>\n",
              "      <td>201311.000000</td>\n",
              "      <td>9.000000</td>\n",
              "      <td>1.000000</td>\n",
              "      <td>0.119444</td>\n",
              "      <td>5840.000000</td>\n",
              "      <td>11.000000</td>\n",
              "      <td>201311.000000</td>\n",
              "      <td>11.000000</td>\n",
              "      <td>Return to Owner</td>\n",
              "      <td>16</td>\n",
              "      <td>adoptible_unlikely</td>\n",
              "      <td>low_disposability</td>\n",
              "      <td>rto_adoptible_unlikely</td>\n",
              "      <td>0</td>\n",
              "      <td>0</td>\n",
              "      <td>1</td>\n",
              "      <td>0</td>\n",
              "      <td>0</td>\n",
              "      <td>0</td>\n",
              "      <td>1</td>\n",
              "      <td>0</td>\n",
              "      <td>0</td>\n",
              "      <td>0</td>\n",
              "      <td>0</td>\n",
              "      <td>0</td>\n",
              "      <td>0</td>\n",
              "      <td>0</td>\n",
              "      <td>1</td>\n",
              "      <td>0</td>\n",
              "      <td>0</td>\n",
              "      <td>0</td>\n",
              "      <td>0</td>\n",
              "      <td>1</td>\n",
              "      <td>0</td>\n",
              "      <td>0</td>\n",
              "      <td>0</td>\n",
              "      <td>0</td>\n",
              "      <td>1</td>\n",
              "      <td>0</td>\n",
              "      <td>0</td>\n",
              "      <td>0</td>\n",
              "      <td>0</td>\n",
              "      <td>0</td>\n",
              "      <td>0</td>\n",
              "      <td>1</td>\n",
              "      <td>0</td>\n",
              "      <td>0</td>\n",
              "      <td>0</td>\n",
              "      <td>0</td>\n",
              "      <td>1</td>\n",
              "      <td>0</td>\n",
              "      <td>0</td>\n",
              "      <td>0</td>\n",
              "      <td>0</td>\n",
              "      <td>1</td>\n",
              "      <td>0</td>\n",
              "      <td>0</td>\n",
              "    </tr>\n",
              "    <tr>\n",
              "      <th>...</th>\n",
              "      <td>...</td>\n",
              "      <td>...</td>\n",
              "      <td>...</td>\n",
              "      <td>...</td>\n",
              "      <td>...</td>\n",
              "      <td>...</td>\n",
              "      <td>...</td>\n",
              "      <td>...</td>\n",
              "      <td>...</td>\n",
              "      <td>...</td>\n",
              "      <td>...</td>\n",
              "      <td>...</td>\n",
              "      <td>...</td>\n",
              "      <td>...</td>\n",
              "      <td>...</td>\n",
              "      <td>...</td>\n",
              "      <td>...</td>\n",
              "      <td>...</td>\n",
              "      <td>...</td>\n",
              "      <td>...</td>\n",
              "      <td>...</td>\n",
              "      <td>...</td>\n",
              "      <td>...</td>\n",
              "      <td>...</td>\n",
              "      <td>...</td>\n",
              "      <td>...</td>\n",
              "      <td>...</td>\n",
              "      <td>...</td>\n",
              "      <td>...</td>\n",
              "      <td>...</td>\n",
              "      <td>...</td>\n",
              "      <td>...</td>\n",
              "      <td>...</td>\n",
              "      <td>...</td>\n",
              "      <td>...</td>\n",
              "      <td>...</td>\n",
              "      <td>...</td>\n",
              "      <td>...</td>\n",
              "      <td>...</td>\n",
              "      <td>...</td>\n",
              "      <td>...</td>\n",
              "      <td>...</td>\n",
              "      <td>...</td>\n",
              "      <td>...</td>\n",
              "      <td>...</td>\n",
              "      <td>...</td>\n",
              "      <td>...</td>\n",
              "      <td>...</td>\n",
              "      <td>...</td>\n",
              "      <td>...</td>\n",
              "      <td>...</td>\n",
              "      <td>...</td>\n",
              "      <td>...</td>\n",
              "      <td>...</td>\n",
              "      <td>...</td>\n",
              "      <td>...</td>\n",
              "      <td>...</td>\n",
              "      <td>...</td>\n",
              "      <td>...</td>\n",
              "      <td>...</td>\n",
              "      <td>...</td>\n",
              "      <td>...</td>\n",
              "      <td>...</td>\n",
              "    </tr>\n",
              "    <tr>\n",
              "      <th>21536</th>\n",
              "      <td>2009</td>\n",
              "      <td>Toy Poodle Mix</td>\n",
              "      <td>Apricot</td>\n",
              "      <td>1825</td>\n",
              "      <td>9.000000</td>\n",
              "      <td>2014.000000</td>\n",
              "      <td>201409.000000</td>\n",
              "      <td>11.000000</td>\n",
              "      <td>1.000000</td>\n",
              "      <td>9.070833</td>\n",
              "      <td>1825.000000</td>\n",
              "      <td>9.000000</td>\n",
              "      <td>201409.000000</td>\n",
              "      <td>13.000000</td>\n",
              "      <td>Return to Owner</td>\n",
              "      <td>13</td>\n",
              "      <td>adoptible_likely</td>\n",
              "      <td>low_disposability</td>\n",
              "      <td>rto_adoptible_unlikely</td>\n",
              "      <td>0</td>\n",
              "      <td>0</td>\n",
              "      <td>1</td>\n",
              "      <td>0</td>\n",
              "      <td>0</td>\n",
              "      <td>0</td>\n",
              "      <td>0</td>\n",
              "      <td>1</td>\n",
              "      <td>0</td>\n",
              "      <td>0</td>\n",
              "      <td>0</td>\n",
              "      <td>0</td>\n",
              "      <td>0</td>\n",
              "      <td>0</td>\n",
              "      <td>1</td>\n",
              "      <td>0</td>\n",
              "      <td>0</td>\n",
              "      <td>0</td>\n",
              "      <td>0</td>\n",
              "      <td>1</td>\n",
              "      <td>0</td>\n",
              "      <td>0</td>\n",
              "      <td>0</td>\n",
              "      <td>0</td>\n",
              "      <td>1</td>\n",
              "      <td>0</td>\n",
              "      <td>0</td>\n",
              "      <td>0</td>\n",
              "      <td>0</td>\n",
              "      <td>0</td>\n",
              "      <td>0</td>\n",
              "      <td>1</td>\n",
              "      <td>0</td>\n",
              "      <td>0</td>\n",
              "      <td>0</td>\n",
              "      <td>1</td>\n",
              "      <td>0</td>\n",
              "      <td>0</td>\n",
              "      <td>0</td>\n",
              "      <td>0</td>\n",
              "      <td>0</td>\n",
              "      <td>0</td>\n",
              "      <td>0</td>\n",
              "      <td>1</td>\n",
              "    </tr>\n",
              "    <tr>\n",
              "      <th>21537</th>\n",
              "      <td>2012</td>\n",
              "      <td>Boxer Mix</td>\n",
              "      <td>Fawn/White</td>\n",
              "      <td>730</td>\n",
              "      <td>9.000000</td>\n",
              "      <td>2014.000000</td>\n",
              "      <td>201409.000000</td>\n",
              "      <td>14.000000</td>\n",
              "      <td>1.000000</td>\n",
              "      <td>1.142361</td>\n",
              "      <td>730.000000</td>\n",
              "      <td>9.000000</td>\n",
              "      <td>201409.000000</td>\n",
              "      <td>17.000000</td>\n",
              "      <td>Died</td>\n",
              "      <td>25</td>\n",
              "      <td>adoptible_likely</td>\n",
              "      <td>low_disposability</td>\n",
              "      <td>rto_adoptible_likely</td>\n",
              "      <td>0</td>\n",
              "      <td>0</td>\n",
              "      <td>1</td>\n",
              "      <td>0</td>\n",
              "      <td>0</td>\n",
              "      <td>0</td>\n",
              "      <td>0</td>\n",
              "      <td>1</td>\n",
              "      <td>0</td>\n",
              "      <td>0</td>\n",
              "      <td>0</td>\n",
              "      <td>0</td>\n",
              "      <td>0</td>\n",
              "      <td>1</td>\n",
              "      <td>0</td>\n",
              "      <td>0</td>\n",
              "      <td>0</td>\n",
              "      <td>0</td>\n",
              "      <td>1</td>\n",
              "      <td>0</td>\n",
              "      <td>0</td>\n",
              "      <td>0</td>\n",
              "      <td>0</td>\n",
              "      <td>0</td>\n",
              "      <td>0</td>\n",
              "      <td>0</td>\n",
              "      <td>1</td>\n",
              "      <td>0</td>\n",
              "      <td>0</td>\n",
              "      <td>0</td>\n",
              "      <td>0</td>\n",
              "      <td>1</td>\n",
              "      <td>0</td>\n",
              "      <td>0</td>\n",
              "      <td>1</td>\n",
              "      <td>0</td>\n",
              "      <td>0</td>\n",
              "      <td>0</td>\n",
              "      <td>0</td>\n",
              "      <td>0</td>\n",
              "      <td>0</td>\n",
              "      <td>0</td>\n",
              "      <td>0</td>\n",
              "      <td>1</td>\n",
              "    </tr>\n",
              "    <tr>\n",
              "      <th>21538</th>\n",
              "      <td>2014</td>\n",
              "      <td>Labrador Retriever Mix</td>\n",
              "      <td>Brown</td>\n",
              "      <td>730</td>\n",
              "      <td>5.000000</td>\n",
              "      <td>2017.000000</td>\n",
              "      <td>201705.000000</td>\n",
              "      <td>11.000000</td>\n",
              "      <td>1.000000</td>\n",
              "      <td>0.143750</td>\n",
              "      <td>730.000000</td>\n",
              "      <td>5.000000</td>\n",
              "      <td>201705.000000</td>\n",
              "      <td>14.000000</td>\n",
              "      <td>Return to Owner</td>\n",
              "      <td>4</td>\n",
              "      <td>adoptible_likely</td>\n",
              "      <td>low_disposability</td>\n",
              "      <td>rto_adoptible_likely</td>\n",
              "      <td>0</td>\n",
              "      <td>0</td>\n",
              "      <td>1</td>\n",
              "      <td>0</td>\n",
              "      <td>0</td>\n",
              "      <td>0</td>\n",
              "      <td>0</td>\n",
              "      <td>1</td>\n",
              "      <td>0</td>\n",
              "      <td>0</td>\n",
              "      <td>0</td>\n",
              "      <td>0</td>\n",
              "      <td>0</td>\n",
              "      <td>0</td>\n",
              "      <td>0</td>\n",
              "      <td>1</td>\n",
              "      <td>0</td>\n",
              "      <td>0</td>\n",
              "      <td>0</td>\n",
              "      <td>0</td>\n",
              "      <td>1</td>\n",
              "      <td>0</td>\n",
              "      <td>0</td>\n",
              "      <td>0</td>\n",
              "      <td>0</td>\n",
              "      <td>0</td>\n",
              "      <td>1</td>\n",
              "      <td>0</td>\n",
              "      <td>0</td>\n",
              "      <td>0</td>\n",
              "      <td>0</td>\n",
              "      <td>0</td>\n",
              "      <td>1</td>\n",
              "      <td>0</td>\n",
              "      <td>0</td>\n",
              "      <td>0</td>\n",
              "      <td>0</td>\n",
              "      <td>0</td>\n",
              "      <td>1</td>\n",
              "      <td>0</td>\n",
              "      <td>0</td>\n",
              "      <td>0</td>\n",
              "      <td>0</td>\n",
              "      <td>1</td>\n",
              "    </tr>\n",
              "    <tr>\n",
              "      <th>21539</th>\n",
              "      <td>2014</td>\n",
              "      <td>Labrador Retriever Mix</td>\n",
              "      <td>Brown</td>\n",
              "      <td>60</td>\n",
              "      <td>9.000000</td>\n",
              "      <td>2014.000000</td>\n",
              "      <td>201409.000000</td>\n",
              "      <td>11.000000</td>\n",
              "      <td>2.000000</td>\n",
              "      <td>4.279861</td>\n",
              "      <td>60.000000</td>\n",
              "      <td>9.000000</td>\n",
              "      <td>201409.000000</td>\n",
              "      <td>18.000000</td>\n",
              "      <td>Missing</td>\n",
              "      <td>13</td>\n",
              "      <td>adoptible_likely</td>\n",
              "      <td>low_disposability</td>\n",
              "      <td>rto_adoptible_likely</td>\n",
              "      <td>0</td>\n",
              "      <td>0</td>\n",
              "      <td>1</td>\n",
              "      <td>0</td>\n",
              "      <td>0</td>\n",
              "      <td>0</td>\n",
              "      <td>0</td>\n",
              "      <td>1</td>\n",
              "      <td>0</td>\n",
              "      <td>0</td>\n",
              "      <td>0</td>\n",
              "      <td>0</td>\n",
              "      <td>0</td>\n",
              "      <td>0</td>\n",
              "      <td>0</td>\n",
              "      <td>1</td>\n",
              "      <td>0</td>\n",
              "      <td>1</td>\n",
              "      <td>0</td>\n",
              "      <td>0</td>\n",
              "      <td>0</td>\n",
              "      <td>0</td>\n",
              "      <td>0</td>\n",
              "      <td>0</td>\n",
              "      <td>1</td>\n",
              "      <td>0</td>\n",
              "      <td>0</td>\n",
              "      <td>0</td>\n",
              "      <td>0</td>\n",
              "      <td>0</td>\n",
              "      <td>0</td>\n",
              "      <td>0</td>\n",
              "      <td>1</td>\n",
              "      <td>0</td>\n",
              "      <td>0</td>\n",
              "      <td>0</td>\n",
              "      <td>0</td>\n",
              "      <td>0</td>\n",
              "      <td>0</td>\n",
              "      <td>0</td>\n",
              "      <td>1</td>\n",
              "      <td>0</td>\n",
              "      <td>0</td>\n",
              "      <td>1</td>\n",
              "    </tr>\n",
              "    <tr>\n",
              "      <th>21540</th>\n",
              "      <td>2012</td>\n",
              "      <td>American Staffordshire Terrier Mix</td>\n",
              "      <td>Tan/White</td>\n",
              "      <td>730</td>\n",
              "      <td>6.478087</td>\n",
              "      <td>2014.083798</td>\n",
              "      <td>201414.857846</td>\n",
              "      <td>13.584819</td>\n",
              "      <td>1.150093</td>\n",
              "      <td>16.788162</td>\n",
              "      <td>1004.314253</td>\n",
              "      <td>6.572238</td>\n",
              "      <td>201418.327112</td>\n",
              "      <td>14.593222</td>\n",
              "      <td>Adoption</td>\n",
              "      <td>1</td>\n",
              "      <td>adoptible_likely</td>\n",
              "      <td>low_disposability</td>\n",
              "      <td>rto_adoptible_likely</td>\n",
              "      <td>0</td>\n",
              "      <td>0</td>\n",
              "      <td>1</td>\n",
              "      <td>0</td>\n",
              "      <td>0</td>\n",
              "      <td>0</td>\n",
              "      <td>0</td>\n",
              "      <td>1</td>\n",
              "      <td>0</td>\n",
              "      <td>0</td>\n",
              "      <td>0</td>\n",
              "      <td>0</td>\n",
              "      <td>0</td>\n",
              "      <td>1</td>\n",
              "      <td>0</td>\n",
              "      <td>0</td>\n",
              "      <td>0</td>\n",
              "      <td>0</td>\n",
              "      <td>0</td>\n",
              "      <td>1</td>\n",
              "      <td>0</td>\n",
              "      <td>0</td>\n",
              "      <td>0</td>\n",
              "      <td>0</td>\n",
              "      <td>1</td>\n",
              "      <td>0</td>\n",
              "      <td>0</td>\n",
              "      <td>0</td>\n",
              "      <td>0</td>\n",
              "      <td>0</td>\n",
              "      <td>0</td>\n",
              "      <td>1</td>\n",
              "      <td>0</td>\n",
              "      <td>0</td>\n",
              "      <td>0</td>\n",
              "      <td>0</td>\n",
              "      <td>1</td>\n",
              "      <td>0</td>\n",
              "      <td>0</td>\n",
              "      <td>0</td>\n",
              "      <td>0</td>\n",
              "      <td>0</td>\n",
              "      <td>0</td>\n",
              "      <td>1</td>\n",
              "    </tr>\n",
              "  </tbody>\n",
              "</table>\n",
              "<p>21541 rows × 63 columns</p>\n",
              "</div>\n",
              "      <button class=\"colab-df-convert\" onclick=\"convertToInteractive('df-0fee312e-b924-4ae5-a1ed-b2d5b14b412d')\"\n",
              "              title=\"Convert this dataframe to an interactive table.\"\n",
              "              style=\"display:none;\">\n",
              "        \n",
              "  <svg xmlns=\"http://www.w3.org/2000/svg\" height=\"24px\"viewBox=\"0 0 24 24\"\n",
              "       width=\"24px\">\n",
              "    <path d=\"M0 0h24v24H0V0z\" fill=\"none\"/>\n",
              "    <path d=\"M18.56 5.44l.94 2.06.94-2.06 2.06-.94-2.06-.94-.94-2.06-.94 2.06-2.06.94zm-11 1L8.5 8.5l.94-2.06 2.06-.94-2.06-.94L8.5 2.5l-.94 2.06-2.06.94zm10 10l.94 2.06.94-2.06 2.06-.94-2.06-.94-.94-2.06-.94 2.06-2.06.94z\"/><path d=\"M17.41 7.96l-1.37-1.37c-.4-.4-.92-.59-1.43-.59-.52 0-1.04.2-1.43.59L10.3 9.45l-7.72 7.72c-.78.78-.78 2.05 0 2.83L4 21.41c.39.39.9.59 1.41.59.51 0 1.02-.2 1.41-.59l7.78-7.78 2.81-2.81c.8-.78.8-2.07 0-2.86zM5.41 20L4 18.59l7.72-7.72 1.47 1.35L5.41 20z\"/>\n",
              "  </svg>\n",
              "      </button>\n",
              "      \n",
              "  <style>\n",
              "    .colab-df-container {\n",
              "      display:flex;\n",
              "      flex-wrap:wrap;\n",
              "      gap: 12px;\n",
              "    }\n",
              "\n",
              "    .colab-df-convert {\n",
              "      background-color: #E8F0FE;\n",
              "      border: none;\n",
              "      border-radius: 50%;\n",
              "      cursor: pointer;\n",
              "      display: none;\n",
              "      fill: #1967D2;\n",
              "      height: 32px;\n",
              "      padding: 0 0 0 0;\n",
              "      width: 32px;\n",
              "    }\n",
              "\n",
              "    .colab-df-convert:hover {\n",
              "      background-color: #E2EBFA;\n",
              "      box-shadow: 0px 1px 2px rgba(60, 64, 67, 0.3), 0px 1px 3px 1px rgba(60, 64, 67, 0.15);\n",
              "      fill: #174EA6;\n",
              "    }\n",
              "\n",
              "    [theme=dark] .colab-df-convert {\n",
              "      background-color: #3B4455;\n",
              "      fill: #D2E3FC;\n",
              "    }\n",
              "\n",
              "    [theme=dark] .colab-df-convert:hover {\n",
              "      background-color: #434B5C;\n",
              "      box-shadow: 0px 1px 3px 1px rgba(0, 0, 0, 0.15);\n",
              "      filter: drop-shadow(0px 1px 2px rgba(0, 0, 0, 0.3));\n",
              "      fill: #FFFFFF;\n",
              "    }\n",
              "  </style>\n",
              "\n",
              "      <script>\n",
              "        const buttonEl =\n",
              "          document.querySelector('#df-0fee312e-b924-4ae5-a1ed-b2d5b14b412d button.colab-df-convert');\n",
              "        buttonEl.style.display =\n",
              "          google.colab.kernel.accessAllowed ? 'block' : 'none';\n",
              "\n",
              "        async function convertToInteractive(key) {\n",
              "          const element = document.querySelector('#df-0fee312e-b924-4ae5-a1ed-b2d5b14b412d');\n",
              "          const dataTable =\n",
              "            await google.colab.kernel.invokeFunction('convertToInteractive',\n",
              "                                                     [key], {});\n",
              "          if (!dataTable) return;\n",
              "\n",
              "          const docLinkHtml = 'Like what you see? Visit the ' +\n",
              "            '<a target=\"_blank\" href=https://colab.research.google.com/notebooks/data_table.ipynb>data table notebook</a>'\n",
              "            + ' to learn more about interactive tables.';\n",
              "          element.innerHTML = '';\n",
              "          dataTable['output_type'] = 'display_data';\n",
              "          await google.colab.output.renderOutput(dataTable, element);\n",
              "          const docLink = document.createElement('div');\n",
              "          docLink.innerHTML = docLinkHtml;\n",
              "          element.appendChild(docLink);\n",
              "        }\n",
              "      </script>\n",
              "    </div>\n",
              "  </div>\n",
              "  "
            ],
            "text/plain": [
              "       dob_year                               breed         color  \\\n",
              "0          2007                Spinone Italiano Mix  Yellow/White   \n",
              "1          2007                Spinone Italiano Mix  Yellow/White   \n",
              "2          2007                Spinone Italiano Mix  Yellow/White   \n",
              "3          2004                           Dachshund      Tricolor   \n",
              "4          1997                   Shetland Sheepdog   Brown/White   \n",
              "...         ...                                 ...           ...   \n",
              "21536      2009                      Toy Poodle Mix       Apricot   \n",
              "21537      2012                           Boxer Mix    Fawn/White   \n",
              "21538      2014              Labrador Retriever Mix         Brown   \n",
              "21539      2014              Labrador Retriever Mix         Brown   \n",
              "21540      2012  American Staffordshire Terrier Mix     Tan/White   \n",
              "\n",
              "       age_upon_intake_(days)  intake_month  intake_year  intake_monthyear  \\\n",
              "0                        3650     12.000000  2017.000000     201712.000000   \n",
              "1                        2555     12.000000  2014.000000     201412.000000   \n",
              "2                        2190      3.000000  2014.000000     201403.000000   \n",
              "3                        3650      4.000000  2014.000000     201404.000000   \n",
              "4                        5840     11.000000  2013.000000     201311.000000   \n",
              "...                       ...           ...          ...               ...   \n",
              "21536                    1825      9.000000  2014.000000     201409.000000   \n",
              "21537                     730      9.000000  2014.000000     201409.000000   \n",
              "21538                     730      5.000000  2017.000000     201705.000000   \n",
              "21539                      60      9.000000  2014.000000     201409.000000   \n",
              "21540                     730      6.478087  2014.083798     201414.857846   \n",
              "\n",
              "       intake_hour  intake_number  time_in_shelter_days  \\\n",
              "0        14.000000       1.000000              0.588194   \n",
              "1        10.000000       2.000000              1.259722   \n",
              "2        14.000000       3.000000              1.113889   \n",
              "3        15.000000       1.000000              4.970139   \n",
              "4         9.000000       1.000000              0.119444   \n",
              "...            ...            ...                   ...   \n",
              "21536    11.000000       1.000000              9.070833   \n",
              "21537    14.000000       1.000000              1.142361   \n",
              "21538    11.000000       1.000000              0.143750   \n",
              "21539    11.000000       2.000000              4.279861   \n",
              "21540    13.584819       1.150093             16.788162   \n",
              "\n",
              "       age_upon_outcome_(days)  outcome_month  outcome_monthyear  \\\n",
              "0                  3650.000000      12.000000      201712.000000   \n",
              "1                  2555.000000      12.000000      201412.000000   \n",
              "2                  2190.000000       3.000000      201403.000000   \n",
              "3                  3650.000000       4.000000      201404.000000   \n",
              "4                  5840.000000      11.000000      201311.000000   \n",
              "...                        ...            ...                ...   \n",
              "21536              1825.000000       9.000000      201409.000000   \n",
              "21537               730.000000       9.000000      201409.000000   \n",
              "21538               730.000000       5.000000      201705.000000   \n",
              "21539                60.000000       9.000000      201409.000000   \n",
              "21540              1004.314253       6.572238      201418.327112   \n",
              "\n",
              "       outcome_hour     outcome_type  intake_day        adoptability  \\\n",
              "0          0.000000  Return to Owner           7  adoptible_unlikely   \n",
              "1         16.000000  Return to Owner          19  adoptible_unlikely   \n",
              "2         17.000000  Return to Owner           7  adoptible_unlikely   \n",
              "3         15.000000          Missing           2    adoptible_likely   \n",
              "4         11.000000  Return to Owner          16  adoptible_unlikely   \n",
              "...             ...              ...         ...                 ...   \n",
              "21536     13.000000  Return to Owner          13    adoptible_likely   \n",
              "21537     17.000000             Died          25    adoptible_likely   \n",
              "21538     14.000000  Return to Owner           4    adoptible_likely   \n",
              "21539     18.000000          Missing          13    adoptible_likely   \n",
              "21540     14.593222         Adoption           1    adoptible_likely   \n",
              "\n",
              "           disposability        rto_adoptability  Bird  Cat  Dog  Other  \\\n",
              "0      low_disposability  rto_adoptible_unlikely     0    0    1      0   \n",
              "1      low_disposability  rto_adoptible_unlikely     0    0    1      0   \n",
              "2      low_disposability  rto_adoptible_unlikely     0    0    1      0   \n",
              "3      low_disposability    rto_adoptible_likely     0    0    1      0   \n",
              "4      low_disposability  rto_adoptible_unlikely     0    0    1      0   \n",
              "...                  ...                     ...   ...  ...  ...    ...   \n",
              "21536  low_disposability  rto_adoptible_unlikely     0    0    1      0   \n",
              "21537  low_disposability    rto_adoptible_likely     0    0    1      0   \n",
              "21538  low_disposability    rto_adoptible_likely     0    0    1      0   \n",
              "21539  low_disposability    rto_adoptible_likely     0    0    1      0   \n",
              "21540  low_disposability    rto_adoptible_likely     0    0    1      0   \n",
              "\n",
              "       Aged_intake  Feral_intake  Injured_intake  Normal_intake  \\\n",
              "0                0             0               0              1   \n",
              "1                0             0               0              1   \n",
              "2                0             0               0              1   \n",
              "3                0             0               0              1   \n",
              "4                0             0               1              0   \n",
              "...            ...           ...             ...            ...   \n",
              "21536            0             0               0              1   \n",
              "21537            0             0               0              1   \n",
              "21538            0             0               0              1   \n",
              "21539            0             0               0              1   \n",
              "21540            0             0               0              1   \n",
              "\n",
              "       Nursing_intake  Other_intake  Pregnant_intake  Sick_intake  \\\n",
              "0                   0             0                0            0   \n",
              "1                   0             0                0            0   \n",
              "2                   0             0                0            0   \n",
              "3                   0             0                0            0   \n",
              "4                   0             0                0            0   \n",
              "...               ...           ...              ...          ...   \n",
              "21536               0             0                0            0   \n",
              "21537               0             0                0            0   \n",
              "21538               0             0                0            0   \n",
              "21539               0             0                0            0   \n",
              "21540               0             0                0            0   \n",
              "\n",
              "       Euthanasia Request_intake  Owner Surrender_intake  \\\n",
              "0                              0                       0   \n",
              "1                              0                       0   \n",
              "2                              0                       0   \n",
              "3                              0                       1   \n",
              "4                              0                       0   \n",
              "...                          ...                     ...   \n",
              "21536                          0                       0   \n",
              "21537                          0                       1   \n",
              "21538                          0                       0   \n",
              "21539                          0                       0   \n",
              "21540                          0                       1   \n",
              "\n",
              "       Public Assist_intake  Stray_intake  Wildlife_intake  \\\n",
              "0                         0             1                0   \n",
              "1                         1             0                0   \n",
              "2                         1             0                0   \n",
              "3                         0             0                0   \n",
              "4                         1             0                0   \n",
              "...                     ...           ...              ...   \n",
              "21536                     1             0                0   \n",
              "21537                     0             0                0   \n",
              "21538                     0             1                0   \n",
              "21539                     0             1                0   \n",
              "21540                     0             0                0   \n",
              "\n",
              "       Intact Female_intake  Intact Male_intake  Neutered Male_intake  \\\n",
              "0                         0                   0                     1   \n",
              "1                         0                   0                     1   \n",
              "2                         0                   0                     1   \n",
              "3                         0                   0                     1   \n",
              "4                         0                   0                     1   \n",
              "...                     ...                 ...                   ...   \n",
              "21536                     0                   0                     1   \n",
              "21537                     0                   1                     0   \n",
              "21538                     0                   0                     0   \n",
              "21539                     1                   0                     0   \n",
              "21540                     0                   0                     1   \n",
              "\n",
              "       Spayed Female_intake  Unknown_intake  Friday_intake  Monday_intake  \\\n",
              "0                         0               0              0              0   \n",
              "1                         0               0              1              0   \n",
              "2                         0               0              1              0   \n",
              "3                         0               0              0              0   \n",
              "4                         0               0              0              0   \n",
              "...                     ...             ...            ...            ...   \n",
              "21536                     0               0              0              0   \n",
              "21537                     0               0              0              0   \n",
              "21538                     1               0              0              0   \n",
              "21539                     0               0              0              0   \n",
              "21540                     0               0              0              0   \n",
              "\n",
              "       Saturday_intake  Sunday_intake  Thursday_intake  Tuesday_intake  \\\n",
              "0                    0              0                1               0   \n",
              "1                    0              0                0               0   \n",
              "2                    0              0                0               0   \n",
              "3                    0              0                0               0   \n",
              "4                    1              0                0               0   \n",
              "...                ...            ...              ...             ...   \n",
              "21536                1              0                0               0   \n",
              "21537                0              0                1               0   \n",
              "21538                0              0                1               0   \n",
              "21539                1              0                0               0   \n",
              "21540                1              0                0               0   \n",
              "\n",
              "       Wednesday_intake  Intact Female_outcome  Intact Male_outcome  \\\n",
              "0                     0                      0                    0   \n",
              "1                     0                      0                    0   \n",
              "2                     0                      0                    0   \n",
              "3                     1                      0                    0   \n",
              "4                     0                      0                    0   \n",
              "...                 ...                    ...                  ...   \n",
              "21536                 0                      0                    0   \n",
              "21537                 0                      0                    0   \n",
              "21538                 0                      0                    0   \n",
              "21539                 0                      0                    0   \n",
              "21540                 0                      0                    0   \n",
              "\n",
              "       Neutered Male_outcome  Spayed Female_outcome  Unknown_outcome  \\\n",
              "0                          1                      0                0   \n",
              "1                          1                      0                0   \n",
              "2                          1                      0                0   \n",
              "3                          1                      0                0   \n",
              "4                          1                      0                0   \n",
              "...                      ...                    ...              ...   \n",
              "21536                      1                      0                0   \n",
              "21537                      1                      0                0   \n",
              "21538                      0                      1                0   \n",
              "21539                      0                      1                0   \n",
              "21540                      1                      0                0   \n",
              "\n",
              "       Friday_outcome  Monday_outcome  Saturday_outcome  Sunday_outcome  \\\n",
              "0                   0               0                 0               0   \n",
              "1                   0               0                 1               0   \n",
              "2                   0               0                 1               0   \n",
              "3                   0               1                 0               0   \n",
              "4                   0               0                 1               0   \n",
              "...               ...             ...               ...             ...   \n",
              "21536               0               1                 0               0   \n",
              "21537               1               0                 0               0   \n",
              "21538               0               0                 0               0   \n",
              "21539               0               0                 0               0   \n",
              "21540               0               0                 1               0   \n",
              "\n",
              "       Thursday_outcome  Tuesday_outcome  Wednesday_outcome  \\\n",
              "0                     1                0                  0   \n",
              "1                     0                0                  0   \n",
              "2                     0                0                  0   \n",
              "3                     0                0                  0   \n",
              "4                     0                0                  0   \n",
              "...                 ...              ...                ...   \n",
              "21536                 0                0                  0   \n",
              "21537                 0                0                  0   \n",
              "21538                 1                0                  0   \n",
              "21539                 0                0                  1   \n",
              "21540                 0                0                  0   \n",
              "\n",
              "       pure_breed_category  specific_mix_breed_category  \\\n",
              "0                        0                            0   \n",
              "1                        0                            0   \n",
              "2                        0                            0   \n",
              "3                        1                            0   \n",
              "4                        1                            0   \n",
              "...                    ...                          ...   \n",
              "21536                    0                            0   \n",
              "21537                    0                            0   \n",
              "21538                    0                            0   \n",
              "21539                    0                            0   \n",
              "21540                    0                            0   \n",
              "\n",
              "       unknown_mix_breed_category  \n",
              "0                               1  \n",
              "1                               1  \n",
              "2                               1  \n",
              "3                               0  \n",
              "4                               0  \n",
              "...                           ...  \n",
              "21536                           1  \n",
              "21537                           1  \n",
              "21538                           1  \n",
              "21539                           1  \n",
              "21540                           1  \n",
              "\n",
              "[21541 rows x 63 columns]"
            ]
          },
          "metadata": {},
          "execution_count": 71
        }
      ]
    },
    {
      "cell_type": "code",
      "metadata": {
        "collapsed": true,
        "id": "TDydyPbWqeO5"
      },
      "source": [
        "X_final['adoptability'] = X_final['adoptability'].map({'adoptible_unlikely' : 0, 'adoptible_likely' : 1 })\n",
        "X_final['disposability'] = X_final['disposability'].map({'low_disposability' : 0, 'high_disposability' : 1 })\n",
        "X_final['rto_adoptability'] = X_final['rto_adoptability'].map({'rto_adoptible_unlikely' : 0, 'rto_adoptible_likely' : 1 })"
      ],
      "execution_count": null,
      "outputs": []
    },
    {
      "cell_type": "code",
      "metadata": {
        "collapsed": true,
        "id": "PsubAnjUqeO6"
      },
      "source": [
        "X_final['outcome_type'] = X_final['outcome_type'].map({'Adoption' : 8, 'Transfer': 7, 'Return to Owner' : 6, 'Euthanasia' : 5, 'Died' : 4, 'Missing' : 3, 'Relocate' : 2, 'Rto-Adopt' : 1, 'Disposal' : 0})"
      ],
      "execution_count": null,
      "outputs": []
    },
    {
      "cell_type": "code",
      "metadata": {
        "collapsed": true,
        "id": "eJzItDi-qeO6"
      },
      "source": [
        "y_final = X_final['outcome_type']\n",
        "X_final= X_final.drop(['outcome_type'], axis = 1)"
      ],
      "execution_count": null,
      "outputs": []
    },
    {
      "cell_type": "code",
      "metadata": {
        "collapsed": true,
        "id": "cVOAILV2qeO7"
      },
      "source": [
        "X_final_copy = X_final.copy()"
      ],
      "execution_count": null,
      "outputs": []
    },
    {
      "cell_type": "code",
      "metadata": {
        "collapsed": true,
        "id": "D5Va3xHAqeO8"
      },
      "source": [
        "X_final_copy = X_final_copy.drop(['breed', 'color'], axis = 1)\n",
        "X_final_copy['intake_monthyear'] = X_final_copy.intake_monthyear.astype(int)\n",
        "X_final_copy['outcome_monthyear'] = X_final_copy.outcome_monthyear.astype(int)"
      ],
      "execution_count": null,
      "outputs": []
    },
    {
      "cell_type": "markdown",
      "metadata": {
        "id": "iSTMlasdqeO9"
      },
      "source": [
        "** Dropping breed and color because i already tried to bucket these categorical features with \"adoptablity\",\"disposability\" , \"breed_bucket\"**"
      ]
    },
    {
      "cell_type": "code",
      "metadata": {
        "colab": {
          "base_uri": "https://localhost:8080/"
        },
        "id": "pSCsEgAaqeO9",
        "outputId": "7587a70a-a08d-4782-d27d-1ea711601ae7"
      },
      "source": [
        "print(X_final_copy.shape, y_final.shape)"
      ],
      "execution_count": null,
      "outputs": [
        {
          "output_type": "stream",
          "name": "stdout",
          "text": [
            "(21541, 60) (21541,)\n"
          ]
        }
      ]
    },
    {
      "cell_type": "code",
      "metadata": {
        "colab": {
          "base_uri": "https://localhost:8080/"
        },
        "id": "w8zYtnHqqeO9",
        "outputId": "f2d5884d-09e9-45c3-ef5b-f480f33e4716"
      },
      "source": [
        "print('Missing value in training set:', X_final_copy.isnull().sum().max())"
      ],
      "execution_count": null,
      "outputs": [
        {
          "output_type": "stream",
          "name": "stdout",
          "text": [
            "Missing value in training set: 0\n"
          ]
        }
      ]
    },
    {
      "cell_type": "markdown",
      "metadata": {
        "id": "AanzvesNqeO9"
      },
      "source": [
        "** Converting into train and validation set **"
      ]
    },
    {
      "cell_type": "code",
      "metadata": {
        "colab": {
          "base_uri": "https://localhost:8080/"
        },
        "id": "C3HlHQ-mqeO9",
        "outputId": "389eca84-ca66-485c-f7b3-1a237efadfc8"
      },
      "source": [
        "# Splitting the dataset into the Training set and Test set.\n",
        "X_train, X_val, y_train, y_val = train_test_split(X_final_copy, y_final, test_size = 0.2, random_state = 20)\n",
        "#Split is 80%-20% for testing. Here X_test~Validation set.\n",
        "\n",
        "\n",
        "print(X_train.shape, X_val.shape, y_train.shape, y_val.shape)"
      ],
      "execution_count": null,
      "outputs": [
        {
          "output_type": "stream",
          "name": "stdout",
          "text": [
            "(17232, 60) (4309, 60) (17232,) (4309,)\n"
          ]
        }
      ]
    },
    {
      "cell_type": "code",
      "metadata": {
        "collapsed": true,
        "id": "iyBD1wlRqeO-"
      },
      "source": [
        "X_train['intake_monthyear'] = X_train.intake_monthyear.astype(int)\n",
        "X_val['intake_monthyear'] = X_val.intake_monthyear.astype(int)\n",
        "X_train['outcome_monthyear'] = X_train.outcome_monthyear.astype(int)\n",
        "X_val['outcome_monthyear'] = X_val.outcome_monthyear.astype(int)"
      ],
      "execution_count": null,
      "outputs": []
    },
    {
      "cell_type": "markdown",
      "metadata": {
        "id": "Rp7ofP0OqePI"
      },
      "source": [
        "*italicized text*# TEST Xgboost\n",
        "using XG boost for futher calc as it gave more accurate result before feature encoding"
      ]
    },
    {
      "cell_type": "code",
      "metadata": {
        "colab": {
          "base_uri": "https://localhost:8080/"
        },
        "id": "SZ0gvW0oqePI",
        "outputId": "87b81ab2-3d1e-4e48-c045-227cceccf5f0"
      },
      "source": [
        "model6 = XGBClassifier(learning_rate =0.1, n_estimators= 500,max_depth= 7 ,min_child_weight=1, gamma=3, subsample=0.8, colsample_bytree=0.8,objective= 'multi:softmax',nthread=4, scale_pos_weight=1, seed=1234)\n",
        "model6.fit(X_train, y_train, eval_metric = 'mlogloss')"
      ],
      "execution_count": null,
      "outputs": [
        {
          "output_type": "execute_result",
          "data": {
            "text/plain": [
              "XGBClassifier(colsample_bytree=0.8, gamma=3, max_depth=7, n_estimators=500,\n",
              "              nthread=4, objective='multi:softprob', seed=1234, subsample=0.8)"
            ]
          },
          "metadata": {},
          "execution_count": 81
        }
      ]
    },
    {
      "cell_type": "code",
      "metadata": {
        "collapsed": true,
        "id": "yVwj-OrVqePJ"
      },
      "source": [
        "y_pred2 = model6.predict(X_val)"
      ],
      "execution_count": null,
      "outputs": []
    },
    {
      "cell_type": "code",
      "metadata": {
        "colab": {
          "base_uri": "https://localhost:8080/"
        },
        "id": "RtP-OoP0qePK",
        "outputId": "25f6607e-6fce-40fd-f38d-66fb81de7e17"
      },
      "source": [
        "from sklearn.metrics import f1_score\n",
        "f1_score(y_pred2, y_val.iloc[:] , average = 'micro')\n",
        "#(learning_rate =0.1,n_estimators= 1000,max_depth=5 ,min_child_weight=1, gamma=0, subsample=0.8, colsample_bytree=0.8,objective= 'multi:softmax',nthread=4, scale_pos_weight=1, seed=1234)\n",
        "#dropping color"
      ],
      "execution_count": null,
      "outputs": [
        {
          "output_type": "execute_result",
          "data": {
            "text/plain": [
              "0.6465537247621258"
            ]
          },
          "metadata": {},
          "execution_count": 83
        }
      ]
    },
    {
      "cell_type": "markdown",
      "source": [
        "Improved XGboost score after feature engineering is 64.65"
      ],
      "metadata": {
        "id": "0MGJzfZXKPyc"
      }
    },
    {
      "cell_type": "markdown",
      "metadata": {
        "collapsed": true,
        "id": "rRoxIwsnqePR"
      },
      "source": [
        "Observations:\n",
        "\n",
        "1. Unknown_intake and unknown_outcome are same column hence dropping one, lets drop unknown_intake\n",
        "2. Also dropping intake_year and Thursday_intake as they are poor predictors as expected. "
      ]
    },
    {
      "cell_type": "code",
      "metadata": {
        "collapsed": true,
        "id": "3LeOZz7xqePR"
      },
      "source": [
        "X_train_final = X_train.drop(['Unknown_intake', 'intake_year', 'Thursday_intake'], axis = 1)\n",
        "X_val_final = X_val.drop(['Unknown_intake' , 'intake_year', 'Thursday_intake'], axis = 1)"
      ],
      "execution_count": null,
      "outputs": []
    },
    {
      "cell_type": "code",
      "metadata": {
        "id": "Tmw6OThHqePS",
        "colab": {
          "base_uri": "https://localhost:8080/"
        },
        "outputId": "e961ad53-7fac-4630-d5db-6f870e3db4aa"
      },
      "source": [
        "model8 = XGBClassifier(learning_rate =0.1,n_estimators=500,max_depth= 7 ,min_child_weight=1, gamma=3, subsample=0.8, colsample_bytree=0.8,objective= 'multi:softmax',nthread=4, scale_pos_weight=1, seed=1234)\n",
        "model8.fit(X_train_final, y_train)\n",
        "y_pred4 = model8.predict(X_val_final)\n",
        "predictions = [round(value) for value in y_pred4]\n",
        "accuracy = accuracy_score(y_val, predictions)\n",
        "print(\"Thresh=%.3f, n=%d, Accuracy: %.2f%%\" % (0.0048, X_train_final.shape[1], accuracy*100.0))"
      ],
      "execution_count": null,
      "outputs": [
        {
          "output_type": "stream",
          "name": "stdout",
          "text": [
            "Thresh=0.005, n=57, Accuracy: 64.68%\n"
          ]
        }
      ]
    },
    {
      "cell_type": "markdown",
      "metadata": {
        "id": "WI54T7paqePT"
      },
      "source": [
        "# Predictions :"
      ]
    },
    {
      "cell_type": "markdown",
      "metadata": {
        "id": "JThP_rRtqePT"
      },
      "source": [
        "** Preparation of test set for predictions **"
      ]
    },
    {
      "cell_type": "code",
      "metadata": {
        "collapsed": true,
        "id": "ABMqeUL5qePT"
      },
      "source": [
        "test = pd.read_csv('/content/test.csv')"
      ],
      "execution_count": null,
      "outputs": []
    },
    {
      "cell_type": "code",
      "metadata": {
        "id": "lJDvUpnxqePU",
        "colab": {
          "base_uri": "https://localhost:8080/"
        },
        "outputId": "f3049559-9b0a-451e-8fc9-03ee4cc3052c"
      },
      "source": [
        "test.shape"
      ],
      "execution_count": null,
      "outputs": [
        {
          "output_type": "execute_result",
          "data": {
            "text/plain": [
              "(31869, 36)"
            ]
          },
          "metadata": {},
          "execution_count": 94
        }
      ]
    },
    {
      "cell_type": "code",
      "source": [
        "test.info()"
      ],
      "metadata": {
        "colab": {
          "base_uri": "https://localhost:8080/"
        },
        "id": "fkIyfoznNrbs",
        "outputId": "59701708-8519-4e13-ca1b-67d9c24d7995"
      },
      "execution_count": null,
      "outputs": [
        {
          "output_type": "stream",
          "name": "stdout",
          "text": [
            "<class 'pandas.core.frame.DataFrame'>\n",
            "RangeIndex: 31869 entries, 0 to 31868\n",
            "Data columns (total 26 columns):\n",
            " #   Column                   Non-Null Count  Dtype  \n",
            "---  ------                   --------------  -----  \n",
            " 0   dob_year                 31869 non-null  int64  \n",
            " 1   animal_type              31869 non-null  object \n",
            " 2   breed                    31869 non-null  object \n",
            " 3   color                    31869 non-null  object \n",
            " 4   intake_condition         31869 non-null  object \n",
            " 5   intake_type              31869 non-null  object \n",
            " 6   sex_upon_intake          31869 non-null  object \n",
            " 7   age_upon_intake_(days)   31869 non-null  int64  \n",
            " 8   intake_month             31869 non-null  int64  \n",
            " 9   intake_year              31869 non-null  int64  \n",
            " 10  intake_monthyear         31869 non-null  float64\n",
            " 11  intake_weekday           31869 non-null  object \n",
            " 12  intake_hour              31869 non-null  int64  \n",
            " 13  intake_number            31869 non-null  int64  \n",
            " 14  time_in_shelter_days     31869 non-null  float64\n",
            " 15  sex_upon_outcome         31869 non-null  object \n",
            " 16  age_upon_outcome_(days)  31869 non-null  int64  \n",
            " 17  outcome_month            31869 non-null  int64  \n",
            " 18  outcome_monthyear        31869 non-null  float64\n",
            " 19  outcome_weekday          31869 non-null  object \n",
            " 20  outcome_hour             31869 non-null  int64  \n",
            " 21  intake_day               31869 non-null  int64  \n",
            " 22  breed_bucket             31869 non-null  object \n",
            " 23  adoptability             31869 non-null  object \n",
            " 24  disposability            31869 non-null  object \n",
            " 25  rto_adoptability         31869 non-null  object \n",
            "dtypes: float64(3), int64(10), object(13)\n",
            "memory usage: 6.3+ MB\n"
          ]
        }
      ]
    },
    {
      "cell_type": "code",
      "metadata": {
        "id": "V-u8xyIiqePV",
        "colab": {
          "base_uri": "https://localhost:8080/"
        },
        "outputId": "32e58a53-619f-4cd6-dc35-38666f656f6d"
      },
      "source": [
        "test_final = test.copy()\n",
        "test_final.shape"
      ],
      "execution_count": null,
      "outputs": [
        {
          "output_type": "execute_result",
          "data": {
            "text/plain": [
              "(31869, 26)"
            ]
          },
          "metadata": {},
          "execution_count": 104
        }
      ]
    },
    {
      "cell_type": "code",
      "metadata": {
        "collapsed": true,
        "id": "Rau296f1qePV"
      },
      "source": [
        "test_final = onehotdataframe_final(dfs = test_final)"
      ],
      "execution_count": null,
      "outputs": []
    },
    {
      "cell_type": "code",
      "metadata": {
        "id": "scaDjn2vqePV",
        "colab": {
          "base_uri": "https://localhost:8080/"
        },
        "outputId": "93a0c342-7b82-43c1-ecd8-02203b37c040"
      },
      "source": [
        "test_final.shape"
      ],
      "execution_count": null,
      "outputs": [
        {
          "output_type": "execute_result",
          "data": {
            "text/plain": [
              "(31869, 62)"
            ]
          },
          "metadata": {},
          "execution_count": 106
        }
      ]
    },
    {
      "cell_type": "code",
      "metadata": {
        "collapsed": true,
        "id": "saA4c1F-qePW"
      },
      "source": [
        "test_final['adoptability'] = test_final['adoptability'].map({'adoptible_unlikely' : 0, 'adoptible_likely' : 1 })\n",
        "test_final['disposability'] = test_final['disposability'].map({'low_disposability' : 0, 'high_disposability' : 1 })\n",
        "test_final['rto_adoptability'] = test_final['rto_adoptability'].map({'rto_adoptible_unlikely' : 0, 'rto_adoptible_likely' : 1 })"
      ],
      "execution_count": null,
      "outputs": []
    },
    {
      "cell_type": "code",
      "metadata": {
        "collapsed": true,
        "id": "TapbpMJBqePW"
      },
      "source": [
        "test_final = test_final.drop(['breed'], axis = 1)"
      ],
      "execution_count": null,
      "outputs": []
    },
    {
      "cell_type": "code",
      "metadata": {
        "collapsed": true,
        "id": "SCPDi7vdqePW"
      },
      "source": [
        "test_final = test_final.drop(['color'], axis = 1)"
      ],
      "execution_count": null,
      "outputs": []
    },
    {
      "cell_type": "code",
      "metadata": {
        "collapsed": true,
        "id": "0POe0v3KqePX"
      },
      "source": [
        "#testing\n",
        "test_final = test_final.drop(['Unknown_intake', 'intake_year', 'Thursday_intake'], axis = 1)"
      ],
      "execution_count": null,
      "outputs": []
    },
    {
      "cell_type": "code",
      "metadata": {
        "collapsed": true,
        "id": "RRUhOd7xqePX"
      },
      "source": [
        "#test_final = test_final.drop(['intake_monthyear'], axis = 1)"
      ],
      "execution_count": null,
      "outputs": []
    },
    {
      "cell_type": "code",
      "metadata": {
        "id": "gdC5Bq9wqePX",
        "colab": {
          "base_uri": "https://localhost:8080/"
        },
        "outputId": "f7463e6a-a9e0-425f-c155-15f22b9fd843"
      },
      "source": [
        "test_final.shape"
      ],
      "execution_count": null,
      "outputs": [
        {
          "output_type": "execute_result",
          "data": {
            "text/plain": [
              "(31869, 57)"
            ]
          },
          "metadata": {},
          "execution_count": 112
        }
      ]
    },
    {
      "cell_type": "markdown",
      "metadata": {
        "id": "g5-6QG4QqePY"
      },
      "source": [
        "** Below are iterative models that I used to check the performance of my different models on out of time validation set(i.e. test set) and select models accordingly **"
      ]
    },
    {
      "cell_type": "code",
      "metadata": {
        "collapsed": true,
        "id": "rj97WjC-qePY"
      },
      "source": [
        "#Testing subject to changes\n",
        "X_train_final_check = X_train_final.drop(['intake_monthyear'], axis = 1)\n",
        "X_val_final_check = X_val_final.drop(['intake_monthyear'], axis = 1)\n"
      ],
      "execution_count": null,
      "outputs": []
    },
    {
      "cell_type": "code",
      "metadata": {
        "id": "qSE8InmxqePY",
        "colab": {
          "base_uri": "https://localhost:8080/",
          "height": 271
        },
        "outputId": "1812e13f-dc8c-4806-cddc-d5de426d45b2"
      },
      "source": [
        "#Including intake_monthyear\n",
        "model5 = lgb(task = 'train',boosting_type =  'gbdt',  objective = 'multiclass',num_class = 9,metric = 'multi_logloss',learning_rate =  0.0026, max_depth=  -1, num_leaves =  64, feature_fraction =  0.4, bagging_fraction =  0.6, bagging_freq =  17, n_estimators = 2500, random_state =1234,min_split_gain = 0, reg_alpha = 0, reg_lambda = 0 ) \n",
        "model5.fit(X_train_final, y_train)\n",
        "y_pred4 = model5.predict(X_val_final)\n",
        "predictions = [round(value) for value in y_pred4]\n",
        "accuracy = accuracy_score(y_val, predictions)\n",
        "f_score = f1_score(y_pred4, y_val.iloc[:] , average = 'micro')\n",
        "print(\"Thresh=%.3f, n=%d, Accuracy: %.2f%%\" % (0.0048, X_train_final.shape[1], accuracy*100.0))\n",
        "print(\"f1 -score : \",f_score )"
      ],
      "execution_count": null,
      "outputs": [
        {
          "output_type": "error",
          "ename": "TypeError",
          "evalue": "ignored",
          "traceback": [
            "\u001b[0;31m---------------------------------------------------------------------------\u001b[0m",
            "\u001b[0;31mTypeError\u001b[0m                                 Traceback (most recent call last)",
            "\u001b[0;32m<ipython-input-114-27984b26c405>\u001b[0m in \u001b[0;36m<module>\u001b[0;34m()\u001b[0m\n\u001b[1;32m      1\u001b[0m \u001b[0;31m#Including intake_monthyear\u001b[0m\u001b[0;34m\u001b[0m\u001b[0;34m\u001b[0m\u001b[0;34m\u001b[0m\u001b[0m\n\u001b[0;32m----> 2\u001b[0;31m \u001b[0mmodel5\u001b[0m \u001b[0;34m=\u001b[0m \u001b[0mlgb\u001b[0m\u001b[0;34m(\u001b[0m\u001b[0mtask\u001b[0m \u001b[0;34m=\u001b[0m \u001b[0;34m'train'\u001b[0m\u001b[0;34m,\u001b[0m\u001b[0mboosting_type\u001b[0m \u001b[0;34m=\u001b[0m  \u001b[0;34m'gbdt'\u001b[0m\u001b[0;34m,\u001b[0m  \u001b[0mobjective\u001b[0m \u001b[0;34m=\u001b[0m \u001b[0;34m'multiclass'\u001b[0m\u001b[0;34m,\u001b[0m\u001b[0mnum_class\u001b[0m \u001b[0;34m=\u001b[0m \u001b[0;36m9\u001b[0m\u001b[0;34m,\u001b[0m\u001b[0mmetric\u001b[0m \u001b[0;34m=\u001b[0m \u001b[0;34m'multi_logloss'\u001b[0m\u001b[0;34m,\u001b[0m\u001b[0mlearning_rate\u001b[0m \u001b[0;34m=\u001b[0m  \u001b[0;36m0.0026\u001b[0m\u001b[0;34m,\u001b[0m \u001b[0mmax_depth\u001b[0m\u001b[0;34m=\u001b[0m  \u001b[0;34m-\u001b[0m\u001b[0;36m1\u001b[0m\u001b[0;34m,\u001b[0m \u001b[0mnum_leaves\u001b[0m \u001b[0;34m=\u001b[0m  \u001b[0;36m64\u001b[0m\u001b[0;34m,\u001b[0m \u001b[0mfeature_fraction\u001b[0m \u001b[0;34m=\u001b[0m  \u001b[0;36m0.4\u001b[0m\u001b[0;34m,\u001b[0m \u001b[0mbagging_fraction\u001b[0m \u001b[0;34m=\u001b[0m  \u001b[0;36m0.6\u001b[0m\u001b[0;34m,\u001b[0m \u001b[0mbagging_freq\u001b[0m \u001b[0;34m=\u001b[0m  \u001b[0;36m17\u001b[0m\u001b[0;34m,\u001b[0m \u001b[0mn_estimators\u001b[0m \u001b[0;34m=\u001b[0m \u001b[0;36m2500\u001b[0m\u001b[0;34m,\u001b[0m \u001b[0mrandom_state\u001b[0m \u001b[0;34m=\u001b[0m\u001b[0;36m1234\u001b[0m\u001b[0;34m,\u001b[0m\u001b[0mmin_split_gain\u001b[0m \u001b[0;34m=\u001b[0m \u001b[0;36m0\u001b[0m\u001b[0;34m,\u001b[0m \u001b[0mreg_alpha\u001b[0m \u001b[0;34m=\u001b[0m \u001b[0;36m0\u001b[0m\u001b[0;34m,\u001b[0m \u001b[0mreg_lambda\u001b[0m \u001b[0;34m=\u001b[0m \u001b[0;36m0\u001b[0m \u001b[0;34m)\u001b[0m\u001b[0;34m\u001b[0m\u001b[0;34m\u001b[0m\u001b[0m\n\u001b[0m\u001b[1;32m      3\u001b[0m \u001b[0mmodel5\u001b[0m\u001b[0;34m.\u001b[0m\u001b[0mfit\u001b[0m\u001b[0;34m(\u001b[0m\u001b[0mX_train_final\u001b[0m\u001b[0;34m,\u001b[0m \u001b[0my_train\u001b[0m\u001b[0;34m)\u001b[0m\u001b[0;34m\u001b[0m\u001b[0;34m\u001b[0m\u001b[0m\n\u001b[1;32m      4\u001b[0m \u001b[0my_pred4\u001b[0m \u001b[0;34m=\u001b[0m \u001b[0mmodel5\u001b[0m\u001b[0;34m.\u001b[0m\u001b[0mpredict\u001b[0m\u001b[0;34m(\u001b[0m\u001b[0mX_val_final\u001b[0m\u001b[0;34m)\u001b[0m\u001b[0;34m\u001b[0m\u001b[0;34m\u001b[0m\u001b[0m\n\u001b[1;32m      5\u001b[0m \u001b[0mpredictions\u001b[0m \u001b[0;34m=\u001b[0m \u001b[0;34m[\u001b[0m\u001b[0mround\u001b[0m\u001b[0;34m(\u001b[0m\u001b[0mvalue\u001b[0m\u001b[0;34m)\u001b[0m \u001b[0;32mfor\u001b[0m \u001b[0mvalue\u001b[0m \u001b[0;32min\u001b[0m \u001b[0my_pred4\u001b[0m\u001b[0;34m]\u001b[0m\u001b[0;34m\u001b[0m\u001b[0;34m\u001b[0m\u001b[0m\n",
            "\u001b[0;31mTypeError\u001b[0m: 'module' object is not callable"
          ]
        }
      ]
    },
    {
      "cell_type": "code",
      "metadata": {
        "id": "043lCREOqePZ",
        "colab": {
          "base_uri": "https://localhost:8080/",
          "height": 271
        },
        "outputId": "b4ca708b-38d4-4045-c193-616940124ea5"
      },
      "source": [
        "model5 = lgb(task = 'train',boosting_type =  'gbdt',  objective = 'multiclass',num_class = 9,metric = 'multi_logloss',learning_rate =  0.0026, max_depth=  -1, num_leaves =  64, feature_fraction =  0.4, bagging_fraction =  0.6, bagging_freq =  17, n_estimators = 2500, random_state =1234,min_split_gain = 0, reg_alpha = 0, reg_lambda = 0 ) \n",
        "model5.fit(X_train_final_check, y_train)\n",
        "y_pred4 = model5.predict(X_val_final_check)\n",
        "predictions = [round(value) for value in y_pred4]\n",
        "accuracy = accuracy_score(y_val, predictions)\n",
        "f_score = f1_score(y_pred4, y_val.iloc[:] , average = 'micro')\n",
        "print(\"Thresh=%.3f, n=%d, Accuracy: %.2f%%\" % (0.0048, X_train_final_check.shape[1], accuracy*100.0))\n",
        "print(\"f1 -score : \",f_score )"
      ],
      "execution_count": null,
      "outputs": [
        {
          "output_type": "error",
          "ename": "TypeError",
          "evalue": "ignored",
          "traceback": [
            "\u001b[0;31m---------------------------------------------------------------------------\u001b[0m",
            "\u001b[0;31mTypeError\u001b[0m                                 Traceback (most recent call last)",
            "\u001b[0;32m<ipython-input-115-0a049696a0f1>\u001b[0m in \u001b[0;36m<module>\u001b[0;34m()\u001b[0m\n\u001b[0;32m----> 1\u001b[0;31m \u001b[0mmodel5\u001b[0m \u001b[0;34m=\u001b[0m \u001b[0mlgb\u001b[0m\u001b[0;34m(\u001b[0m\u001b[0mtask\u001b[0m \u001b[0;34m=\u001b[0m \u001b[0;34m'train'\u001b[0m\u001b[0;34m,\u001b[0m\u001b[0mboosting_type\u001b[0m \u001b[0;34m=\u001b[0m  \u001b[0;34m'gbdt'\u001b[0m\u001b[0;34m,\u001b[0m  \u001b[0mobjective\u001b[0m \u001b[0;34m=\u001b[0m \u001b[0;34m'multiclass'\u001b[0m\u001b[0;34m,\u001b[0m\u001b[0mnum_class\u001b[0m \u001b[0;34m=\u001b[0m \u001b[0;36m9\u001b[0m\u001b[0;34m,\u001b[0m\u001b[0mmetric\u001b[0m \u001b[0;34m=\u001b[0m \u001b[0;34m'multi_logloss'\u001b[0m\u001b[0;34m,\u001b[0m\u001b[0mlearning_rate\u001b[0m \u001b[0;34m=\u001b[0m  \u001b[0;36m0.0026\u001b[0m\u001b[0;34m,\u001b[0m \u001b[0mmax_depth\u001b[0m\u001b[0;34m=\u001b[0m  \u001b[0;34m-\u001b[0m\u001b[0;36m1\u001b[0m\u001b[0;34m,\u001b[0m \u001b[0mnum_leaves\u001b[0m \u001b[0;34m=\u001b[0m  \u001b[0;36m64\u001b[0m\u001b[0;34m,\u001b[0m \u001b[0mfeature_fraction\u001b[0m \u001b[0;34m=\u001b[0m  \u001b[0;36m0.4\u001b[0m\u001b[0;34m,\u001b[0m \u001b[0mbagging_fraction\u001b[0m \u001b[0;34m=\u001b[0m  \u001b[0;36m0.6\u001b[0m\u001b[0;34m,\u001b[0m \u001b[0mbagging_freq\u001b[0m \u001b[0;34m=\u001b[0m  \u001b[0;36m17\u001b[0m\u001b[0;34m,\u001b[0m \u001b[0mn_estimators\u001b[0m \u001b[0;34m=\u001b[0m \u001b[0;36m2500\u001b[0m\u001b[0;34m,\u001b[0m \u001b[0mrandom_state\u001b[0m \u001b[0;34m=\u001b[0m\u001b[0;36m1234\u001b[0m\u001b[0;34m,\u001b[0m\u001b[0mmin_split_gain\u001b[0m \u001b[0;34m=\u001b[0m \u001b[0;36m0\u001b[0m\u001b[0;34m,\u001b[0m \u001b[0mreg_alpha\u001b[0m \u001b[0;34m=\u001b[0m \u001b[0;36m0\u001b[0m\u001b[0;34m,\u001b[0m \u001b[0mreg_lambda\u001b[0m \u001b[0;34m=\u001b[0m \u001b[0;36m0\u001b[0m \u001b[0;34m)\u001b[0m\u001b[0;34m\u001b[0m\u001b[0;34m\u001b[0m\u001b[0m\n\u001b[0m\u001b[1;32m      2\u001b[0m \u001b[0mmodel5\u001b[0m\u001b[0;34m.\u001b[0m\u001b[0mfit\u001b[0m\u001b[0;34m(\u001b[0m\u001b[0mX_train_final_check\u001b[0m\u001b[0;34m,\u001b[0m \u001b[0my_train\u001b[0m\u001b[0;34m)\u001b[0m\u001b[0;34m\u001b[0m\u001b[0;34m\u001b[0m\u001b[0m\n\u001b[1;32m      3\u001b[0m \u001b[0my_pred4\u001b[0m \u001b[0;34m=\u001b[0m \u001b[0mmodel5\u001b[0m\u001b[0;34m.\u001b[0m\u001b[0mpredict\u001b[0m\u001b[0;34m(\u001b[0m\u001b[0mX_val_final_check\u001b[0m\u001b[0;34m)\u001b[0m\u001b[0;34m\u001b[0m\u001b[0;34m\u001b[0m\u001b[0m\n\u001b[1;32m      4\u001b[0m \u001b[0mpredictions\u001b[0m \u001b[0;34m=\u001b[0m \u001b[0;34m[\u001b[0m\u001b[0mround\u001b[0m\u001b[0;34m(\u001b[0m\u001b[0mvalue\u001b[0m\u001b[0;34m)\u001b[0m \u001b[0;32mfor\u001b[0m \u001b[0mvalue\u001b[0m \u001b[0;32min\u001b[0m \u001b[0my_pred4\u001b[0m\u001b[0;34m]\u001b[0m\u001b[0;34m\u001b[0m\u001b[0;34m\u001b[0m\u001b[0m\n\u001b[1;32m      5\u001b[0m \u001b[0maccuracy\u001b[0m \u001b[0;34m=\u001b[0m \u001b[0maccuracy_score\u001b[0m\u001b[0;34m(\u001b[0m\u001b[0my_val\u001b[0m\u001b[0;34m,\u001b[0m \u001b[0mpredictions\u001b[0m\u001b[0;34m)\u001b[0m\u001b[0;34m\u001b[0m\u001b[0;34m\u001b[0m\u001b[0m\n",
            "\u001b[0;31mTypeError\u001b[0m: 'module' object is not callable"
          ]
        }
      ]
    },
    {
      "cell_type": "code",
      "metadata": {
        "id": "KZBVEbKsqePZ",
        "colab": {
          "base_uri": "https://localhost:8080/"
        },
        "outputId": "8b5788af-5761-4856-e3f4-02c94469d4a7"
      },
      "source": [
        "print('Missing value in training set:', X_train_final_check.isnull().sum().max())"
      ],
      "execution_count": null,
      "outputs": [
        {
          "output_type": "stream",
          "name": "stdout",
          "text": [
            "Missing value in training set: 0\n"
          ]
        }
      ]
    },
    {
      "cell_type": "code",
      "metadata": {
        "id": "MndRFaLPqePZ",
        "colab": {
          "base_uri": "https://localhost:8080/"
        },
        "outputId": "923e6fce-278b-4644-a9d4-d36084282346"
      },
      "source": [
        "#Excluding intake_monthyear\n",
        "rf =  RandomForestClassifier(n_estimators= 1000 , criterion = 'entropy' , random_state = 0, bootstrap = True)\n",
        "rf.fit(X_train_final_check, y_train)\n",
        "y_pred4 = rf.predict(X_val_final_check)\n",
        "predictions = [round(value) for value in y_pred4]\n",
        "accuracy = accuracy_score(y_val, predictions)\n",
        "f_score = f1_score(y_pred4, y_val.iloc[:] , average = 'micro')\n",
        "print(\"Thresh=%.3f, n=%d, Accuracy: %.2f%%\" % (0.0048, X_train_final.shape[1], accuracy*100.0))\n",
        "print(\"f1 -score : \",f_score )"
      ],
      "execution_count": null,
      "outputs": [
        {
          "output_type": "stream",
          "name": "stdout",
          "text": [
            "Thresh=0.005, n=57, Accuracy: 62.68%\n",
            "f1 -score :  0.6268275702019029\n"
          ]
        }
      ]
    },
    {
      "cell_type": "code",
      "metadata": {
        "id": "iF6ykWXaqePZ",
        "colab": {
          "base_uri": "https://localhost:8080/"
        },
        "outputId": "dd2b4309-4d96-4679-f133-16547f8ed6d6"
      },
      "source": [
        "#Including intake_monthyear\n",
        "xgb = XGBClassifier(learning_rate =0.1, n_estimators= 500,max_depth= 7 ,min_child_weight=1, gamma=3, subsample=0.8, colsample_bytree=0.8,objective= 'multi:softmax',nthread=4, scale_pos_weight=99, seed=1234)\n",
        "xgb.fit(X_train_final, y_train, eval_metric = 'mlogloss')\n",
        "y_pred4 = xgb.predict(X_val_final)\n",
        "predictions = [round(value) for value in y_pred4]\n",
        "accuracy = accuracy_score(y_val, predictions)\n",
        "f_score = f1_score(y_pred4, y_val.iloc[:] , average = 'micro')\n",
        "print(\"Thresh=%.3f, n=%d, Accuracy: %.2f%%\" % (0.0048, X_train_final.shape[1], accuracy*100.0))\n",
        "print(\"f1 -score : \",f_score )"
      ],
      "execution_count": null,
      "outputs": [
        {
          "output_type": "stream",
          "name": "stdout",
          "text": [
            "Thresh=0.005, n=57, Accuracy: 64.68%\n",
            "f1 -score :  0.6467857971687166\n"
          ]
        }
      ]
    },
    {
      "cell_type": "markdown",
      "metadata": {
        "id": "x5499VgBqePa"
      },
      "source": [
        "Hence we will keep the intake_monthyear variable"
      ]
    },
    {
      "cell_type": "code",
      "metadata": {
        "id": "wSUDbPtEqePa",
        "colab": {
          "base_uri": "https://localhost:8080/",
          "height": 236
        },
        "outputId": "f6a90118-f877-4668-bbde-fe852b2c8e9b"
      },
      "source": [
        "estimators =[]\n",
        "model1= model5\n",
        "estimators.append(('lightgbm', model1))\n",
        "model2=rf\n",
        "estimators.append(('random_forest', model2))\n",
        "model3=xgb\n",
        "estimators.append(('xgboost', model3))\n",
        "'''Ensembling now'''\n",
        "ensemble = VotingClassifier(estimators, voting = 'soft', weights = [2,1,2]) \n",
        "ensemble.fit(X_train_final, y_train)"
      ],
      "execution_count": null,
      "outputs": [
        {
          "output_type": "error",
          "ename": "NameError",
          "evalue": "ignored",
          "traceback": [
            "\u001b[0;31m---------------------------------------------------------------------------\u001b[0m",
            "\u001b[0;31mNameError\u001b[0m                                 Traceback (most recent call last)",
            "\u001b[0;32m<ipython-input-119-6a52c5ccce15>\u001b[0m in \u001b[0;36m<module>\u001b[0;34m()\u001b[0m\n\u001b[1;32m      1\u001b[0m \u001b[0mestimators\u001b[0m \u001b[0;34m=\u001b[0m\u001b[0;34m[\u001b[0m\u001b[0;34m]\u001b[0m\u001b[0;34m\u001b[0m\u001b[0;34m\u001b[0m\u001b[0m\n\u001b[0;32m----> 2\u001b[0;31m \u001b[0mmodel1\u001b[0m\u001b[0;34m=\u001b[0m \u001b[0mmodel5\u001b[0m\u001b[0;34m\u001b[0m\u001b[0;34m\u001b[0m\u001b[0m\n\u001b[0m\u001b[1;32m      3\u001b[0m \u001b[0mestimators\u001b[0m\u001b[0;34m.\u001b[0m\u001b[0mappend\u001b[0m\u001b[0;34m(\u001b[0m\u001b[0;34m(\u001b[0m\u001b[0;34m'lightgbm'\u001b[0m\u001b[0;34m,\u001b[0m \u001b[0mmodel1\u001b[0m\u001b[0;34m)\u001b[0m\u001b[0;34m)\u001b[0m\u001b[0;34m\u001b[0m\u001b[0;34m\u001b[0m\u001b[0m\n\u001b[1;32m      4\u001b[0m \u001b[0mmodel2\u001b[0m\u001b[0;34m=\u001b[0m\u001b[0mrf\u001b[0m\u001b[0;34m\u001b[0m\u001b[0;34m\u001b[0m\u001b[0m\n\u001b[1;32m      5\u001b[0m \u001b[0mestimators\u001b[0m\u001b[0;34m.\u001b[0m\u001b[0mappend\u001b[0m\u001b[0;34m(\u001b[0m\u001b[0;34m(\u001b[0m\u001b[0;34m'random_forest'\u001b[0m\u001b[0;34m,\u001b[0m \u001b[0mmodel2\u001b[0m\u001b[0;34m)\u001b[0m\u001b[0;34m)\u001b[0m\u001b[0;34m\u001b[0m\u001b[0;34m\u001b[0m\u001b[0m\n",
            "\u001b[0;31mNameError\u001b[0m: name 'model5' is not defined"
          ]
        }
      ]
    },
    {
      "cell_type": "code",
      "metadata": {
        "id": "OTm8zoSnqePa",
        "colab": {
          "base_uri": "https://localhost:8080/",
          "height": 236
        },
        "outputId": "91b782a6-39e2-4bd1-fc8b-ac5b83256cb7"
      },
      "source": [
        "y_pred_ensemble = ensemble.predict(X_val_final)\n",
        "predictions = [round(value) for value in y_pred_ensemble]\n",
        "accuracy = accuracy_score(y_val, predictions)\n",
        "f_score = f1_score(y_pred_ensemble, y_val.iloc[:] , average = 'micro')\n",
        "print(\"Thresh=%.3f, n=%d, Accuracy: %.2f%%\" % (0.0048, X_train_final.shape[1], accuracy*100.0))\n",
        "print(\"f1 -score : \",f_score )"
      ],
      "execution_count": null,
      "outputs": [
        {
          "output_type": "error",
          "ename": "NameError",
          "evalue": "ignored",
          "traceback": [
            "\u001b[0;31m---------------------------------------------------------------------------\u001b[0m",
            "\u001b[0;31mNameError\u001b[0m                                 Traceback (most recent call last)",
            "\u001b[0;32m<ipython-input-120-c2f38e91a869>\u001b[0m in \u001b[0;36m<module>\u001b[0;34m()\u001b[0m\n\u001b[0;32m----> 1\u001b[0;31m \u001b[0my_pred_ensemble\u001b[0m \u001b[0;34m=\u001b[0m \u001b[0mensemble\u001b[0m\u001b[0;34m.\u001b[0m\u001b[0mpredict\u001b[0m\u001b[0;34m(\u001b[0m\u001b[0mX_val_final\u001b[0m\u001b[0;34m)\u001b[0m\u001b[0;34m\u001b[0m\u001b[0;34m\u001b[0m\u001b[0m\n\u001b[0m\u001b[1;32m      2\u001b[0m \u001b[0mpredictions\u001b[0m \u001b[0;34m=\u001b[0m \u001b[0;34m[\u001b[0m\u001b[0mround\u001b[0m\u001b[0;34m(\u001b[0m\u001b[0mvalue\u001b[0m\u001b[0;34m)\u001b[0m \u001b[0;32mfor\u001b[0m \u001b[0mvalue\u001b[0m \u001b[0;32min\u001b[0m \u001b[0my_pred_ensemble\u001b[0m\u001b[0;34m]\u001b[0m\u001b[0;34m\u001b[0m\u001b[0;34m\u001b[0m\u001b[0m\n\u001b[1;32m      3\u001b[0m \u001b[0maccuracy\u001b[0m \u001b[0;34m=\u001b[0m \u001b[0maccuracy_score\u001b[0m\u001b[0;34m(\u001b[0m\u001b[0my_val\u001b[0m\u001b[0;34m,\u001b[0m \u001b[0mpredictions\u001b[0m\u001b[0;34m)\u001b[0m\u001b[0;34m\u001b[0m\u001b[0;34m\u001b[0m\u001b[0m\n\u001b[1;32m      4\u001b[0m \u001b[0mf_score\u001b[0m \u001b[0;34m=\u001b[0m \u001b[0mf1_score\u001b[0m\u001b[0;34m(\u001b[0m\u001b[0my_pred_ensemble\u001b[0m\u001b[0;34m,\u001b[0m \u001b[0my_val\u001b[0m\u001b[0;34m.\u001b[0m\u001b[0miloc\u001b[0m\u001b[0;34m[\u001b[0m\u001b[0;34m:\u001b[0m\u001b[0;34m]\u001b[0m \u001b[0;34m,\u001b[0m \u001b[0maverage\u001b[0m \u001b[0;34m=\u001b[0m \u001b[0;34m'micro'\u001b[0m\u001b[0;34m)\u001b[0m\u001b[0;34m\u001b[0m\u001b[0;34m\u001b[0m\u001b[0m\n\u001b[1;32m      5\u001b[0m \u001b[0mprint\u001b[0m\u001b[0;34m(\u001b[0m\u001b[0;34m\"Thresh=%.3f, n=%d, Accuracy: %.2f%%\"\u001b[0m \u001b[0;34m%\u001b[0m \u001b[0;34m(\u001b[0m\u001b[0;36m0.0048\u001b[0m\u001b[0;34m,\u001b[0m \u001b[0mX_train_final\u001b[0m\u001b[0;34m.\u001b[0m\u001b[0mshape\u001b[0m\u001b[0;34m[\u001b[0m\u001b[0;36m1\u001b[0m\u001b[0;34m]\u001b[0m\u001b[0;34m,\u001b[0m \u001b[0maccuracy\u001b[0m\u001b[0;34m*\u001b[0m\u001b[0;36m100.0\u001b[0m\u001b[0;34m)\u001b[0m\u001b[0;34m)\u001b[0m\u001b[0;34m\u001b[0m\u001b[0;34m\u001b[0m\u001b[0m\n",
            "\u001b[0;31mNameError\u001b[0m: name 'ensemble' is not defined"
          ]
        }
      ]
    },
    {
      "cell_type": "code",
      "metadata": {
        "id": "QQyAi8TXqePb",
        "colab": {
          "base_uri": "https://localhost:8080/",
          "height": 184
        },
        "outputId": "8b6fb6ae-e35b-4d0e-abc2-0557074d12a8"
      },
      "source": [
        "from sklearn.metrics import confusion_matrix\n",
        "cm = confusion_matrix(y_pred_ensemble, y_val)"
      ],
      "execution_count": null,
      "outputs": [
        {
          "output_type": "error",
          "ename": "NameError",
          "evalue": "ignored",
          "traceback": [
            "\u001b[0;31m---------------------------------------------------------------------------\u001b[0m",
            "\u001b[0;31mNameError\u001b[0m                                 Traceback (most recent call last)",
            "\u001b[0;32m<ipython-input-121-176c9e78c358>\u001b[0m in \u001b[0;36m<module>\u001b[0;34m()\u001b[0m\n\u001b[1;32m      1\u001b[0m \u001b[0;32mfrom\u001b[0m \u001b[0msklearn\u001b[0m\u001b[0;34m.\u001b[0m\u001b[0mmetrics\u001b[0m \u001b[0;32mimport\u001b[0m \u001b[0mconfusion_matrix\u001b[0m\u001b[0;34m\u001b[0m\u001b[0;34m\u001b[0m\u001b[0m\n\u001b[0;32m----> 2\u001b[0;31m \u001b[0mcm\u001b[0m \u001b[0;34m=\u001b[0m \u001b[0mconfusion_matrix\u001b[0m\u001b[0;34m(\u001b[0m\u001b[0my_pred_ensemble\u001b[0m\u001b[0;34m,\u001b[0m \u001b[0my_val\u001b[0m\u001b[0;34m)\u001b[0m\u001b[0;34m\u001b[0m\u001b[0;34m\u001b[0m\u001b[0m\n\u001b[0m",
            "\u001b[0;31mNameError\u001b[0m: name 'y_pred_ensemble' is not defined"
          ]
        }
      ]
    },
    {
      "cell_type": "code",
      "metadata": {
        "id": "1-xOzyQkqePb"
      },
      "source": [
        "from sklearn.metrics import roc_auc_score\n",
        "sns.heatmap(cm,annot=True,fmt=\"d\", cbar = False)\n",
        "print(classification_report(y_pred_ensemble, y_val))"
      ],
      "execution_count": null,
      "outputs": []
    },
    {
      "cell_type": "code",
      "metadata": {
        "collapsed": true,
        "id": "MBcDRuYHqePb"
      },
      "source": [
        "final_predict1 = model8.predict(test_final)"
      ],
      "execution_count": null,
      "outputs": []
    },
    {
      "cell_type": "code",
      "source": [
        "f_score = f1_score(final_predict1, test_final.iloc[:] , average = 'micro')\n",
        "print(\"f1 -score : \",f_score )"
      ],
      "metadata": {
        "colab": {
          "base_uri": "https://localhost:8080/",
          "height": 329
        },
        "id": "wecDITzES7qq",
        "outputId": "5378e8f7-b58d-4ce5-d0be-08832fb1c5e0"
      },
      "execution_count": null,
      "outputs": [
        {
          "output_type": "error",
          "ename": "ValueError",
          "evalue": "ignored",
          "traceback": [
            "\u001b[0;31m---------------------------------------------------------------------------\u001b[0m",
            "\u001b[0;31mValueError\u001b[0m                                Traceback (most recent call last)",
            "\u001b[0;32m<ipython-input-127-1d424f2a88ec>\u001b[0m in \u001b[0;36m<module>\u001b[0;34m()\u001b[0m\n\u001b[0;32m----> 1\u001b[0;31m \u001b[0mf_score\u001b[0m \u001b[0;34m=\u001b[0m \u001b[0mf1_score\u001b[0m\u001b[0;34m(\u001b[0m\u001b[0mfinal_predict1\u001b[0m\u001b[0;34m,\u001b[0m \u001b[0mtest_final\u001b[0m\u001b[0;34m,\u001b[0m \u001b[0maverage\u001b[0m \u001b[0;34m=\u001b[0m \u001b[0;34m'micro'\u001b[0m\u001b[0;34m)\u001b[0m\u001b[0;34m\u001b[0m\u001b[0;34m\u001b[0m\u001b[0m\n\u001b[0m\u001b[1;32m      2\u001b[0m \u001b[0mprint\u001b[0m\u001b[0;34m(\u001b[0m\u001b[0;34m\"f1 -score : \"\u001b[0m\u001b[0;34m,\u001b[0m\u001b[0mf_score\u001b[0m \u001b[0;34m)\u001b[0m\u001b[0;34m\u001b[0m\u001b[0;34m\u001b[0m\u001b[0m\n",
            "\u001b[0;32m/usr/local/lib/python3.7/dist-packages/sklearn/metrics/_classification.py\u001b[0m in \u001b[0;36mf1_score\u001b[0;34m(y_true, y_pred, labels, pos_label, average, sample_weight, zero_division)\u001b[0m\n\u001b[1;32m   1119\u001b[0m         \u001b[0maverage\u001b[0m\u001b[0;34m=\u001b[0m\u001b[0maverage\u001b[0m\u001b[0;34m,\u001b[0m\u001b[0;34m\u001b[0m\u001b[0;34m\u001b[0m\u001b[0m\n\u001b[1;32m   1120\u001b[0m         \u001b[0msample_weight\u001b[0m\u001b[0;34m=\u001b[0m\u001b[0msample_weight\u001b[0m\u001b[0;34m,\u001b[0m\u001b[0;34m\u001b[0m\u001b[0;34m\u001b[0m\u001b[0m\n\u001b[0;32m-> 1121\u001b[0;31m         \u001b[0mzero_division\u001b[0m\u001b[0;34m=\u001b[0m\u001b[0mzero_division\u001b[0m\u001b[0;34m,\u001b[0m\u001b[0;34m\u001b[0m\u001b[0;34m\u001b[0m\u001b[0m\n\u001b[0m\u001b[1;32m   1122\u001b[0m     )\n\u001b[1;32m   1123\u001b[0m \u001b[0;34m\u001b[0m\u001b[0m\n",
            "\u001b[0;32m/usr/local/lib/python3.7/dist-packages/sklearn/metrics/_classification.py\u001b[0m in \u001b[0;36mfbeta_score\u001b[0;34m(y_true, y_pred, beta, labels, pos_label, average, sample_weight, zero_division)\u001b[0m\n\u001b[1;32m   1258\u001b[0m         \u001b[0mwarn_for\u001b[0m\u001b[0;34m=\u001b[0m\u001b[0;34m(\u001b[0m\u001b[0;34m\"f-score\"\u001b[0m\u001b[0;34m,\u001b[0m\u001b[0;34m)\u001b[0m\u001b[0;34m,\u001b[0m\u001b[0;34m\u001b[0m\u001b[0;34m\u001b[0m\u001b[0m\n\u001b[1;32m   1259\u001b[0m         \u001b[0msample_weight\u001b[0m\u001b[0;34m=\u001b[0m\u001b[0msample_weight\u001b[0m\u001b[0;34m,\u001b[0m\u001b[0;34m\u001b[0m\u001b[0;34m\u001b[0m\u001b[0m\n\u001b[0;32m-> 1260\u001b[0;31m         \u001b[0mzero_division\u001b[0m\u001b[0;34m=\u001b[0m\u001b[0mzero_division\u001b[0m\u001b[0;34m,\u001b[0m\u001b[0;34m\u001b[0m\u001b[0;34m\u001b[0m\u001b[0m\n\u001b[0m\u001b[1;32m   1261\u001b[0m     )\n\u001b[1;32m   1262\u001b[0m     \u001b[0;32mreturn\u001b[0m \u001b[0mf\u001b[0m\u001b[0;34m\u001b[0m\u001b[0;34m\u001b[0m\u001b[0m\n",
            "\u001b[0;32m/usr/local/lib/python3.7/dist-packages/sklearn/metrics/_classification.py\u001b[0m in \u001b[0;36mprecision_recall_fscore_support\u001b[0;34m(y_true, y_pred, beta, labels, pos_label, average, warn_for, sample_weight, zero_division)\u001b[0m\n\u001b[1;32m   1532\u001b[0m     \u001b[0;32mif\u001b[0m \u001b[0mbeta\u001b[0m \u001b[0;34m<\u001b[0m \u001b[0;36m0\u001b[0m\u001b[0;34m:\u001b[0m\u001b[0;34m\u001b[0m\u001b[0;34m\u001b[0m\u001b[0m\n\u001b[1;32m   1533\u001b[0m         \u001b[0;32mraise\u001b[0m \u001b[0mValueError\u001b[0m\u001b[0;34m(\u001b[0m\u001b[0;34m\"beta should be >=0 in the F-beta score\"\u001b[0m\u001b[0;34m)\u001b[0m\u001b[0;34m\u001b[0m\u001b[0;34m\u001b[0m\u001b[0m\n\u001b[0;32m-> 1534\u001b[0;31m     \u001b[0mlabels\u001b[0m \u001b[0;34m=\u001b[0m \u001b[0m_check_set_wise_labels\u001b[0m\u001b[0;34m(\u001b[0m\u001b[0my_true\u001b[0m\u001b[0;34m,\u001b[0m \u001b[0my_pred\u001b[0m\u001b[0;34m,\u001b[0m \u001b[0maverage\u001b[0m\u001b[0;34m,\u001b[0m \u001b[0mlabels\u001b[0m\u001b[0;34m,\u001b[0m \u001b[0mpos_label\u001b[0m\u001b[0;34m)\u001b[0m\u001b[0;34m\u001b[0m\u001b[0;34m\u001b[0m\u001b[0m\n\u001b[0m\u001b[1;32m   1535\u001b[0m \u001b[0;34m\u001b[0m\u001b[0m\n\u001b[1;32m   1536\u001b[0m     \u001b[0;31m# Calculate tp_sum, pred_sum, true_sum ###\u001b[0m\u001b[0;34m\u001b[0m\u001b[0;34m\u001b[0m\u001b[0;34m\u001b[0m\u001b[0m\n",
            "\u001b[0;32m/usr/local/lib/python3.7/dist-packages/sklearn/metrics/_classification.py\u001b[0m in \u001b[0;36m_check_set_wise_labels\u001b[0;34m(y_true, y_pred, average, labels, pos_label)\u001b[0m\n\u001b[1;32m   1336\u001b[0m         \u001b[0;32mraise\u001b[0m \u001b[0mValueError\u001b[0m\u001b[0;34m(\u001b[0m\u001b[0;34m\"average has to be one of \"\u001b[0m \u001b[0;34m+\u001b[0m \u001b[0mstr\u001b[0m\u001b[0;34m(\u001b[0m\u001b[0maverage_options\u001b[0m\u001b[0;34m)\u001b[0m\u001b[0;34m)\u001b[0m\u001b[0;34m\u001b[0m\u001b[0;34m\u001b[0m\u001b[0m\n\u001b[1;32m   1337\u001b[0m \u001b[0;34m\u001b[0m\u001b[0m\n\u001b[0;32m-> 1338\u001b[0;31m     \u001b[0my_type\u001b[0m\u001b[0;34m,\u001b[0m \u001b[0my_true\u001b[0m\u001b[0;34m,\u001b[0m \u001b[0my_pred\u001b[0m \u001b[0;34m=\u001b[0m \u001b[0m_check_targets\u001b[0m\u001b[0;34m(\u001b[0m\u001b[0my_true\u001b[0m\u001b[0;34m,\u001b[0m \u001b[0my_pred\u001b[0m\u001b[0;34m)\u001b[0m\u001b[0;34m\u001b[0m\u001b[0;34m\u001b[0m\u001b[0m\n\u001b[0m\u001b[1;32m   1339\u001b[0m     \u001b[0;31m# Convert to Python primitive type to avoid NumPy type / Python str\u001b[0m\u001b[0;34m\u001b[0m\u001b[0;34m\u001b[0m\u001b[0;34m\u001b[0m\u001b[0m\n\u001b[1;32m   1340\u001b[0m     \u001b[0;31m# comparison. See https://github.com/numpy/numpy/issues/6784\u001b[0m\u001b[0;34m\u001b[0m\u001b[0;34m\u001b[0m\u001b[0;34m\u001b[0m\u001b[0m\n",
            "\u001b[0;32m/usr/local/lib/python3.7/dist-packages/sklearn/metrics/_classification.py\u001b[0m in \u001b[0;36m_check_targets\u001b[0;34m(y_true, y_pred)\u001b[0m\n\u001b[1;32m     93\u001b[0m         raise ValueError(\n\u001b[1;32m     94\u001b[0m             \"Classification metrics can't handle a mix of {0} and {1} targets\".format(\n\u001b[0;32m---> 95\u001b[0;31m                 \u001b[0mtype_true\u001b[0m\u001b[0;34m,\u001b[0m \u001b[0mtype_pred\u001b[0m\u001b[0;34m\u001b[0m\u001b[0;34m\u001b[0m\u001b[0m\n\u001b[0m\u001b[1;32m     96\u001b[0m             )\n\u001b[1;32m     97\u001b[0m         )\n",
            "\u001b[0;31mValueError\u001b[0m: Classification metrics can't handle a mix of multiclass and continuous-multioutput targets"
          ]
        }
      ]
    },
    {
      "cell_type": "code",
      "metadata": {
        "collapsed": true,
        "id": "5pdb8vQcqePb"
      },
      "source": [
        "predictions = pd.DataFrame(ml_dataset_test['animal_id_outcome'])\n",
        "y_pred_df = pd.DataFrame(final_predict1, columns=['outcome_type'])\n",
        "results = pd.concat([predictions, y_pred_df], axis=1)\n",
        "results['outcome_type']= results['outcome_type'].map({ 8 :'Adoption', 7: 'Transfer', 6: 'Return to Owner', 5 : 'Euthanasia' , 4 : 'Died' , 3 : 'Missing' , 2 : 'Relocate' ,  1 : 'Rto-Adopt' , 0 : 'Disposal' }).astype(str)"
      ],
      "execution_count": null,
      "outputs": []
    },
    {
      "cell_type": "code",
      "metadata": {
        "collapsed": true,
        "id": "8QzIw97NqePb"
      },
      "source": [
        "results.to_csv('/content/aac_shelter_outcomes.csv', index = False)"
      ],
      "execution_count": null,
      "outputs": []
    },
    {
      "cell_type": "markdown",
      "metadata": {
        "id": "hIKUR49jqePe"
      },
      "source": [
        "**Final results:**\n",
        "\n",
        "Best Model: XGBoost ( after feature engineering\n",
        "\n",
        "Best F1_score for training set :64.68"
      ]
    }
  ]
}